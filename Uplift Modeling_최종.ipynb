{
 "cells": [
  {
   "cell_type": "markdown",
   "metadata": {},
   "source": [
    "# uplift scoring을 이용한 Custromer Segmentation "
   ]
  },
  {
   "cell_type": "markdown",
   "metadata": {},
   "source": [
    "**데이터 셋 내의 각 집단의 분포가 모두 동일하게 나타나고 있습니다!**<br>\n",
    "**이 경우 이 데이터 셋은 random Clinical Trial(랜덤 실험)으로 진행되어 각 집단이 Homogeneous(균일) 성질을 만족하는 것을 알수 있습니다**\n",
    "\n",
    "1. 각 처치(Treatment)와 그에 대한 Target 변수들이 독립임을 알 수 있고,\n",
    "2. 0<P(Z=1|X)<1 을 만족함을 알 수 있습니다. <br> (이 의미는 Feature가 주어졌을 때 처치가 어느 한쪽으로 치우쳐져 있지 않음을 의미합니다. <br> 즉, 남성(men=1) 모두에게 처치가 가해져 있지 않다. 데이터셋 내 집단에게 균등하게 처치가 이루어 졌다. 이런 식으로 이해하면 될 것 같습니다.)\n",
    "\n",
    "이 __두가지 조건__ 을 만족하면 우리는 Strong Ignorability Assumption이 만족하였다고 합니다.<br>\n",
    "이 것을 만족한다면 일반적인 상관관계를 통해서도 인과관계를 추론할 수 있게 됩니다.<br>\n",
    "또한 단순 집단 간의 평균의 차이를 구해 처치(Treatment)가 어떠한 차이를 만들어내는지 계산할 수 있게 됩니다.\n",
    "<br>\n",
    "하지만 만일 위의 조건이 만족하지 않는다면, 처치(Treatment)와 결과(Target)에 모두 영향을 주는 교란변수(Confounder)를 도메인 지식으로 찾아내야 합니다. 가령 아래 데이터 셋으로 예를 들면 History가 높은 사람에게는 광고 메일을 보내지 않았고, Recency가 오래된 고객들에게는 광고 메일을 보낸 분포가 나왔다면 History와 Recency가 교란 변수가 되고, 이 교란변수를 조건부로 하여 교란변수의 효과를 상쇄시킨 뒤 차이를 계산하는 CATE(Conditional Average Treatment Estimation)을 진행해야 하며 이 과정은 꽤나 복잡합니다. \n",
    "<br>이는 Heterogeneous한 집단에서 인과관계를 추론하는 방식이며 저희 데이터셋은 Homogeneous하므로 해당은 되지 않습니다. \n",
    "<br>\n",
    "CATE를 추정하는 방식을 간략하게 설명하면 다음과 같습니다. \n",
    "\n",
    "1. Counfounders를 찾아낸 뒤 이를 조건부로 하여 처치(Treatment)를 받을 확률을 계산합니다. <br> (P(Z=1|X) where Z : Treatment, X : Confounders)\n",
    "2. 우리는 이를 Propensity Score(경향성 점수)라고 합니다. 경향성 점수를 사용하는 이유는 교란변수를 조건부로 두었기에 교란변수의 영향을 상쇄시킬 수 있기 때문입니다. \n",
    "3. 또한, Propensity Score를 input으로 하고, 우리가 관측한 결과(여기에서는 Target값들 즉, Target visit, spend, Conversion이 됩니다.)를 Target으로 하는 Response Function을 추정합니다. \n",
    "4. 이 때 머신러닝 알고리즘이 사용됩니다. 주로 트리 기반으로 분류 알고리즘인 XGBoost, LightGBM, RandomForest 등이 사용되며 적용되는 방법은 3가지가 있습니다 <br>\n",
    "<ul>\n",
    "<li>T-Learner : Two-model method라고 불리며, treatment를 받은 집단과 그렇지 않은 집단을 다른 모델로 학습하여 각각의 Treatment Effect를 계산하여 그 차이를 계산합니다.</li>\n",
    "<li>S-Learner : One -model method라고 불리며, 하나의 모델로 학습을 한 뒤 treatment를 받은 집단과 그렇지 않은 집단으로 나누어 Treatment Effect를 계산하여 그 차이를 계산합니다. </li>\n",
    "<li>X-Learner : Two-model로 우선 학습을 한 뒤 treatment를 받은 집단과 그렇지 않은 집단을 Cross하여 결과를 예측하여 가상의 예측값을 추론합니다. 그리고 개개인의 Treatment Effect를 계산하여 그 차이를 평균하여 CATE를 계산합니다.</li>\n",
    "</ul><br>\n",
    "5. 우리는 이 과정을 통해 동질하지 않은 집단에서 광고가 효과가 있었는지 그 효과를 추정한다고 합니다\n",
    "6. 즉. 우리 데이터셋은 랜덤실험을 만족하는 Homogeneous한 셋이기 때문에 위 과정을 거치지 않고 평균의 차이를 계산하여 광고의 효과를 알아낼 수 있습니다. <br> 다만 ATE 적용 후, S-Learner과 유사하게 하나의 머신러닝 알고리즘 모델로 학습해서 Treatment를 받은 집단과 그렇지 않은 집단을 나눠 광고 집행(Treatment) 효과를 알아볼 예정입니다. \n",
    "\n",
    "<참조 : Metalearners for estimating heterogeneous treatment effects using machine learning (Sören R. Künzel , Jasjeet S. Sekhon , Peter J. Bickel , Bin Yu. 2019)>"
   ]
  },
  {
   "cell_type": "markdown",
   "metadata": {},
   "source": [
    "**Hillstrom dataset**<br>  \n",
    "이 데이터 셋은 남자 머천다이저가 제안한 이메일 광고를 받은 사람, 여자 머천다이저가 제안한 이메일 광고를 받은 사람, 아무런 광고를 받지 못한 사람으로 분류되서 각 사람들의 feature랑 웹사이트 방문 횟수 등이 있는 데이터 셋입니다. <br>이를 통해 광고가 효과가 있는지, 어떤 머천다이저가 보낸 광고가 효과가 있는지 여부를 알 수 있는 데이터셋입니다."
   ]
  },
  {
   "cell_type": "code",
   "execution_count": 408,
   "metadata": {
    "scrolled": true
   },
   "outputs": [
    {
     "name": "stdout",
     "output_type": "stream",
     "text": [
      "Requirement already satisfied: pyuplift in c:\\users\\home\\anaconda3\\lib\\site-packages (0.0.3.6)\n",
      "Requirement already satisfied: pandas>=0.23.4 in c:\\users\\home\\anaconda3\\lib\\site-packages (from pyuplift) (1.0.1)\n",
      "Requirement already satisfied: scikit-learn>=0.20.0 in c:\\users\\home\\anaconda3\\lib\\site-packages (from pyuplift) (0.24.2)\n",
      "Requirement already satisfied: requests>=2.19.1 in c:\\users\\home\\anaconda3\\lib\\site-packages (from pyuplift) (2.22.0)\n",
      "Requirement already satisfied: python-dateutil>=2.6.1 in c:\\users\\home\\anaconda3\\lib\\site-packages (from pandas>=0.23.4->pyuplift) (2.8.1)\n",
      "Requirement already satisfied: numpy>=1.13.3 in c:\\users\\home\\anaconda3\\lib\\site-packages (from pandas>=0.23.4->pyuplift) (1.18.1)\n",
      "Requirement already satisfied: pytz>=2017.2 in c:\\users\\home\\anaconda3\\lib\\site-packages (from pandas>=0.23.4->pyuplift) (2019.3)\n",
      "Requirement already satisfied: six>=1.5 in c:\\users\\home\\anaconda3\\lib\\site-packages (from python-dateutil>=2.6.1->pandas>=0.23.4->pyuplift) (1.14.0)\n",
      "Requirement already satisfied: idna<2.9,>=2.5 in c:\\users\\home\\anaconda3\\lib\\site-packages (from requests>=2.19.1->pyuplift) (2.8)\n",
      "Requirement already satisfied: urllib3!=1.25.0,!=1.25.1,<1.26,>=1.21.1 in c:\\users\\home\\anaconda3\\lib\\site-packages (from requests>=2.19.1->pyuplift) (1.25.8)\n",
      "Requirement already satisfied: chardet<3.1.0,>=3.0.2 in c:\\users\\home\\anaconda3\\lib\\site-packages (from requests>=2.19.1->pyuplift) (3.0.4)\n",
      "Requirement already satisfied: certifi>=2017.4.17 in c:\\users\\home\\anaconda3\\lib\\site-packages (from requests>=2.19.1->pyuplift) (2019.11.28)\n",
      "Requirement already satisfied: scipy>=0.19.1 in c:\\users\\home\\anaconda3\\lib\\site-packages (from scikit-learn>=0.20.0->pyuplift) (1.4.1)\n",
      "Requirement already satisfied: joblib>=0.11 in c:\\users\\home\\anaconda3\\lib\\site-packages (from scikit-learn>=0.20.0->pyuplift) (0.14.1)\n",
      "Requirement already satisfied: threadpoolctl>=2.0.0 in c:\\users\\home\\anaconda3\\lib\\site-packages (from scikit-learn>=0.20.0->pyuplift) (2.1.0)\n"
     ]
    }
   ],
   "source": [
    "!pip install pyuplift"
   ]
  },
  {
   "cell_type": "markdown",
   "metadata": {},
   "source": [
    "# Hilstrom Data"
   ]
  },
  {
   "cell_type": "code",
   "execution_count": 1,
   "metadata": {},
   "outputs": [],
   "source": [
    "import pandas as pd\n",
    "import numpy as np\n",
    "import matplotlib.pyplot as plt\n",
    "import seaborn as sns\n",
    "from pyuplift.datasets import load_hillstrom_email_marketing\n",
    "\n",
    "df = load_hillstrom_email_marketing()"
   ]
  },
  {
   "cell_type": "code",
   "execution_count": 2,
   "metadata": {
    "scrolled": true
   },
   "outputs": [
    {
     "data": {
      "text/plain": [
       "dict_keys(['DESCR', 'data', 'feature_names', 'treatment', 'target', 'target_spend', 'target_visit', 'target_conversion'])"
      ]
     },
     "execution_count": 2,
     "metadata": {},
     "output_type": "execute_result"
    }
   ],
   "source": [
    " df.keys()"
   ]
  },
  {
   "cell_type": "code",
   "execution_count": 3,
   "metadata": {},
   "outputs": [
    {
     "data": {
      "text/plain": [
       "array([[ 10.  , 142.44,   1.  , ...,   0.  ,   1.  ,   0.  ],\n",
       "       [  6.  , 329.08,   1.  , ...,   0.  ,   0.  ,   1.  ],\n",
       "       [  7.  , 180.65,   0.  , ...,   0.  ,   0.  ,   1.  ],\n",
       "       ...,\n",
       "       [  6.  ,  29.99,   1.  , ...,   0.  ,   1.  ,   0.  ],\n",
       "       [  1.  , 552.94,   1.  , ...,   1.  ,   0.  ,   0.  ],\n",
       "       [  1.  , 472.82,   0.  , ...,   0.  ,   0.  ,   1.  ]])"
      ]
     },
     "metadata": {},
     "output_type": "display_data"
    },
    {
     "data": {
      "text/plain": [
       "['recency',\n",
       " 'history',\n",
       " 'mens',\n",
       " 'womens',\n",
       " 'newbie',\n",
       " 'zip_code_Rural',\n",
       " 'zip_code_Surburban',\n",
       " 'zip_code_Urban',\n",
       " 'history_segment_$0 - $100',\n",
       " 'history_segment_$1,000 +',\n",
       " 'history_segment_$100 - $200',\n",
       " 'history_segment_$200 - $350',\n",
       " 'history_segment_$350 - $500',\n",
       " 'history_segment_$500 - $750',\n",
       " 'history_segment_$750 - $1,000',\n",
       " 'channel_Multichannel',\n",
       " 'channel_Phone',\n",
       " 'channel_Web']"
      ]
     },
     "metadata": {},
     "output_type": "display_data"
    }
   ],
   "source": [
    "display(df['data'])\n",
    "display(df['feature_names'])"
   ]
  },
  {
   "cell_type": "markdown",
   "metadata": {},
   "source": [
    "## Dataset Decription"
   ]
  },
  {
   "cell_type": "markdown",
   "metadata": {},
   "source": [
    "**Feature Dataset**\n",
    "\n",
    "1. Recency : 가장 최근 결제가 발생했던 월\n",
    "2. History : 지난해 실제 지출했던 금액($)\n",
    "3. Newbie : 지난해 처음 가입한 고객인지 (1: Newbie)\n",
    "4. Zip_code : 시골,근교,도시로 구분\n",
    "5. History_segment : 지난해 지출한 금액을 기준으로 분류\n",
    "6. Channel : 지난해 결제를 진행한 수단(Phone : 스마트폰앱을 통해 / Web : 웹을 통해 / Multi : 섞여있음)\n",
    "7. Treatment : 처치 (1: 남성용 상품에 대한 광고가 적힌 이메일을 받은 집단 / 2: 여성용 상품에 대한 광고가 적힌 이메일을 받은 집단 / 0: 아무런 광고를 받지 못한 집단(Control Group))\n",
    "8. Man / woman : 고객이 작년에 남성/여성 상품을 구매를 한 여부. (0 / 1)"
   ]
  },
  {
   "cell_type": "code",
   "execution_count": 4,
   "metadata": {
    "scrolled": true
   },
   "outputs": [
    {
     "data": {
      "text/html": [
       "<div>\n",
       "<style scoped>\n",
       "    .dataframe tbody tr th:only-of-type {\n",
       "        vertical-align: middle;\n",
       "    }\n",
       "\n",
       "    .dataframe tbody tr th {\n",
       "        vertical-align: top;\n",
       "    }\n",
       "\n",
       "    .dataframe thead th {\n",
       "        text-align: right;\n",
       "    }\n",
       "</style>\n",
       "<table border=\"1\" class=\"dataframe\">\n",
       "  <thead>\n",
       "    <tr style=\"text-align: right;\">\n",
       "      <th></th>\n",
       "      <th>recency</th>\n",
       "      <th>history</th>\n",
       "      <th>mens</th>\n",
       "      <th>womens</th>\n",
       "      <th>newbie</th>\n",
       "      <th>zip_code_Rural</th>\n",
       "      <th>zip_code_Surburban</th>\n",
       "      <th>zip_code_Urban</th>\n",
       "      <th>history_segment_$0 - $100</th>\n",
       "      <th>history_segment_$1,000 +</th>\n",
       "      <th>history_segment_$100 - $200</th>\n",
       "      <th>history_segment_$200 - $350</th>\n",
       "      <th>history_segment_$350 - $500</th>\n",
       "      <th>history_segment_$500 - $750</th>\n",
       "      <th>history_segment_$750 - $1,000</th>\n",
       "      <th>channel_Multichannel</th>\n",
       "      <th>channel_Phone</th>\n",
       "      <th>channel_Web</th>\n",
       "      <th>treatment</th>\n",
       "    </tr>\n",
       "  </thead>\n",
       "  <tbody>\n",
       "    <tr>\n",
       "      <th>0</th>\n",
       "      <td>10.0</td>\n",
       "      <td>142.44</td>\n",
       "      <td>1.0</td>\n",
       "      <td>0.0</td>\n",
       "      <td>0.0</td>\n",
       "      <td>0.0</td>\n",
       "      <td>1.0</td>\n",
       "      <td>0.0</td>\n",
       "      <td>0.0</td>\n",
       "      <td>0.0</td>\n",
       "      <td>1.0</td>\n",
       "      <td>0.0</td>\n",
       "      <td>0.0</td>\n",
       "      <td>0.0</td>\n",
       "      <td>0.0</td>\n",
       "      <td>0.0</td>\n",
       "      <td>1.0</td>\n",
       "      <td>0.0</td>\n",
       "      <td>2</td>\n",
       "    </tr>\n",
       "    <tr>\n",
       "      <th>1</th>\n",
       "      <td>6.0</td>\n",
       "      <td>329.08</td>\n",
       "      <td>1.0</td>\n",
       "      <td>1.0</td>\n",
       "      <td>1.0</td>\n",
       "      <td>1.0</td>\n",
       "      <td>0.0</td>\n",
       "      <td>0.0</td>\n",
       "      <td>0.0</td>\n",
       "      <td>0.0</td>\n",
       "      <td>0.0</td>\n",
       "      <td>1.0</td>\n",
       "      <td>0.0</td>\n",
       "      <td>0.0</td>\n",
       "      <td>0.0</td>\n",
       "      <td>0.0</td>\n",
       "      <td>0.0</td>\n",
       "      <td>1.0</td>\n",
       "      <td>0</td>\n",
       "    </tr>\n",
       "    <tr>\n",
       "      <th>2</th>\n",
       "      <td>7.0</td>\n",
       "      <td>180.65</td>\n",
       "      <td>0.0</td>\n",
       "      <td>1.0</td>\n",
       "      <td>1.0</td>\n",
       "      <td>0.0</td>\n",
       "      <td>1.0</td>\n",
       "      <td>0.0</td>\n",
       "      <td>0.0</td>\n",
       "      <td>0.0</td>\n",
       "      <td>1.0</td>\n",
       "      <td>0.0</td>\n",
       "      <td>0.0</td>\n",
       "      <td>0.0</td>\n",
       "      <td>0.0</td>\n",
       "      <td>0.0</td>\n",
       "      <td>0.0</td>\n",
       "      <td>1.0</td>\n",
       "      <td>2</td>\n",
       "    </tr>\n",
       "    <tr>\n",
       "      <th>3</th>\n",
       "      <td>9.0</td>\n",
       "      <td>675.83</td>\n",
       "      <td>1.0</td>\n",
       "      <td>0.0</td>\n",
       "      <td>1.0</td>\n",
       "      <td>1.0</td>\n",
       "      <td>0.0</td>\n",
       "      <td>0.0</td>\n",
       "      <td>0.0</td>\n",
       "      <td>0.0</td>\n",
       "      <td>0.0</td>\n",
       "      <td>0.0</td>\n",
       "      <td>0.0</td>\n",
       "      <td>1.0</td>\n",
       "      <td>0.0</td>\n",
       "      <td>0.0</td>\n",
       "      <td>0.0</td>\n",
       "      <td>1.0</td>\n",
       "      <td>1</td>\n",
       "    </tr>\n",
       "    <tr>\n",
       "      <th>4</th>\n",
       "      <td>2.0</td>\n",
       "      <td>45.34</td>\n",
       "      <td>1.0</td>\n",
       "      <td>0.0</td>\n",
       "      <td>0.0</td>\n",
       "      <td>0.0</td>\n",
       "      <td>0.0</td>\n",
       "      <td>1.0</td>\n",
       "      <td>1.0</td>\n",
       "      <td>0.0</td>\n",
       "      <td>0.0</td>\n",
       "      <td>0.0</td>\n",
       "      <td>0.0</td>\n",
       "      <td>0.0</td>\n",
       "      <td>0.0</td>\n",
       "      <td>0.0</td>\n",
       "      <td>0.0</td>\n",
       "      <td>1.0</td>\n",
       "      <td>2</td>\n",
       "    </tr>\n",
       "    <tr>\n",
       "      <th>...</th>\n",
       "      <td>...</td>\n",
       "      <td>...</td>\n",
       "      <td>...</td>\n",
       "      <td>...</td>\n",
       "      <td>...</td>\n",
       "      <td>...</td>\n",
       "      <td>...</td>\n",
       "      <td>...</td>\n",
       "      <td>...</td>\n",
       "      <td>...</td>\n",
       "      <td>...</td>\n",
       "      <td>...</td>\n",
       "      <td>...</td>\n",
       "      <td>...</td>\n",
       "      <td>...</td>\n",
       "      <td>...</td>\n",
       "      <td>...</td>\n",
       "      <td>...</td>\n",
       "      <td>...</td>\n",
       "    </tr>\n",
       "    <tr>\n",
       "      <th>63995</th>\n",
       "      <td>10.0</td>\n",
       "      <td>105.54</td>\n",
       "      <td>1.0</td>\n",
       "      <td>0.0</td>\n",
       "      <td>0.0</td>\n",
       "      <td>0.0</td>\n",
       "      <td>0.0</td>\n",
       "      <td>1.0</td>\n",
       "      <td>0.0</td>\n",
       "      <td>0.0</td>\n",
       "      <td>1.0</td>\n",
       "      <td>0.0</td>\n",
       "      <td>0.0</td>\n",
       "      <td>0.0</td>\n",
       "      <td>0.0</td>\n",
       "      <td>0.0</td>\n",
       "      <td>0.0</td>\n",
       "      <td>1.0</td>\n",
       "      <td>1</td>\n",
       "    </tr>\n",
       "    <tr>\n",
       "      <th>63996</th>\n",
       "      <td>5.0</td>\n",
       "      <td>38.91</td>\n",
       "      <td>0.0</td>\n",
       "      <td>1.0</td>\n",
       "      <td>1.0</td>\n",
       "      <td>0.0</td>\n",
       "      <td>0.0</td>\n",
       "      <td>1.0</td>\n",
       "      <td>1.0</td>\n",
       "      <td>0.0</td>\n",
       "      <td>0.0</td>\n",
       "      <td>0.0</td>\n",
       "      <td>0.0</td>\n",
       "      <td>0.0</td>\n",
       "      <td>0.0</td>\n",
       "      <td>0.0</td>\n",
       "      <td>1.0</td>\n",
       "      <td>0.0</td>\n",
       "      <td>1</td>\n",
       "    </tr>\n",
       "    <tr>\n",
       "      <th>63997</th>\n",
       "      <td>6.0</td>\n",
       "      <td>29.99</td>\n",
       "      <td>1.0</td>\n",
       "      <td>0.0</td>\n",
       "      <td>1.0</td>\n",
       "      <td>0.0</td>\n",
       "      <td>0.0</td>\n",
       "      <td>1.0</td>\n",
       "      <td>1.0</td>\n",
       "      <td>0.0</td>\n",
       "      <td>0.0</td>\n",
       "      <td>0.0</td>\n",
       "      <td>0.0</td>\n",
       "      <td>0.0</td>\n",
       "      <td>0.0</td>\n",
       "      <td>0.0</td>\n",
       "      <td>1.0</td>\n",
       "      <td>0.0</td>\n",
       "      <td>1</td>\n",
       "    </tr>\n",
       "    <tr>\n",
       "      <th>63998</th>\n",
       "      <td>1.0</td>\n",
       "      <td>552.94</td>\n",
       "      <td>1.0</td>\n",
       "      <td>0.0</td>\n",
       "      <td>1.0</td>\n",
       "      <td>0.0</td>\n",
       "      <td>1.0</td>\n",
       "      <td>0.0</td>\n",
       "      <td>0.0</td>\n",
       "      <td>0.0</td>\n",
       "      <td>0.0</td>\n",
       "      <td>0.0</td>\n",
       "      <td>0.0</td>\n",
       "      <td>1.0</td>\n",
       "      <td>0.0</td>\n",
       "      <td>1.0</td>\n",
       "      <td>0.0</td>\n",
       "      <td>0.0</td>\n",
       "      <td>2</td>\n",
       "    </tr>\n",
       "    <tr>\n",
       "      <th>63999</th>\n",
       "      <td>1.0</td>\n",
       "      <td>472.82</td>\n",
       "      <td>0.0</td>\n",
       "      <td>1.0</td>\n",
       "      <td>0.0</td>\n",
       "      <td>0.0</td>\n",
       "      <td>1.0</td>\n",
       "      <td>0.0</td>\n",
       "      <td>0.0</td>\n",
       "      <td>0.0</td>\n",
       "      <td>0.0</td>\n",
       "      <td>0.0</td>\n",
       "      <td>1.0</td>\n",
       "      <td>0.0</td>\n",
       "      <td>0.0</td>\n",
       "      <td>0.0</td>\n",
       "      <td>0.0</td>\n",
       "      <td>1.0</td>\n",
       "      <td>1</td>\n",
       "    </tr>\n",
       "  </tbody>\n",
       "</table>\n",
       "<p>64000 rows × 19 columns</p>\n",
       "</div>"
      ],
      "text/plain": [
       "       recency  history  mens  womens  newbie  zip_code_Rural  \\\n",
       "0         10.0   142.44   1.0     0.0     0.0             0.0   \n",
       "1          6.0   329.08   1.0     1.0     1.0             1.0   \n",
       "2          7.0   180.65   0.0     1.0     1.0             0.0   \n",
       "3          9.0   675.83   1.0     0.0     1.0             1.0   \n",
       "4          2.0    45.34   1.0     0.0     0.0             0.0   \n",
       "...        ...      ...   ...     ...     ...             ...   \n",
       "63995     10.0   105.54   1.0     0.0     0.0             0.0   \n",
       "63996      5.0    38.91   0.0     1.0     1.0             0.0   \n",
       "63997      6.0    29.99   1.0     0.0     1.0             0.0   \n",
       "63998      1.0   552.94   1.0     0.0     1.0             0.0   \n",
       "63999      1.0   472.82   0.0     1.0     0.0             0.0   \n",
       "\n",
       "       zip_code_Surburban  zip_code_Urban  history_segment_$0 - $100  \\\n",
       "0                     1.0             0.0                        0.0   \n",
       "1                     0.0             0.0                        0.0   \n",
       "2                     1.0             0.0                        0.0   \n",
       "3                     0.0             0.0                        0.0   \n",
       "4                     0.0             1.0                        1.0   \n",
       "...                   ...             ...                        ...   \n",
       "63995                 0.0             1.0                        0.0   \n",
       "63996                 0.0             1.0                        1.0   \n",
       "63997                 0.0             1.0                        1.0   \n",
       "63998                 1.0             0.0                        0.0   \n",
       "63999                 1.0             0.0                        0.0   \n",
       "\n",
       "       history_segment_$1,000 +  history_segment_$100 - $200  \\\n",
       "0                           0.0                          1.0   \n",
       "1                           0.0                          0.0   \n",
       "2                           0.0                          1.0   \n",
       "3                           0.0                          0.0   \n",
       "4                           0.0                          0.0   \n",
       "...                         ...                          ...   \n",
       "63995                       0.0                          1.0   \n",
       "63996                       0.0                          0.0   \n",
       "63997                       0.0                          0.0   \n",
       "63998                       0.0                          0.0   \n",
       "63999                       0.0                          0.0   \n",
       "\n",
       "       history_segment_$200 - $350  history_segment_$350 - $500  \\\n",
       "0                              0.0                          0.0   \n",
       "1                              1.0                          0.0   \n",
       "2                              0.0                          0.0   \n",
       "3                              0.0                          0.0   \n",
       "4                              0.0                          0.0   \n",
       "...                            ...                          ...   \n",
       "63995                          0.0                          0.0   \n",
       "63996                          0.0                          0.0   \n",
       "63997                          0.0                          0.0   \n",
       "63998                          0.0                          0.0   \n",
       "63999                          0.0                          1.0   \n",
       "\n",
       "       history_segment_$500 - $750  history_segment_$750 - $1,000  \\\n",
       "0                              0.0                            0.0   \n",
       "1                              0.0                            0.0   \n",
       "2                              0.0                            0.0   \n",
       "3                              1.0                            0.0   \n",
       "4                              0.0                            0.0   \n",
       "...                            ...                            ...   \n",
       "63995                          0.0                            0.0   \n",
       "63996                          0.0                            0.0   \n",
       "63997                          0.0                            0.0   \n",
       "63998                          1.0                            0.0   \n",
       "63999                          0.0                            0.0   \n",
       "\n",
       "       channel_Multichannel  channel_Phone  channel_Web  treatment  \n",
       "0                       0.0            1.0          0.0          2  \n",
       "1                       0.0            0.0          1.0          0  \n",
       "2                       0.0            0.0          1.0          2  \n",
       "3                       0.0            0.0          1.0          1  \n",
       "4                       0.0            0.0          1.0          2  \n",
       "...                     ...            ...          ...        ...  \n",
       "63995                   0.0            0.0          1.0          1  \n",
       "63996                   0.0            1.0          0.0          1  \n",
       "63997                   0.0            1.0          0.0          1  \n",
       "63998                   1.0            0.0          0.0          2  \n",
       "63999                   0.0            0.0          1.0          1  \n",
       "\n",
       "[64000 rows x 19 columns]"
      ]
     },
     "execution_count": 4,
     "metadata": {},
     "output_type": "execute_result"
    }
   ],
   "source": [
    "cols = list(df['feature_names'])\n",
    "data_feature = pd.DataFrame(df['data'],columns=cols)\n",
    "\n",
    "data_feature['treatment'] = df['treatment']\n",
    "data_feature"
   ]
  },
  {
   "cell_type": "markdown",
   "metadata": {},
   "source": [
    "**Target Dataset**\n",
    "\n",
    "1. target_spend : 해당 광고가 있은 후 2주 사이 지출금액\n",
    "2. target_visit : 해당 광고가 있은 후 2주 사이 웹사이트에 방문했는지 (1: 방문 / 0: 방문x)\n",
    "3. target_conversion : 해당 광고가 있은 후 2주 사이 광고가 된 상품을 구매했는지 (1: 구매 / 0: 구매x)"
   ]
  },
  {
   "cell_type": "code",
   "execution_count": 5,
   "metadata": {},
   "outputs": [
    {
     "data": {
      "text/html": [
       "<div>\n",
       "<style scoped>\n",
       "    .dataframe tbody tr th:only-of-type {\n",
       "        vertical-align: middle;\n",
       "    }\n",
       "\n",
       "    .dataframe tbody tr th {\n",
       "        vertical-align: top;\n",
       "    }\n",
       "\n",
       "    .dataframe thead th {\n",
       "        text-align: right;\n",
       "    }\n",
       "</style>\n",
       "<table border=\"1\" class=\"dataframe\">\n",
       "  <thead>\n",
       "    <tr style=\"text-align: right;\">\n",
       "      <th></th>\n",
       "      <th>target_spend</th>\n",
       "      <th>target_visit</th>\n",
       "      <th>target_conversion</th>\n",
       "    </tr>\n",
       "  </thead>\n",
       "  <tbody>\n",
       "    <tr>\n",
       "      <th>0</th>\n",
       "      <td>0.0</td>\n",
       "      <td>0.0</td>\n",
       "      <td>0.0</td>\n",
       "    </tr>\n",
       "    <tr>\n",
       "      <th>1</th>\n",
       "      <td>0.0</td>\n",
       "      <td>0.0</td>\n",
       "      <td>0.0</td>\n",
       "    </tr>\n",
       "    <tr>\n",
       "      <th>2</th>\n",
       "      <td>0.0</td>\n",
       "      <td>0.0</td>\n",
       "      <td>0.0</td>\n",
       "    </tr>\n",
       "    <tr>\n",
       "      <th>3</th>\n",
       "      <td>0.0</td>\n",
       "      <td>0.0</td>\n",
       "      <td>0.0</td>\n",
       "    </tr>\n",
       "    <tr>\n",
       "      <th>4</th>\n",
       "      <td>0.0</td>\n",
       "      <td>0.0</td>\n",
       "      <td>0.0</td>\n",
       "    </tr>\n",
       "    <tr>\n",
       "      <th>...</th>\n",
       "      <td>...</td>\n",
       "      <td>...</td>\n",
       "      <td>...</td>\n",
       "    </tr>\n",
       "    <tr>\n",
       "      <th>63995</th>\n",
       "      <td>0.0</td>\n",
       "      <td>0.0</td>\n",
       "      <td>0.0</td>\n",
       "    </tr>\n",
       "    <tr>\n",
       "      <th>63996</th>\n",
       "      <td>0.0</td>\n",
       "      <td>0.0</td>\n",
       "      <td>0.0</td>\n",
       "    </tr>\n",
       "    <tr>\n",
       "      <th>63997</th>\n",
       "      <td>0.0</td>\n",
       "      <td>0.0</td>\n",
       "      <td>0.0</td>\n",
       "    </tr>\n",
       "    <tr>\n",
       "      <th>63998</th>\n",
       "      <td>0.0</td>\n",
       "      <td>0.0</td>\n",
       "      <td>0.0</td>\n",
       "    </tr>\n",
       "    <tr>\n",
       "      <th>63999</th>\n",
       "      <td>0.0</td>\n",
       "      <td>0.0</td>\n",
       "      <td>0.0</td>\n",
       "    </tr>\n",
       "  </tbody>\n",
       "</table>\n",
       "<p>64000 rows × 3 columns</p>\n",
       "</div>"
      ],
      "text/plain": [
       "       target_spend  target_visit  target_conversion\n",
       "0               0.0           0.0                0.0\n",
       "1               0.0           0.0                0.0\n",
       "2               0.0           0.0                0.0\n",
       "3               0.0           0.0                0.0\n",
       "4               0.0           0.0                0.0\n",
       "...             ...           ...                ...\n",
       "63995           0.0           0.0                0.0\n",
       "63996           0.0           0.0                0.0\n",
       "63997           0.0           0.0                0.0\n",
       "63998           0.0           0.0                0.0\n",
       "63999           0.0           0.0                0.0\n",
       "\n",
       "[64000 rows x 3 columns]"
      ]
     },
     "execution_count": 5,
     "metadata": {},
     "output_type": "execute_result"
    }
   ],
   "source": [
    "cols_target = ['target_spend','target_visit','target_conversion']\n",
    "array_target = np.vstack((df['target_spend'],df['target_visit'],df['target_conversion'])).T\n",
    "data_target = pd.DataFrame(array_target,columns=cols_target)\n",
    "data_target"
   ]
  },
  {
   "cell_type": "code",
   "execution_count": 6,
   "metadata": {},
   "outputs": [],
   "source": [
    "dataset = pd.concat([data_feature,data_target],axis=1)"
   ]
  },
  {
   "cell_type": "markdown",
   "metadata": {},
   "source": [
    "## Task"
   ]
  },
  {
   "cell_type": "markdown",
   "metadata": {},
   "source": [
    "**Claim1 : 해당 광고가 소비자들의 지출을 늘리는데 성공적으로 기여하는가?**\n",
    "\n",
    "**Claim2 : 고객을 Segmentation하라!**"
   ]
  },
  {
   "attachments": {
    "image.png": {
     "image/png": "[encoded data removed]"
    }
   },
   "cell_type": "markdown",
   "metadata": {},
   "source": [
    "![image.png](attachment:image.png)"
   ]
  },
  {
   "cell_type": "markdown",
   "metadata": {},
   "source": [
    "1. Persuadables : 광고를 통해 실제 그 효과를 거둘 수 있는 고객\n",
    "2. Sure things : 광고를 하지 않아도 해당 제품을 소비하는 고객\n",
    "3. Lost cause : 광고여부에 관계없이 소비를 하지 않는 고객\n",
    "4. Sleeping dogs : 광고를 할 경우 오히려 소비를 하지 않는 고객\n",
    "\n",
    "\n",
    "-> 중요한 것은 Persuadables와 Sleeping dogs를 정확하게 구별해내는 것이다. 왜냐하면 Sure things와 Lost Cause는 광고에 큰 영향을 받지 않으나 나머지 두 집단은 광고에 영향을 크게 받기 때문이다. 물론 4고객을 정확하게 분류하여 Persuadables에게만 광고를 보내는 것이 제일 효율적이나 실제 모델의 오차 등을 고려했을 때, Sleeping dogs를 가려내는 것이 가장 중요한 Task가 될 것이다."
   ]
  },
  {
   "cell_type": "markdown",
   "metadata": {},
   "source": [
    "## Model Description"
   ]
  },
  {
   "cell_type": "markdown",
   "metadata": {},
   "source": [
    "**UpLift Model**\n",
    "\n",
    "In an ideal world we would be able to identify each individual by their “type”, and we would target the so-called “persuadables” alone, as this is where we can get the most return on our investment. And we definitely wouldn’t want to target the “sleeping dogs”. In reality we cannot hope to discover the “type of person” an individual is, because we can only show them one treatment! Instead, we look to the power of statistics and machine learning to tell us what groups of “similar people” would do on average.\n",
    "\n",
    "Each individual gets a lift score between -1 and 1, and this is used to determine who to target. If we have an accurate model, those with higher positive scores will respond better to the treatment and therefore should be targeted, whereas those with low negative scores will respond badly and should not be targeted."
   ]
  },
  {
   "cell_type": "markdown",
   "metadata": {},
   "source": [
    "이상적인 세계에서 우리는 각각의 개인을 그들의 \"유형\"으로 식별할 수 있을 것이고, 우리는 소위 \" 설득 가능한\" 사람들만을 목표로 할 것입니다. \n",
    "왜냐하면 이곳이 우리가 투자 수익을 가장 많이 얻을 수 있는 곳이기 때문입니다. \n",
    "그리고 우리는 분명히 \"잠자는 개들\"을 목표로 하고 싶지 않을 것이다. \n",
    "현실적으로 우리는 한 개인이 어떤 사람인지 발견하기를 바랄 수 없습니다. \n",
    "그들에게 오직 한 가지 treatment만을 보여줄 수 있기 때문입니다! \n",
    "대신, \"비슷한 사람들\"의 집단이 평균적으로 어떤 일을 할 것인지 알려주기 위해 통계와 기계 학습의 힘을 기대한다.\n",
    "\n",
    "각 개인은 -1에서 1 사이의 lift 점수를 받고, 이 점수를 사용하여 누구를 타깃으로 할지 결정합니다. \n",
    "정확한 모델이 있다면 양성 점수가 높은 사람이 치료에 더 잘 반응할 것이므로 표적이 되어야 하는 반면, \n",
    "음성 점수가 낮은 사람은 반응이 나쁘므로 표적이 되어서는 안 된다."
   ]
  },
  {
   "cell_type": "markdown",
   "metadata": {},
   "source": [
    "# Preprocessing and EDA"
   ]
  },
  {
   "cell_type": "markdown",
   "metadata": {},
   "source": [
    "## Preprocessing"
   ]
  },
  {
   "cell_type": "markdown",
   "metadata": {},
   "source": [
    "각각의 성별에 대한 구매 전환률을 확인하게 위해 작년에 둘 다(두 개의 성별) 구매한 경우를 삭제해주도록 한다."
   ]
  },
  {
   "cell_type": "markdown",
   "metadata": {},
   "source": [
    "**1) mens와 womens가 모두 1.0인 사람들은 제거**"
   ]
  },
  {
   "cell_type": "code",
   "execution_count": 7,
   "metadata": {},
   "outputs": [],
   "source": [
    "idx_lst = []\n",
    "for i in range(len(dataset)):\n",
    "    if dataset['mens'].iloc[i] == 1.0 and dataset['womens'].iloc[i] == 1.0:\n",
    "        idx_lst.append(i)\n",
    "\n",
    "dataset.drop(idx_lst,axis=0,inplace=True)\n",
    "# 행 삭제\n",
    "\n",
    "final_dataset = dataset.reset_index().drop('index',axis=1)"
   ]
  },
  {
   "cell_type": "code",
   "execution_count": 8,
   "metadata": {},
   "outputs": [
    {
     "data": {
      "text/html": [
       "<div>\n",
       "<style scoped>\n",
       "    .dataframe tbody tr th:only-of-type {\n",
       "        vertical-align: middle;\n",
       "    }\n",
       "\n",
       "    .dataframe tbody tr th {\n",
       "        vertical-align: top;\n",
       "    }\n",
       "\n",
       "    .dataframe thead th {\n",
       "        text-align: right;\n",
       "    }\n",
       "</style>\n",
       "<table border=\"1\" class=\"dataframe\">\n",
       "  <thead>\n",
       "    <tr style=\"text-align: right;\">\n",
       "      <th></th>\n",
       "      <th>recency</th>\n",
       "      <th>history</th>\n",
       "      <th>mens</th>\n",
       "      <th>womens</th>\n",
       "      <th>newbie</th>\n",
       "      <th>zip_code_Rural</th>\n",
       "      <th>zip_code_Surburban</th>\n",
       "      <th>zip_code_Urban</th>\n",
       "      <th>history_segment_$0 - $100</th>\n",
       "      <th>history_segment_$1,000 +</th>\n",
       "      <th>...</th>\n",
       "      <th>history_segment_$350 - $500</th>\n",
       "      <th>history_segment_$500 - $750</th>\n",
       "      <th>history_segment_$750 - $1,000</th>\n",
       "      <th>channel_Multichannel</th>\n",
       "      <th>channel_Phone</th>\n",
       "      <th>channel_Web</th>\n",
       "      <th>treatment</th>\n",
       "      <th>target_spend</th>\n",
       "      <th>target_visit</th>\n",
       "      <th>target_conversion</th>\n",
       "    </tr>\n",
       "  </thead>\n",
       "  <tbody>\n",
       "    <tr>\n",
       "      <th>0</th>\n",
       "      <td>10.0</td>\n",
       "      <td>142.44</td>\n",
       "      <td>1.0</td>\n",
       "      <td>0.0</td>\n",
       "      <td>0.0</td>\n",
       "      <td>0.0</td>\n",
       "      <td>1.0</td>\n",
       "      <td>0.0</td>\n",
       "      <td>0.0</td>\n",
       "      <td>0.0</td>\n",
       "      <td>...</td>\n",
       "      <td>0.0</td>\n",
       "      <td>0.0</td>\n",
       "      <td>0.0</td>\n",
       "      <td>0.0</td>\n",
       "      <td>1.0</td>\n",
       "      <td>0.0</td>\n",
       "      <td>2</td>\n",
       "      <td>0.0</td>\n",
       "      <td>0.0</td>\n",
       "      <td>0.0</td>\n",
       "    </tr>\n",
       "    <tr>\n",
       "      <th>1</th>\n",
       "      <td>7.0</td>\n",
       "      <td>180.65</td>\n",
       "      <td>0.0</td>\n",
       "      <td>1.0</td>\n",
       "      <td>1.0</td>\n",
       "      <td>0.0</td>\n",
       "      <td>1.0</td>\n",
       "      <td>0.0</td>\n",
       "      <td>0.0</td>\n",
       "      <td>0.0</td>\n",
       "      <td>...</td>\n",
       "      <td>0.0</td>\n",
       "      <td>0.0</td>\n",
       "      <td>0.0</td>\n",
       "      <td>0.0</td>\n",
       "      <td>0.0</td>\n",
       "      <td>1.0</td>\n",
       "      <td>2</td>\n",
       "      <td>0.0</td>\n",
       "      <td>0.0</td>\n",
       "      <td>0.0</td>\n",
       "    </tr>\n",
       "    <tr>\n",
       "      <th>2</th>\n",
       "      <td>9.0</td>\n",
       "      <td>675.83</td>\n",
       "      <td>1.0</td>\n",
       "      <td>0.0</td>\n",
       "      <td>1.0</td>\n",
       "      <td>1.0</td>\n",
       "      <td>0.0</td>\n",
       "      <td>0.0</td>\n",
       "      <td>0.0</td>\n",
       "      <td>0.0</td>\n",
       "      <td>...</td>\n",
       "      <td>0.0</td>\n",
       "      <td>1.0</td>\n",
       "      <td>0.0</td>\n",
       "      <td>0.0</td>\n",
       "      <td>0.0</td>\n",
       "      <td>1.0</td>\n",
       "      <td>1</td>\n",
       "      <td>0.0</td>\n",
       "      <td>0.0</td>\n",
       "      <td>0.0</td>\n",
       "    </tr>\n",
       "    <tr>\n",
       "      <th>3</th>\n",
       "      <td>2.0</td>\n",
       "      <td>45.34</td>\n",
       "      <td>1.0</td>\n",
       "      <td>0.0</td>\n",
       "      <td>0.0</td>\n",
       "      <td>0.0</td>\n",
       "      <td>0.0</td>\n",
       "      <td>1.0</td>\n",
       "      <td>1.0</td>\n",
       "      <td>0.0</td>\n",
       "      <td>...</td>\n",
       "      <td>0.0</td>\n",
       "      <td>0.0</td>\n",
       "      <td>0.0</td>\n",
       "      <td>0.0</td>\n",
       "      <td>0.0</td>\n",
       "      <td>1.0</td>\n",
       "      <td>2</td>\n",
       "      <td>0.0</td>\n",
       "      <td>0.0</td>\n",
       "      <td>0.0</td>\n",
       "    </tr>\n",
       "    <tr>\n",
       "      <th>4</th>\n",
       "      <td>6.0</td>\n",
       "      <td>134.83</td>\n",
       "      <td>0.0</td>\n",
       "      <td>1.0</td>\n",
       "      <td>0.0</td>\n",
       "      <td>0.0</td>\n",
       "      <td>1.0</td>\n",
       "      <td>0.0</td>\n",
       "      <td>0.0</td>\n",
       "      <td>0.0</td>\n",
       "      <td>...</td>\n",
       "      <td>0.0</td>\n",
       "      <td>0.0</td>\n",
       "      <td>0.0</td>\n",
       "      <td>0.0</td>\n",
       "      <td>1.0</td>\n",
       "      <td>0.0</td>\n",
       "      <td>2</td>\n",
       "      <td>0.0</td>\n",
       "      <td>1.0</td>\n",
       "      <td>0.0</td>\n",
       "    </tr>\n",
       "    <tr>\n",
       "      <th>...</th>\n",
       "      <td>...</td>\n",
       "      <td>...</td>\n",
       "      <td>...</td>\n",
       "      <td>...</td>\n",
       "      <td>...</td>\n",
       "      <td>...</td>\n",
       "      <td>...</td>\n",
       "      <td>...</td>\n",
       "      <td>...</td>\n",
       "      <td>...</td>\n",
       "      <td>...</td>\n",
       "      <td>...</td>\n",
       "      <td>...</td>\n",
       "      <td>...</td>\n",
       "      <td>...</td>\n",
       "      <td>...</td>\n",
       "      <td>...</td>\n",
       "      <td>...</td>\n",
       "      <td>...</td>\n",
       "      <td>...</td>\n",
       "      <td>...</td>\n",
       "    </tr>\n",
       "    <tr>\n",
       "      <th>57547</th>\n",
       "      <td>10.0</td>\n",
       "      <td>105.54</td>\n",
       "      <td>1.0</td>\n",
       "      <td>0.0</td>\n",
       "      <td>0.0</td>\n",
       "      <td>0.0</td>\n",
       "      <td>0.0</td>\n",
       "      <td>1.0</td>\n",
       "      <td>0.0</td>\n",
       "      <td>0.0</td>\n",
       "      <td>...</td>\n",
       "      <td>0.0</td>\n",
       "      <td>0.0</td>\n",
       "      <td>0.0</td>\n",
       "      <td>0.0</td>\n",
       "      <td>0.0</td>\n",
       "      <td>1.0</td>\n",
       "      <td>1</td>\n",
       "      <td>0.0</td>\n",
       "      <td>0.0</td>\n",
       "      <td>0.0</td>\n",
       "    </tr>\n",
       "    <tr>\n",
       "      <th>57548</th>\n",
       "      <td>5.0</td>\n",
       "      <td>38.91</td>\n",
       "      <td>0.0</td>\n",
       "      <td>1.0</td>\n",
       "      <td>1.0</td>\n",
       "      <td>0.0</td>\n",
       "      <td>0.0</td>\n",
       "      <td>1.0</td>\n",
       "      <td>1.0</td>\n",
       "      <td>0.0</td>\n",
       "      <td>...</td>\n",
       "      <td>0.0</td>\n",
       "      <td>0.0</td>\n",
       "      <td>0.0</td>\n",
       "      <td>0.0</td>\n",
       "      <td>1.0</td>\n",
       "      <td>0.0</td>\n",
       "      <td>1</td>\n",
       "      <td>0.0</td>\n",
       "      <td>0.0</td>\n",
       "      <td>0.0</td>\n",
       "    </tr>\n",
       "    <tr>\n",
       "      <th>57549</th>\n",
       "      <td>6.0</td>\n",
       "      <td>29.99</td>\n",
       "      <td>1.0</td>\n",
       "      <td>0.0</td>\n",
       "      <td>1.0</td>\n",
       "      <td>0.0</td>\n",
       "      <td>0.0</td>\n",
       "      <td>1.0</td>\n",
       "      <td>1.0</td>\n",
       "      <td>0.0</td>\n",
       "      <td>...</td>\n",
       "      <td>0.0</td>\n",
       "      <td>0.0</td>\n",
       "      <td>0.0</td>\n",
       "      <td>0.0</td>\n",
       "      <td>1.0</td>\n",
       "      <td>0.0</td>\n",
       "      <td>1</td>\n",
       "      <td>0.0</td>\n",
       "      <td>0.0</td>\n",
       "      <td>0.0</td>\n",
       "    </tr>\n",
       "    <tr>\n",
       "      <th>57550</th>\n",
       "      <td>1.0</td>\n",
       "      <td>552.94</td>\n",
       "      <td>1.0</td>\n",
       "      <td>0.0</td>\n",
       "      <td>1.0</td>\n",
       "      <td>0.0</td>\n",
       "      <td>1.0</td>\n",
       "      <td>0.0</td>\n",
       "      <td>0.0</td>\n",
       "      <td>0.0</td>\n",
       "      <td>...</td>\n",
       "      <td>0.0</td>\n",
       "      <td>1.0</td>\n",
       "      <td>0.0</td>\n",
       "      <td>1.0</td>\n",
       "      <td>0.0</td>\n",
       "      <td>0.0</td>\n",
       "      <td>2</td>\n",
       "      <td>0.0</td>\n",
       "      <td>0.0</td>\n",
       "      <td>0.0</td>\n",
       "    </tr>\n",
       "    <tr>\n",
       "      <th>57551</th>\n",
       "      <td>1.0</td>\n",
       "      <td>472.82</td>\n",
       "      <td>0.0</td>\n",
       "      <td>1.0</td>\n",
       "      <td>0.0</td>\n",
       "      <td>0.0</td>\n",
       "      <td>1.0</td>\n",
       "      <td>0.0</td>\n",
       "      <td>0.0</td>\n",
       "      <td>0.0</td>\n",
       "      <td>...</td>\n",
       "      <td>1.0</td>\n",
       "      <td>0.0</td>\n",
       "      <td>0.0</td>\n",
       "      <td>0.0</td>\n",
       "      <td>0.0</td>\n",
       "      <td>1.0</td>\n",
       "      <td>1</td>\n",
       "      <td>0.0</td>\n",
       "      <td>0.0</td>\n",
       "      <td>0.0</td>\n",
       "    </tr>\n",
       "  </tbody>\n",
       "</table>\n",
       "<p>57552 rows × 22 columns</p>\n",
       "</div>"
      ],
      "text/plain": [
       "       recency  history  mens  womens  newbie  zip_code_Rural  \\\n",
       "0         10.0   142.44   1.0     0.0     0.0             0.0   \n",
       "1          7.0   180.65   0.0     1.0     1.0             0.0   \n",
       "2          9.0   675.83   1.0     0.0     1.0             1.0   \n",
       "3          2.0    45.34   1.0     0.0     0.0             0.0   \n",
       "4          6.0   134.83   0.0     1.0     0.0             0.0   \n",
       "...        ...      ...   ...     ...     ...             ...   \n",
       "57547     10.0   105.54   1.0     0.0     0.0             0.0   \n",
       "57548      5.0    38.91   0.0     1.0     1.0             0.0   \n",
       "57549      6.0    29.99   1.0     0.0     1.0             0.0   \n",
       "57550      1.0   552.94   1.0     0.0     1.0             0.0   \n",
       "57551      1.0   472.82   0.0     1.0     0.0             0.0   \n",
       "\n",
       "       zip_code_Surburban  zip_code_Urban  history_segment_$0 - $100  \\\n",
       "0                     1.0             0.0                        0.0   \n",
       "1                     1.0             0.0                        0.0   \n",
       "2                     0.0             0.0                        0.0   \n",
       "3                     0.0             1.0                        1.0   \n",
       "4                     1.0             0.0                        0.0   \n",
       "...                   ...             ...                        ...   \n",
       "57547                 0.0             1.0                        0.0   \n",
       "57548                 0.0             1.0                        1.0   \n",
       "57549                 0.0             1.0                        1.0   \n",
       "57550                 1.0             0.0                        0.0   \n",
       "57551                 1.0             0.0                        0.0   \n",
       "\n",
       "       history_segment_$1,000 +  ...  history_segment_$350 - $500  \\\n",
       "0                           0.0  ...                          0.0   \n",
       "1                           0.0  ...                          0.0   \n",
       "2                           0.0  ...                          0.0   \n",
       "3                           0.0  ...                          0.0   \n",
       "4                           0.0  ...                          0.0   \n",
       "...                         ...  ...                          ...   \n",
       "57547                       0.0  ...                          0.0   \n",
       "57548                       0.0  ...                          0.0   \n",
       "57549                       0.0  ...                          0.0   \n",
       "57550                       0.0  ...                          0.0   \n",
       "57551                       0.0  ...                          1.0   \n",
       "\n",
       "       history_segment_$500 - $750  history_segment_$750 - $1,000  \\\n",
       "0                              0.0                            0.0   \n",
       "1                              0.0                            0.0   \n",
       "2                              1.0                            0.0   \n",
       "3                              0.0                            0.0   \n",
       "4                              0.0                            0.0   \n",
       "...                            ...                            ...   \n",
       "57547                          0.0                            0.0   \n",
       "57548                          0.0                            0.0   \n",
       "57549                          0.0                            0.0   \n",
       "57550                          1.0                            0.0   \n",
       "57551                          0.0                            0.0   \n",
       "\n",
       "       channel_Multichannel  channel_Phone  channel_Web  treatment  \\\n",
       "0                       0.0            1.0          0.0          2   \n",
       "1                       0.0            0.0          1.0          2   \n",
       "2                       0.0            0.0          1.0          1   \n",
       "3                       0.0            0.0          1.0          2   \n",
       "4                       0.0            1.0          0.0          2   \n",
       "...                     ...            ...          ...        ...   \n",
       "57547                   0.0            0.0          1.0          1   \n",
       "57548                   0.0            1.0          0.0          1   \n",
       "57549                   0.0            1.0          0.0          1   \n",
       "57550                   1.0            0.0          0.0          2   \n",
       "57551                   0.0            0.0          1.0          1   \n",
       "\n",
       "       target_spend  target_visit  target_conversion  \n",
       "0               0.0           0.0                0.0  \n",
       "1               0.0           0.0                0.0  \n",
       "2               0.0           0.0                0.0  \n",
       "3               0.0           0.0                0.0  \n",
       "4               0.0           1.0                0.0  \n",
       "...             ...           ...                ...  \n",
       "57547           0.0           0.0                0.0  \n",
       "57548           0.0           0.0                0.0  \n",
       "57549           0.0           0.0                0.0  \n",
       "57550           0.0           0.0                0.0  \n",
       "57551           0.0           0.0                0.0  \n",
       "\n",
       "[57552 rows x 22 columns]"
      ]
     },
     "execution_count": 8,
     "metadata": {},
     "output_type": "execute_result"
    }
   ],
   "source": [
    "final_dataset"
   ]
  },
  {
   "cell_type": "code",
   "execution_count": 9,
   "metadata": {
    "scrolled": true
   },
   "outputs": [
    {
     "data": {
      "text/html": [
       "<div>\n",
       "<style scoped>\n",
       "    .dataframe tbody tr th:only-of-type {\n",
       "        vertical-align: middle;\n",
       "    }\n",
       "\n",
       "    .dataframe tbody tr th {\n",
       "        vertical-align: top;\n",
       "    }\n",
       "\n",
       "    .dataframe thead th {\n",
       "        text-align: right;\n",
       "    }\n",
       "</style>\n",
       "<table border=\"1\" class=\"dataframe\">\n",
       "  <thead>\n",
       "    <tr style=\"text-align: right;\">\n",
       "      <th></th>\n",
       "      <th>recency</th>\n",
       "      <th>history</th>\n",
       "      <th>mens</th>\n",
       "      <th>womens</th>\n",
       "      <th>newbie</th>\n",
       "      <th>zip_code_Rural</th>\n",
       "      <th>zip_code_Surburban</th>\n",
       "      <th>zip_code_Urban</th>\n",
       "      <th>history_segment_$0 - $100</th>\n",
       "      <th>history_segment_$1,000 +</th>\n",
       "      <th>...</th>\n",
       "      <th>history_segment_$350 - $500</th>\n",
       "      <th>history_segment_$500 - $750</th>\n",
       "      <th>history_segment_$750 - $1,000</th>\n",
       "      <th>channel_Multichannel</th>\n",
       "      <th>channel_Phone</th>\n",
       "      <th>channel_Web</th>\n",
       "      <th>treatment</th>\n",
       "      <th>target_spend</th>\n",
       "      <th>target_visit</th>\n",
       "      <th>target_conversion</th>\n",
       "    </tr>\n",
       "  </thead>\n",
       "  <tbody>\n",
       "    <tr>\n",
       "      <th>0</th>\n",
       "      <td>10.0</td>\n",
       "      <td>142.44</td>\n",
       "      <td>1.0</td>\n",
       "      <td>0.0</td>\n",
       "      <td>0.0</td>\n",
       "      <td>0.0</td>\n",
       "      <td>1.0</td>\n",
       "      <td>0.0</td>\n",
       "      <td>0.0</td>\n",
       "      <td>0.0</td>\n",
       "      <td>...</td>\n",
       "      <td>0.0</td>\n",
       "      <td>0.0</td>\n",
       "      <td>0.0</td>\n",
       "      <td>0.0</td>\n",
       "      <td>1.0</td>\n",
       "      <td>0.0</td>\n",
       "      <td>2</td>\n",
       "      <td>0.0</td>\n",
       "      <td>0.0</td>\n",
       "      <td>0.0</td>\n",
       "    </tr>\n",
       "    <tr>\n",
       "      <th>2</th>\n",
       "      <td>7.0</td>\n",
       "      <td>180.65</td>\n",
       "      <td>0.0</td>\n",
       "      <td>1.0</td>\n",
       "      <td>1.0</td>\n",
       "      <td>0.0</td>\n",
       "      <td>1.0</td>\n",
       "      <td>0.0</td>\n",
       "      <td>0.0</td>\n",
       "      <td>0.0</td>\n",
       "      <td>...</td>\n",
       "      <td>0.0</td>\n",
       "      <td>0.0</td>\n",
       "      <td>0.0</td>\n",
       "      <td>0.0</td>\n",
       "      <td>0.0</td>\n",
       "      <td>1.0</td>\n",
       "      <td>2</td>\n",
       "      <td>0.0</td>\n",
       "      <td>0.0</td>\n",
       "      <td>0.0</td>\n",
       "    </tr>\n",
       "    <tr>\n",
       "      <th>3</th>\n",
       "      <td>9.0</td>\n",
       "      <td>675.83</td>\n",
       "      <td>1.0</td>\n",
       "      <td>0.0</td>\n",
       "      <td>1.0</td>\n",
       "      <td>1.0</td>\n",
       "      <td>0.0</td>\n",
       "      <td>0.0</td>\n",
       "      <td>0.0</td>\n",
       "      <td>0.0</td>\n",
       "      <td>...</td>\n",
       "      <td>0.0</td>\n",
       "      <td>1.0</td>\n",
       "      <td>0.0</td>\n",
       "      <td>0.0</td>\n",
       "      <td>0.0</td>\n",
       "      <td>1.0</td>\n",
       "      <td>1</td>\n",
       "      <td>0.0</td>\n",
       "      <td>0.0</td>\n",
       "      <td>0.0</td>\n",
       "    </tr>\n",
       "    <tr>\n",
       "      <th>4</th>\n",
       "      <td>2.0</td>\n",
       "      <td>45.34</td>\n",
       "      <td>1.0</td>\n",
       "      <td>0.0</td>\n",
       "      <td>0.0</td>\n",
       "      <td>0.0</td>\n",
       "      <td>0.0</td>\n",
       "      <td>1.0</td>\n",
       "      <td>1.0</td>\n",
       "      <td>0.0</td>\n",
       "      <td>...</td>\n",
       "      <td>0.0</td>\n",
       "      <td>0.0</td>\n",
       "      <td>0.0</td>\n",
       "      <td>0.0</td>\n",
       "      <td>0.0</td>\n",
       "      <td>1.0</td>\n",
       "      <td>2</td>\n",
       "      <td>0.0</td>\n",
       "      <td>0.0</td>\n",
       "      <td>0.0</td>\n",
       "    </tr>\n",
       "    <tr>\n",
       "      <th>5</th>\n",
       "      <td>6.0</td>\n",
       "      <td>134.83</td>\n",
       "      <td>0.0</td>\n",
       "      <td>1.0</td>\n",
       "      <td>0.0</td>\n",
       "      <td>0.0</td>\n",
       "      <td>1.0</td>\n",
       "      <td>0.0</td>\n",
       "      <td>0.0</td>\n",
       "      <td>0.0</td>\n",
       "      <td>...</td>\n",
       "      <td>0.0</td>\n",
       "      <td>0.0</td>\n",
       "      <td>0.0</td>\n",
       "      <td>0.0</td>\n",
       "      <td>1.0</td>\n",
       "      <td>0.0</td>\n",
       "      <td>2</td>\n",
       "      <td>0.0</td>\n",
       "      <td>1.0</td>\n",
       "      <td>0.0</td>\n",
       "    </tr>\n",
       "    <tr>\n",
       "      <th>...</th>\n",
       "      <td>...</td>\n",
       "      <td>...</td>\n",
       "      <td>...</td>\n",
       "      <td>...</td>\n",
       "      <td>...</td>\n",
       "      <td>...</td>\n",
       "      <td>...</td>\n",
       "      <td>...</td>\n",
       "      <td>...</td>\n",
       "      <td>...</td>\n",
       "      <td>...</td>\n",
       "      <td>...</td>\n",
       "      <td>...</td>\n",
       "      <td>...</td>\n",
       "      <td>...</td>\n",
       "      <td>...</td>\n",
       "      <td>...</td>\n",
       "      <td>...</td>\n",
       "      <td>...</td>\n",
       "      <td>...</td>\n",
       "      <td>...</td>\n",
       "    </tr>\n",
       "    <tr>\n",
       "      <th>63995</th>\n",
       "      <td>10.0</td>\n",
       "      <td>105.54</td>\n",
       "      <td>1.0</td>\n",
       "      <td>0.0</td>\n",
       "      <td>0.0</td>\n",
       "      <td>0.0</td>\n",
       "      <td>0.0</td>\n",
       "      <td>1.0</td>\n",
       "      <td>0.0</td>\n",
       "      <td>0.0</td>\n",
       "      <td>...</td>\n",
       "      <td>0.0</td>\n",
       "      <td>0.0</td>\n",
       "      <td>0.0</td>\n",
       "      <td>0.0</td>\n",
       "      <td>0.0</td>\n",
       "      <td>1.0</td>\n",
       "      <td>1</td>\n",
       "      <td>0.0</td>\n",
       "      <td>0.0</td>\n",
       "      <td>0.0</td>\n",
       "    </tr>\n",
       "    <tr>\n",
       "      <th>63996</th>\n",
       "      <td>5.0</td>\n",
       "      <td>38.91</td>\n",
       "      <td>0.0</td>\n",
       "      <td>1.0</td>\n",
       "      <td>1.0</td>\n",
       "      <td>0.0</td>\n",
       "      <td>0.0</td>\n",
       "      <td>1.0</td>\n",
       "      <td>1.0</td>\n",
       "      <td>0.0</td>\n",
       "      <td>...</td>\n",
       "      <td>0.0</td>\n",
       "      <td>0.0</td>\n",
       "      <td>0.0</td>\n",
       "      <td>0.0</td>\n",
       "      <td>1.0</td>\n",
       "      <td>0.0</td>\n",
       "      <td>1</td>\n",
       "      <td>0.0</td>\n",
       "      <td>0.0</td>\n",
       "      <td>0.0</td>\n",
       "    </tr>\n",
       "    <tr>\n",
       "      <th>63997</th>\n",
       "      <td>6.0</td>\n",
       "      <td>29.99</td>\n",
       "      <td>1.0</td>\n",
       "      <td>0.0</td>\n",
       "      <td>1.0</td>\n",
       "      <td>0.0</td>\n",
       "      <td>0.0</td>\n",
       "      <td>1.0</td>\n",
       "      <td>1.0</td>\n",
       "      <td>0.0</td>\n",
       "      <td>...</td>\n",
       "      <td>0.0</td>\n",
       "      <td>0.0</td>\n",
       "      <td>0.0</td>\n",
       "      <td>0.0</td>\n",
       "      <td>1.0</td>\n",
       "      <td>0.0</td>\n",
       "      <td>1</td>\n",
       "      <td>0.0</td>\n",
       "      <td>0.0</td>\n",
       "      <td>0.0</td>\n",
       "    </tr>\n",
       "    <tr>\n",
       "      <th>63998</th>\n",
       "      <td>1.0</td>\n",
       "      <td>552.94</td>\n",
       "      <td>1.0</td>\n",
       "      <td>0.0</td>\n",
       "      <td>1.0</td>\n",
       "      <td>0.0</td>\n",
       "      <td>1.0</td>\n",
       "      <td>0.0</td>\n",
       "      <td>0.0</td>\n",
       "      <td>0.0</td>\n",
       "      <td>...</td>\n",
       "      <td>0.0</td>\n",
       "      <td>1.0</td>\n",
       "      <td>0.0</td>\n",
       "      <td>1.0</td>\n",
       "      <td>0.0</td>\n",
       "      <td>0.0</td>\n",
       "      <td>2</td>\n",
       "      <td>0.0</td>\n",
       "      <td>0.0</td>\n",
       "      <td>0.0</td>\n",
       "    </tr>\n",
       "    <tr>\n",
       "      <th>63999</th>\n",
       "      <td>1.0</td>\n",
       "      <td>472.82</td>\n",
       "      <td>0.0</td>\n",
       "      <td>1.0</td>\n",
       "      <td>0.0</td>\n",
       "      <td>0.0</td>\n",
       "      <td>1.0</td>\n",
       "      <td>0.0</td>\n",
       "      <td>0.0</td>\n",
       "      <td>0.0</td>\n",
       "      <td>...</td>\n",
       "      <td>1.0</td>\n",
       "      <td>0.0</td>\n",
       "      <td>0.0</td>\n",
       "      <td>0.0</td>\n",
       "      <td>0.0</td>\n",
       "      <td>1.0</td>\n",
       "      <td>1</td>\n",
       "      <td>0.0</td>\n",
       "      <td>0.0</td>\n",
       "      <td>0.0</td>\n",
       "    </tr>\n",
       "  </tbody>\n",
       "</table>\n",
       "<p>57552 rows × 22 columns</p>\n",
       "</div>"
      ],
      "text/plain": [
       "       recency  history  mens  womens  newbie  zip_code_Rural  \\\n",
       "0         10.0   142.44   1.0     0.0     0.0             0.0   \n",
       "2          7.0   180.65   0.0     1.0     1.0             0.0   \n",
       "3          9.0   675.83   1.0     0.0     1.0             1.0   \n",
       "4          2.0    45.34   1.0     0.0     0.0             0.0   \n",
       "5          6.0   134.83   0.0     1.0     0.0             0.0   \n",
       "...        ...      ...   ...     ...     ...             ...   \n",
       "63995     10.0   105.54   1.0     0.0     0.0             0.0   \n",
       "63996      5.0    38.91   0.0     1.0     1.0             0.0   \n",
       "63997      6.0    29.99   1.0     0.0     1.0             0.0   \n",
       "63998      1.0   552.94   1.0     0.0     1.0             0.0   \n",
       "63999      1.0   472.82   0.0     1.0     0.0             0.0   \n",
       "\n",
       "       zip_code_Surburban  zip_code_Urban  history_segment_$0 - $100  \\\n",
       "0                     1.0             0.0                        0.0   \n",
       "2                     1.0             0.0                        0.0   \n",
       "3                     0.0             0.0                        0.0   \n",
       "4                     0.0             1.0                        1.0   \n",
       "5                     1.0             0.0                        0.0   \n",
       "...                   ...             ...                        ...   \n",
       "63995                 0.0             1.0                        0.0   \n",
       "63996                 0.0             1.0                        1.0   \n",
       "63997                 0.0             1.0                        1.0   \n",
       "63998                 1.0             0.0                        0.0   \n",
       "63999                 1.0             0.0                        0.0   \n",
       "\n",
       "       history_segment_$1,000 +  ...  history_segment_$350 - $500  \\\n",
       "0                           0.0  ...                          0.0   \n",
       "2                           0.0  ...                          0.0   \n",
       "3                           0.0  ...                          0.0   \n",
       "4                           0.0  ...                          0.0   \n",
       "5                           0.0  ...                          0.0   \n",
       "...                         ...  ...                          ...   \n",
       "63995                       0.0  ...                          0.0   \n",
       "63996                       0.0  ...                          0.0   \n",
       "63997                       0.0  ...                          0.0   \n",
       "63998                       0.0  ...                          0.0   \n",
       "63999                       0.0  ...                          1.0   \n",
       "\n",
       "       history_segment_$500 - $750  history_segment_$750 - $1,000  \\\n",
       "0                              0.0                            0.0   \n",
       "2                              0.0                            0.0   \n",
       "3                              1.0                            0.0   \n",
       "4                              0.0                            0.0   \n",
       "5                              0.0                            0.0   \n",
       "...                            ...                            ...   \n",
       "63995                          0.0                            0.0   \n",
       "63996                          0.0                            0.0   \n",
       "63997                          0.0                            0.0   \n",
       "63998                          1.0                            0.0   \n",
       "63999                          0.0                            0.0   \n",
       "\n",
       "       channel_Multichannel  channel_Phone  channel_Web  treatment  \\\n",
       "0                       0.0            1.0          0.0          2   \n",
       "2                       0.0            0.0          1.0          2   \n",
       "3                       0.0            0.0          1.0          1   \n",
       "4                       0.0            0.0          1.0          2   \n",
       "5                       0.0            1.0          0.0          2   \n",
       "...                     ...            ...          ...        ...   \n",
       "63995                   0.0            0.0          1.0          1   \n",
       "63996                   0.0            1.0          0.0          1   \n",
       "63997                   0.0            1.0          0.0          1   \n",
       "63998                   1.0            0.0          0.0          2   \n",
       "63999                   0.0            0.0          1.0          1   \n",
       "\n",
       "       target_spend  target_visit  target_conversion  \n",
       "0               0.0           0.0                0.0  \n",
       "2               0.0           0.0                0.0  \n",
       "3               0.0           0.0                0.0  \n",
       "4               0.0           0.0                0.0  \n",
       "5               0.0           1.0                0.0  \n",
       "...             ...           ...                ...  \n",
       "63995           0.0           0.0                0.0  \n",
       "63996           0.0           0.0                0.0  \n",
       "63997           0.0           0.0                0.0  \n",
       "63998           0.0           0.0                0.0  \n",
       "63999           0.0           0.0                0.0  \n",
       "\n",
       "[57552 rows x 22 columns]"
      ]
     },
     "execution_count": 9,
     "metadata": {},
     "output_type": "execute_result"
    }
   ],
   "source": [
    "dataset"
   ]
  },
  {
   "cell_type": "code",
   "execution_count": 10,
   "metadata": {},
   "outputs": [
    {
     "data": {
      "text/plain": [
       "57552"
      ]
     },
     "execution_count": 10,
     "metadata": {},
     "output_type": "execute_result"
    }
   ],
   "source": [
    "len(final_dataset)"
   ]
  },
  {
   "cell_type": "markdown",
   "metadata": {},
   "source": [
    "## EDA"
   ]
  },
  {
   "cell_type": "markdown",
   "metadata": {},
   "source": [
    "**분포**"
   ]
  },
  {
   "cell_type": "code",
   "execution_count": 11,
   "metadata": {},
   "outputs": [
    {
     "data": {
      "image/png": "[encoded data removed]",
      "text/plain": [
       "<Figure size 1080x720 with 4 Axes>"
      ]
     },
     "metadata": {},
     "output_type": "display_data"
    }
   ],
   "source": [
    "zip_code = ['zip_code_Rural','zip_code_Surburban','zip_code_Urban']\n",
    "segment = ['history_segment_$0 - $100',\n",
    "       'history_segment_$1,000 +', 'history_segment_$100 - $200',\n",
    "       'history_segment_$200 - $350', 'history_segment_$350 - $500',\n",
    "       'history_segment_$500 - $750', 'history_segment_$750 - $1,000']\n",
    "\n",
    "channel = ['channel_Multichannel', 'channel_Phone', 'channel_Web']\n",
    "sex = ['mens', 'womens']\n",
    "\n",
    "pie_lst = [zip_code,segment,channel,sex]\n",
    "pie_title = ['zip_code','segment','channel','sex']\n",
    "\n",
    "def get_pie_info(df,col):\n",
    "    ratio_lst = []\n",
    "    for i in col:\n",
    "        ratio = round(np.sum(df[i]/len(df)),2)\n",
    "        ratio_lst.append(ratio)\n",
    "    label = col\n",
    "    return ratio_lst,label\n",
    "    \n",
    "fig, axes = plt.subplots(2, 2, figsize = (15, 10))\n",
    "\n",
    "for num in range(4):\n",
    "    i = num//2\n",
    "    j = num%2\n",
    "    ratio_lst,label = get_pie_info(final_dataset,pie_lst[num])\n",
    "    axes[i][j].pie(ratio_lst,labels=label,autopct='%.1f%%',startangle=260,counterclock=False,\n",
    "       shadow = True, colors = ['lightblue','lightgreen','#ff9999',\n",
    "                                '#ffc000','#8fd9b6','#d395d0','lavender'])\n",
    "    axes[i][j].set_title(pie_title[num])\n",
    "\n",
    "plt.subplots_adjust(wspace=1)\n",
    "plt.show()"
   ]
  },
  {
   "cell_type": "code",
   "execution_count": 12,
   "metadata": {},
   "outputs": [
    {
     "data": {
      "text/plain": [
       "<matplotlib.axes._subplots.AxesSubplot at 0x19851f0ce88>"
      ]
     },
     "execution_count": 12,
     "metadata": {},
     "output_type": "execute_result"
    },
    {
     "data": {
      "image/png": "[encoded data removed]",
      "text/plain": [
       "<Figure size 432x288 with 1 Axes>"
      ]
     },
     "metadata": {
      "needs_background": "light"
     },
     "output_type": "display_data"
    }
   ],
   "source": [
    "sns.countplot(x='newbie', data=final_dataset)"
   ]
  },
  {
   "cell_type": "code",
   "execution_count": 13,
   "metadata": {},
   "outputs": [
    {
     "data": {
      "text/plain": [
       "<matplotlib.axes._subplots.AxesSubplot at 0x19852066148>"
      ]
     },
     "execution_count": 13,
     "metadata": {},
     "output_type": "execute_result"
    },
    {
     "data": {
      "image/png": "[encoded data removed]",
      "text/plain": [
       "<Figure size 432x288 with 1 Axes>"
      ]
     },
     "metadata": {
      "needs_background": "light"
     },
     "output_type": "display_data"
    }
   ],
   "source": [
    "sns.countplot(x=\"recency\",data=final_dataset)"
   ]
  },
  {
   "cell_type": "code",
   "execution_count": 14,
   "metadata": {},
   "outputs": [
    {
     "data": {
      "text/plain": [
       "<seaborn.axisgrid.FacetGrid at 0x19852241848>"
      ]
     },
     "execution_count": 14,
     "metadata": {},
     "output_type": "execute_result"
    },
    {
     "data": {
      "image/png": "[encoded data removed]",
      "text/plain": [
       "<Figure size 360x360 with 1 Axes>"
      ]
     },
     "metadata": {
      "needs_background": "light"
     },
     "output_type": "display_data"
    }
   ],
   "source": [
    "sns.displot(x=\"history\",data=final_dataset, bins=50)"
   ]
  },
  {
   "cell_type": "code",
   "execution_count": 15,
   "metadata": {
    "scrolled": true
   },
   "outputs": [
    {
     "data": {
      "image/png": "[encoded data removed]",
      "text/plain": [
       "<Figure size 432x288 with 1 Axes>"
      ]
     },
     "metadata": {},
     "output_type": "display_data"
    }
   ],
   "source": [
    "ratio_lst = []\n",
    "ratio_1 = round(dataset['treatment'].value_counts()[1]/len(final_dataset),2)\n",
    "ratio_2 = round(dataset['treatment'].value_counts()[2]/len(final_dataset),2)\n",
    "ratio_lst.append(ratio_1)\n",
    "ratio_lst.append(ratio_2)\n",
    "ratio_lst.append(1-ratio_1-ratio_2)\n",
    "\n",
    "plt.pie(ratio_lst,labels=['male_treatment','female_treatment','control'],autopct='%.1f%%',startangle=260,counterclock=False,\n",
    "       shadow = True, colors = ['lightblue','lightgreen','pink'])\n",
    "plt.show()"
   ]
  },
  {
   "cell_type": "markdown",
   "metadata": {},
   "source": [
    "**각 처치(Treatment당 target들의 값들이 어떻게 변했는지 막대그래프를 통해 알아보도록 하자** <br>\n",
    "Treatment : 처치 <br>\n",
    "(1: 남성용 상품에 대한 광고가 적힌 이메일을 받은 집단 / 2: 여성용 상품에 대한 광고가 적힌 이메일을 받은 집단 / 0: 아무런 광고를 받지 못한 집단(Control Group))"
   ]
  },
  {
   "cell_type": "markdown",
   "metadata": {},
   "source": [
    "# Modeling"
   ]
  },
  {
   "cell_type": "markdown",
   "metadata": {},
   "source": [
    "## ATE(Average Treatment Estimation)"
   ]
  },
  {
   "attachments": {
    "image.png": {
     "image/png": "[encoded data removed]"
    }
   },
   "cell_type": "markdown",
   "metadata": {},
   "source": [
    "![image.png](attachment:image.png)"
   ]
  },
  {
   "cell_type": "markdown",
   "metadata": {},
   "source": [
    "간단하게 설명하면, 광고를 보여줬을 때와 그렇지 않았을 때 광고의 효과를 계산하는데 있어서 가장 좋은 방법은 같은 사람에게 광고를 보여주기도 하고, 보여주지도 않은 채 각각의 개인들의 차이를 계산하는 것입니다. 그러나 이는 현실적으로 불가능하므로, 각각의 집단의 평균을 계산하여 차이를 통해 광고의 효과를 알아보게 됩니다. \n",
    "\n",
    "이때 중요한 점은 Random하게 집단을 나누어 Treatment(여기서는 광고)를 처치하는 것입니다. 그렇지 않으면 교란변수가 작용하여 결과를 신뢰하지 못하게 됩니다. 데이터셋 설명에 Random하게 집단을 구분하였다고 명시하였기에 교란변수의 작용은 생각하지 않겠습니다.\n",
    "\n",
    "광고를 받은 집단(Treatment = 1,2)과 그렇지 않은 집단(Treatment = 0)의 conversion된 소비 지출의 평균의 차이를 계산합니다. 그리고 그 차이를 ATE라고 합니다.\n",
    "\n",
    "이 차이가 통계적으로 유의미한지 안한지는 일단 논의하지 않는 것으로 하겠습니다.\n",
    "\n",
    "<br>\n",
    "\n",
    "**먼저 Homogeneous 한지 확인해보겠습니다.**"
   ]
  },
  {
   "cell_type": "code",
   "execution_count": 16,
   "metadata": {},
   "outputs": [],
   "source": [
    "# 앞선 전체 데이터셋 EDA에 사용된 시각화 코드를 가져와 비교하겠습니다.\n",
    "\n",
    "zip_code = ['zip_code_Rural','zip_code_Surburban','zip_code_Urban']\n",
    "segment = ['history_segment_$0 - $100',\n",
    "       'history_segment_$1,000 +', 'history_segment_$100 - $200',\n",
    "       'history_segment_$200 - $350', 'history_segment_$350 - $500',\n",
    "       'history_segment_$500 - $750', 'history_segment_$750 - $1,000']\n",
    "\n",
    "channel = ['channel_Multichannel', 'channel_Phone', 'channel_Web']\n",
    "sex = ['mens', 'womens']\n",
    "\n",
    "pie_lst = [zip_code,segment,channel, sex]\n",
    "pie_title = ['zip_code','segment','channel','sex']\n",
    "\n",
    "def get_pie_info(df,col):\n",
    "    ratio_lst = []\n",
    "    for i in col:\n",
    "        ratio = round(np.sum(df[i]/len(df)),2)\n",
    "        ratio_lst.append(ratio)\n",
    "    label = col\n",
    "    return ratio_lst,label\n"
   ]
  },
  {
   "cell_type": "markdown",
   "metadata": {},
   "source": [
    "**1. treatment=1 (남성 광고를 받은 집단)**"
   ]
  },
  {
   "cell_type": "code",
   "execution_count": 17,
   "metadata": {},
   "outputs": [],
   "source": [
    "is_male_ad = final_dataset['treatment'] == 1\n",
    "male_ad_homog = final_dataset[is_male_ad]"
   ]
  },
  {
   "cell_type": "code",
   "execution_count": 18,
   "metadata": {},
   "outputs": [
    {
     "data": {
      "image/png": "[encoded data removed]",
      "text/plain": [
       "<Figure size 1080x720 with 4 Axes>"
      ]
     },
     "metadata": {},
     "output_type": "display_data"
    }
   ],
   "source": [
    "fig, axes = plt.subplots(2, 2, figsize = (15, 10))\n",
    "\n",
    "for num in range(4):\n",
    "    i = num//2\n",
    "    j = num%2\n",
    "    ratio_lst,label = get_pie_info(male_ad_homog,pie_lst[num])\n",
    "    axes[i][j].pie(ratio_lst,labels=label,autopct='%.1f%%',startangle=260,counterclock=False,\n",
    "       shadow = True, colors = ['lightblue','lightgreen','#ff9999',\n",
    "                                '#ffc000','#8fd9b6','#d395d0','lavender'])\n",
    "    axes[i][j].set_title(pie_title[num])\n",
    "\n",
    "plt.subplots_adjust(wspace=1)\n",
    "plt.show()"
   ]
  },
  {
   "cell_type": "markdown",
   "metadata": {},
   "source": [
    "**2. treatment=2 (여성 광고를 받은 집단)**"
   ]
  },
  {
   "cell_type": "code",
   "execution_count": 19,
   "metadata": {},
   "outputs": [],
   "source": [
    "is_female_ad = final_dataset['treatment'] == 2\n",
    "female_ad_homog = final_dataset[is_female_ad]"
   ]
  },
  {
   "cell_type": "code",
   "execution_count": 20,
   "metadata": {},
   "outputs": [
    {
     "data": {
      "image/png": "[encoded data removed]",
      "text/plain": [
       "<Figure size 1080x720 with 4 Axes>"
      ]
     },
     "metadata": {},
     "output_type": "display_data"
    }
   ],
   "source": [
    "fig, axes = plt.subplots(2, 2, figsize = (15, 10))\n",
    "\n",
    "for num in range(4):\n",
    "    i = num//2\n",
    "    j = num%2\n",
    "    ratio_lst,label = get_pie_info(female_ad_homog,pie_lst[num])\n",
    "    axes[i][j].pie(ratio_lst,labels=label,autopct='%.1f%%',startangle=260,counterclock=False,\n",
    "       shadow = True, colors = ['lightblue','lightgreen','#ff9999',\n",
    "                                '#ffc000','#8fd9b6','#d395d0','lavender'])\n",
    "    axes[i][j].set_title(pie_title[num])\n",
    "\n",
    "plt.subplots_adjust(wspace=1)\n",
    "plt.show()"
   ]
  },
  {
   "cell_type": "markdown",
   "metadata": {},
   "source": [
    "**3. treatment=0 (광고를 받지 않은 집단)**"
   ]
  },
  {
   "cell_type": "code",
   "execution_count": 21,
   "metadata": {},
   "outputs": [],
   "source": [
    "is_non_ad = final_dataset['treatment'] == 0\n",
    "non_ad_homog = final_dataset[is_non_ad]"
   ]
  },
  {
   "cell_type": "code",
   "execution_count": 22,
   "metadata": {},
   "outputs": [
    {
     "data": {
      "image/png": "[encoded data removed]",
      "text/plain": [
       "<Figure size 1080x720 with 4 Axes>"
      ]
     },
     "metadata": {},
     "output_type": "display_data"
    }
   ],
   "source": [
    "fig, axes = plt.subplots(2, 2, figsize = (15, 10))\n",
    "\n",
    "for num in range(4):\n",
    "    i = num//2\n",
    "    j = num%2\n",
    "    ratio_lst,label = get_pie_info(non_ad_homog,pie_lst[num])\n",
    "    axes[i][j].pie(ratio_lst,labels=label,autopct='%.1f%%',startangle=260,counterclock=False,\n",
    "       shadow = True, colors = ['lightblue','lightgreen','#ff9999',\n",
    "                                '#ffc000','#8fd9b6','#d395d0','lavender'])\n",
    "    axes[i][j].set_title(pie_title[num])\n",
    "\n",
    "plt.subplots_adjust(wspace=1)\n",
    "plt.show()"
   ]
  },
  {
   "cell_type": "markdown",
   "metadata": {},
   "source": [
    "**위의 비율들을 한번에 보기 쉽게 데이터프레임에 합쳐보겠습니다**"
   ]
  },
  {
   "cell_type": "code",
   "execution_count": 23,
   "metadata": {},
   "outputs": [
    {
     "data": {
      "text/plain": [
       "[0.15,\n",
       " 0.45,\n",
       " 0.4,\n",
       " 0.4,\n",
       " 0.01,\n",
       " 0.25,\n",
       " 0.17,\n",
       " 0.09,\n",
       " 0.06,\n",
       " 0.02,\n",
       " 0.1,\n",
       " 0.45,\n",
       " 0.45,\n",
       " 0.5,\n",
       " 0.5]"
      ]
     },
     "execution_count": 23,
     "metadata": {},
     "output_type": "execute_result"
    }
   ],
   "source": [
    "all_ratio_lst = []\n",
    "\n",
    "z_ratio_lst,z_label = get_pie_info(final_dataset,pie_lst[0])\n",
    "s_ratio_lst,s_label = get_pie_info(final_dataset,pie_lst[1])\n",
    "c_ratio_lst,c_label = get_pie_info(final_dataset,pie_lst[2])\n",
    "x_ratio_lst,x_label = get_pie_info(final_dataset,pie_lst[3])\n",
    "\n",
    "all_ratio_list = z_ratio_lst + s_ratio_lst + c_ratio_lst + x_ratio_lst\n",
    "all_ratio_list"
   ]
  },
  {
   "cell_type": "code",
   "execution_count": 24,
   "metadata": {},
   "outputs": [
    {
     "data": {
      "text/plain": [
       "[0.15,\n",
       " 0.45,\n",
       " 0.4,\n",
       " 0.4,\n",
       " 0.02,\n",
       " 0.25,\n",
       " 0.17,\n",
       " 0.09,\n",
       " 0.06,\n",
       " 0.02,\n",
       " 0.1,\n",
       " 0.44,\n",
       " 0.46,\n",
       " 0.5,\n",
       " 0.5]"
      ]
     },
     "execution_count": 24,
     "metadata": {},
     "output_type": "execute_result"
    }
   ],
   "source": [
    "male_ratio_lst = []\n",
    "\n",
    "z_ratio_lst,z_label = get_pie_info(male_ad_homog,pie_lst[0])\n",
    "s_ratio_lst,s_label = get_pie_info(male_ad_homog,pie_lst[1])\n",
    "c_ratio_lst,c_label = get_pie_info(male_ad_homog,pie_lst[2])\n",
    "x_ratio_lst,x_label = get_pie_info(male_ad_homog,pie_lst[3])\n",
    "\n",
    "male_ratio_list = z_ratio_lst + s_ratio_lst + c_ratio_lst + x_ratio_lst\n",
    "male_ratio_list"
   ]
  },
  {
   "cell_type": "code",
   "execution_count": 25,
   "metadata": {},
   "outputs": [
    {
     "data": {
      "text/plain": [
       "[0.15,\n",
       " 0.45,\n",
       " 0.4,\n",
       " 0.4,\n",
       " 0.01,\n",
       " 0.25,\n",
       " 0.17,\n",
       " 0.09,\n",
       " 0.06,\n",
       " 0.02,\n",
       " 0.1,\n",
       " 0.45,\n",
       " 0.45,\n",
       " 0.5,\n",
       " 0.5]"
      ]
     },
     "execution_count": 25,
     "metadata": {},
     "output_type": "execute_result"
    }
   ],
   "source": [
    "female_ratio_lst = []\n",
    "\n",
    "z_ratio_lst,z_label = get_pie_info(female_ad_homog,pie_lst[0])\n",
    "s_ratio_lst,s_label = get_pie_info(female_ad_homog,pie_lst[1])\n",
    "c_ratio_lst,c_label = get_pie_info(female_ad_homog,pie_lst[2])\n",
    "x_ratio_lst,x_label = get_pie_info(female_ad_homog,pie_lst[3])\n",
    "\n",
    "female_ratio_list = z_ratio_lst + s_ratio_lst + c_ratio_lst + x_ratio_lst\n",
    "female_ratio_list"
   ]
  },
  {
   "cell_type": "code",
   "execution_count": 26,
   "metadata": {},
   "outputs": [
    {
     "data": {
      "text/plain": [
       "[0.15,\n",
       " 0.45,\n",
       " 0.4,\n",
       " 0.4,\n",
       " 0.01,\n",
       " 0.25,\n",
       " 0.17,\n",
       " 0.09,\n",
       " 0.06,\n",
       " 0.02,\n",
       " 0.1,\n",
       " 0.45,\n",
       " 0.45,\n",
       " 0.5,\n",
       " 0.5]"
      ]
     },
     "execution_count": 26,
     "metadata": {},
     "output_type": "execute_result"
    }
   ],
   "source": [
    "non_ratio_lst = []\n",
    "\n",
    "z_ratio_lst,z_label = get_pie_info(non_ad_homog,pie_lst[0])\n",
    "s_ratio_lst,s_label = get_pie_info(non_ad_homog,pie_lst[1])\n",
    "c_ratio_lst,c_label = get_pie_info(non_ad_homog,pie_lst[2])\n",
    "x_ratio_lst,x_label = get_pie_info(non_ad_homog,pie_lst[3])\n",
    "\n",
    "non_ratio_list = z_ratio_lst + s_ratio_lst + c_ratio_lst + x_ratio_lst\n",
    "non_ratio_list"
   ]
  },
  {
   "cell_type": "code",
   "execution_count": 27,
   "metadata": {},
   "outputs": [
    {
     "data": {
      "text/html": [
       "<div>\n",
       "<style scoped>\n",
       "    .dataframe tbody tr th:only-of-type {\n",
       "        vertical-align: middle;\n",
       "    }\n",
       "\n",
       "    .dataframe tbody tr th {\n",
       "        vertical-align: top;\n",
       "    }\n",
       "\n",
       "    .dataframe thead th {\n",
       "        text-align: right;\n",
       "    }\n",
       "</style>\n",
       "<table border=\"1\" class=\"dataframe\">\n",
       "  <thead>\n",
       "    <tr style=\"text-align: right;\">\n",
       "      <th></th>\n",
       "      <th>zip_code_Rural</th>\n",
       "      <th>zip_code_Surburban</th>\n",
       "      <th>zip_code_Urban</th>\n",
       "      <th>history_segment_$0 - $100</th>\n",
       "      <th>history_segment_$1,000 +</th>\n",
       "      <th>history_segment_$100 - $200</th>\n",
       "      <th>history_segment_$200 - $350</th>\n",
       "      <th>history_segment_$350 - $500</th>\n",
       "      <th>history_segment_$500 - $750</th>\n",
       "      <th>history_segment_$750 - $1,000</th>\n",
       "      <th>channel_Multichannel</th>\n",
       "      <th>channel_Phone</th>\n",
       "      <th>channel_Web</th>\n",
       "      <th>mens</th>\n",
       "      <th>womens</th>\n",
       "    </tr>\n",
       "  </thead>\n",
       "  <tbody>\n",
       "    <tr>\n",
       "      <th>entire data</th>\n",
       "      <td>0.15</td>\n",
       "      <td>0.45</td>\n",
       "      <td>0.4</td>\n",
       "      <td>0.4</td>\n",
       "      <td>0.01</td>\n",
       "      <td>0.25</td>\n",
       "      <td>0.17</td>\n",
       "      <td>0.09</td>\n",
       "      <td>0.06</td>\n",
       "      <td>0.02</td>\n",
       "      <td>0.1</td>\n",
       "      <td>0.45</td>\n",
       "      <td>0.45</td>\n",
       "      <td>0.5</td>\n",
       "      <td>0.5</td>\n",
       "    </tr>\n",
       "    <tr>\n",
       "      <th>male_ad</th>\n",
       "      <td>0.15</td>\n",
       "      <td>0.45</td>\n",
       "      <td>0.4</td>\n",
       "      <td>0.4</td>\n",
       "      <td>0.02</td>\n",
       "      <td>0.25</td>\n",
       "      <td>0.17</td>\n",
       "      <td>0.09</td>\n",
       "      <td>0.06</td>\n",
       "      <td>0.02</td>\n",
       "      <td>0.1</td>\n",
       "      <td>0.44</td>\n",
       "      <td>0.46</td>\n",
       "      <td>0.5</td>\n",
       "      <td>0.5</td>\n",
       "    </tr>\n",
       "    <tr>\n",
       "      <th>female_ad</th>\n",
       "      <td>0.15</td>\n",
       "      <td>0.45</td>\n",
       "      <td>0.4</td>\n",
       "      <td>0.4</td>\n",
       "      <td>0.01</td>\n",
       "      <td>0.25</td>\n",
       "      <td>0.17</td>\n",
       "      <td>0.09</td>\n",
       "      <td>0.06</td>\n",
       "      <td>0.02</td>\n",
       "      <td>0.1</td>\n",
       "      <td>0.45</td>\n",
       "      <td>0.45</td>\n",
       "      <td>0.5</td>\n",
       "      <td>0.5</td>\n",
       "    </tr>\n",
       "    <tr>\n",
       "      <th>non_ad</th>\n",
       "      <td>0.15</td>\n",
       "      <td>0.45</td>\n",
       "      <td>0.4</td>\n",
       "      <td>0.4</td>\n",
       "      <td>0.01</td>\n",
       "      <td>0.25</td>\n",
       "      <td>0.17</td>\n",
       "      <td>0.09</td>\n",
       "      <td>0.06</td>\n",
       "      <td>0.02</td>\n",
       "      <td>0.1</td>\n",
       "      <td>0.45</td>\n",
       "      <td>0.45</td>\n",
       "      <td>0.5</td>\n",
       "      <td>0.5</td>\n",
       "    </tr>\n",
       "  </tbody>\n",
       "</table>\n",
       "</div>"
      ],
      "text/plain": [
       "             zip_code_Rural  zip_code_Surburban  zip_code_Urban  \\\n",
       "entire data            0.15                0.45             0.4   \n",
       "male_ad                0.15                0.45             0.4   \n",
       "female_ad              0.15                0.45             0.4   \n",
       "non_ad                 0.15                0.45             0.4   \n",
       "\n",
       "             history_segment_$0 - $100  history_segment_$1,000 +  \\\n",
       "entire data                        0.4                      0.01   \n",
       "male_ad                            0.4                      0.02   \n",
       "female_ad                          0.4                      0.01   \n",
       "non_ad                             0.4                      0.01   \n",
       "\n",
       "             history_segment_$100 - $200  history_segment_$200 - $350  \\\n",
       "entire data                         0.25                         0.17   \n",
       "male_ad                             0.25                         0.17   \n",
       "female_ad                           0.25                         0.17   \n",
       "non_ad                              0.25                         0.17   \n",
       "\n",
       "             history_segment_$350 - $500  history_segment_$500 - $750  \\\n",
       "entire data                         0.09                         0.06   \n",
       "male_ad                             0.09                         0.06   \n",
       "female_ad                           0.09                         0.06   \n",
       "non_ad                              0.09                         0.06   \n",
       "\n",
       "             history_segment_$750 - $1,000  channel_Multichannel  \\\n",
       "entire data                           0.02                   0.1   \n",
       "male_ad                               0.02                   0.1   \n",
       "female_ad                             0.02                   0.1   \n",
       "non_ad                                0.02                   0.1   \n",
       "\n",
       "             channel_Phone  channel_Web  mens  womens  \n",
       "entire data           0.45         0.45   0.5     0.5  \n",
       "male_ad               0.44         0.46   0.5     0.5  \n",
       "female_ad             0.45         0.45   0.5     0.5  \n",
       "non_ad                0.45         0.45   0.5     0.5  "
      ]
     },
     "execution_count": 27,
     "metadata": {},
     "output_type": "execute_result"
    }
   ],
   "source": [
    "columns = ['zip_code_Rural',\n",
    " 'zip_code_Surburban',\n",
    " 'zip_code_Urban',\n",
    " 'history_segment_$0 - $100',\n",
    " 'history_segment_$1,000 +',\n",
    " 'history_segment_$100 - $200',\n",
    " 'history_segment_$200 - $350',\n",
    " 'history_segment_$350 - $500',\n",
    " 'history_segment_$500 - $750',\n",
    " 'history_segment_$750 - $1,000',\n",
    " 'channel_Multichannel',\n",
    " 'channel_Phone',\n",
    " 'channel_Web','mens','womens']\n",
    "index = ['entire data', 'male_ad', 'female_ad','non_ad']\n",
    "df_homog = pd.DataFrame([all_ratio_list, male_ratio_list, female_ratio_list, non_ratio_list], columns=columns, index=index)\n",
    "df_homog"
   ]
  },
  {
   "cell_type": "markdown",
   "metadata": {},
   "source": [
    "**Summary : 전체 데이터셋의 분포와 'treatment'의 값에 따라 분리된 집단의 분포는 매우 흡사하며 ATE를 적용할 수 있을 만큼 동질합니다. (homogeneous)**\n",
    "\n",
    "--------------------------------------"
   ]
  },
  {
   "cell_type": "markdown",
   "metadata": {},
   "source": [
    "**그리고 바플롯을 이용해 각 성별당 구매 전환율을 확인해보고 ATE를 계산하여 그 수치를 비교해보도록 하겠습니다**"
   ]
  },
  {
   "cell_type": "code",
   "execution_count": 28,
   "metadata": {
    "scrolled": true
   },
   "outputs": [
    {
     "data": {
      "text/plain": [
       "<matplotlib.axes._subplots.AxesSubplot at 0x19854c45388>"
      ]
     },
     "execution_count": 28,
     "metadata": {},
     "output_type": "execute_result"
    },
    {
     "data": {
      "image/png": "[encoded data removed]",
      "text/plain": [
       "<Figure size 432x288 with 1 Axes>"
      ]
     },
     "metadata": {
      "needs_background": "light"
     },
     "output_type": "display_data"
    }
   ],
   "source": [
    "sns.barplot(x = 'mens', y = 'target_conversion', data = final_dataset)"
   ]
  },
  {
   "cell_type": "code",
   "execution_count": 29,
   "metadata": {},
   "outputs": [
    {
     "data": {
      "text/plain": [
       "<matplotlib.axes._subplots.AxesSubplot at 0x19855663b48>"
      ]
     },
     "execution_count": 29,
     "metadata": {},
     "output_type": "execute_result"
    },
    {
     "data": {
      "image/png": "[encoded data removed]",
      "text/plain": [
       "<Figure size 432x288 with 1 Axes>"
      ]
     },
     "metadata": {
      "needs_background": "light"
     },
     "output_type": "display_data"
    }
   ],
   "source": [
    "sns.barplot(x = 'womens', y = 'target_conversion', data = final_dataset)"
   ]
  },
  {
   "cell_type": "markdown",
   "metadata": {},
   "source": [
    "__시각화 결과 남성보다 여자의 경우 구매 전환율(1) 비중이 더 높은 것이 확인되었다.__"
   ]
  },
  {
   "cell_type": "code",
   "execution_count": 30,
   "metadata": {
    "scrolled": false
   },
   "outputs": [
    {
     "data": {
      "text/plain": [
       "<matplotlib.axes._subplots.AxesSubplot at 0x19855294c08>"
      ]
     },
     "execution_count": 30,
     "metadata": {},
     "output_type": "execute_result"
    },
    {
     "data": {
      "image/png": "[encoded data removed]",
      "text/plain": [
       "<Figure size 432x288 with 1 Axes>"
      ]
     },
     "metadata": {
      "needs_background": "light"
     },
     "output_type": "display_data"
    }
   ],
   "source": [
    "sns.barplot(x = 'treatment', y = 'target_conversion', data = final_dataset)"
   ]
  },
  {
   "cell_type": "code",
   "execution_count": 31,
   "metadata": {
    "scrolled": true
   },
   "outputs": [
    {
     "data": {
      "text/plain": [
       "<matplotlib.axes._subplots.AxesSubplot at 0x19854efc848>"
      ]
     },
     "execution_count": 31,
     "metadata": {},
     "output_type": "execute_result"
    },
    {
     "data": {
      "image/png": "[encoded data removed]",
      "text/plain": [
       "<Figure size 432x288 with 1 Axes>"
      ]
     },
     "metadata": {
      "needs_background": "light"
     },
     "output_type": "display_data"
    }
   ],
   "source": [
    "sns.barplot(x = 'treatment', y = 'target_spend', data = final_dataset)"
   ]
  },
  {
   "cell_type": "code",
   "execution_count": 32,
   "metadata": {
    "scrolled": true
   },
   "outputs": [
    {
     "data": {
      "text/plain": [
       "<matplotlib.axes._subplots.AxesSubplot at 0x1985336cd08>"
      ]
     },
     "execution_count": 32,
     "metadata": {},
     "output_type": "execute_result"
    },
    {
     "data": {
      "image/png": "[encoded data removed]",
      "text/plain": [
       "<Figure size 432x288 with 1 Axes>"
      ]
     },
     "metadata": {
      "needs_background": "light"
     },
     "output_type": "display_data"
    }
   ],
   "source": [
    "sns.barplot(x = 'treatment', y = 'target_visit', data = final_dataset)"
   ]
  },
  {
   "cell_type": "markdown",
   "metadata": {},
   "source": [
    "ATE를 적용하지 않은 데이터에 시각화를 한 결과 처치(1: 남성 용품)의 경우가 여성용품(Treatment:2)보다 <br>\n",
    "광고 시 더 높은 구매 전환율, 소비금액, 방문율을 보여주는 것을 알 수 있습니다. <br>\n",
    "그렇다면 ATE를 적용 후 산출된 수치로 비교해보도록 하겠습니다"
   ]
  },
  {
   "cell_type": "code",
   "execution_count": 33,
   "metadata": {},
   "outputs": [],
   "source": [
    "def cal_uplift(df):\n",
    "    # 광고를 받은 집단과 그렇지 않은 집단 간의 물품구매가 있었냐 없었냐의 차이를 계산합니다.\n",
    "    # 각 처치에 해당하는 구매 전환 수를 계산 (합계)\n",
    "    male_conv = df[df.treatment == 1]['target_conversion'].sum()\n",
    "    female_conv = df[df.treatment == 2]['target_conversion'].sum()\n",
    "    control_conv = df[df.treatment == 0]['target_conversion'].sum()\n",
    "    \n",
    "    # 이후 계산을 위해 평균을 계산합니다.\n",
    "    male_conv_mean = df[df.treatment == 1]['target_conversion'].mean()\n",
    "    female_conv_mean = df[df.treatment == 2]['target_conversion'].mean()\n",
    "    control_conv_mean = df[df.treatment == 0]['target_conversion'].mean()\n",
    "    \n",
    "    # 차이 계산(횟수)\n",
    "    # ate 계산 : 실험군 평균 - 통제 변수(처치를 받지 못한) 평균 \n",
    "    male_conv_ate = male_conv_mean - control_conv_mean\n",
    "    female_conv_ate = female_conv_mean - control_conv_mean\n",
    "    \n",
    "    # 평균의 차이 계산(이는 광고를 받은 집단이 평균적으로 얼마나 더 많이 샀냐를 표현하는 지표입니다)\n",
    "    # 위에 거랑 똑같은 거 \n",
    "    male_conv_mean = male_conv_mean - control_conv_mean\n",
    "    female_conv_mean = female_conv_mean - control_conv_mean\n",
    "    \n",
    "    # 광고를 받은 집단과 그렇지 않은 집단 간의 사이트 방문횟수의 차이를 계산합니다.\n",
    "    # 방문 수에 대한 평균의 합산을 계산합니다. \n",
    "    male_visit = df[df.treatment == 1]['target_visit'].mean()\n",
    "    female_visit = df[df.treatment == 2]['target_visit'].mean()\n",
    "    control_visit = df[df.treatment == 0]['target_visit'].mean()\n",
    "    \n",
    "    # ate 계산 실험군 평균 - 통제 변수 평균 \n",
    "    male_visit_ate = male_visit - control_visit\n",
    "    female_visit_ate = female_visit - control_visit\n",
    "    \n",
    "\n",
    "    # (남성/여성) 평균 전환량 차이 (ate) * (남성/여성) 상품 전환량\n",
    "    \n",
    "    male_order = male_conv_mean*len(df[df.treatment == 1]['target_conversion'])\n",
    "    female_order = female_conv_mean*len(df[df.treatment == 2]['target_conversion'])\n",
    "    \n",
    "    # 평균 타겟 소비량 평균 \n",
    "    male_avg_spend = df[df.treatment==1]['target_spend'].mean()\n",
    "    female_avg_spend = df[df.treatment==2]['target_spend'].mean()\n",
    "    \n",
    "    # 각 집단에 속한 사람들의 평균 Conversion의 차이에 각 집단이 속한 사람들이 평균적으로 \n",
    "    # 지출한 금액을 곱해 광고를 받은 집단이 얼마나 더 많은 지출을 하였는지 계산합니다.\n",
    "    \n",
    "    male_spend_ate = male_order*male_avg_spend\n",
    "    female_spend_ate = female_order*female_avg_spend\n",
    "    \n",
    "    print(f\"Male E-mail Conversion ATE : {male_conv_ate:.03f}\")\n",
    "    print(f\"Male E-mail Visit ATE : {male_visit_ate :.03f}\")\n",
    "    print(f\"Male E-mail Spend ATE : ${male_spend_ate :.03f}\")\n",
    "    \n",
    "    print(\"---------------------------------------------------------------\")\n",
    "\n",
    "    print(f\"Female E-mail Conversion ATE : {female_conv_ate:.03f}\")\n",
    "    print(f\"Female E-mail Visit ATE : {female_visit_ate :.03f}\")\n",
    "    print(f\"Female E-mail Spend ATE : ${female_spend_ate :.03f}\")"
   ]
  },
  {
   "cell_type": "code",
   "execution_count": 34,
   "metadata": {},
   "outputs": [
    {
     "name": "stdout",
     "output_type": "stream",
     "text": [
      "Male E-mail Conversion ATE : 0.006\n",
      "Male E-mail Visit ATE : 0.070\n",
      "Male E-mail Spend ATE : $139.327\n",
      "---------------------------------------------------------------\n",
      "Female E-mail Conversion ATE : 0.003\n",
      "Female E-mail Visit ATE : 0.043\n",
      "Female E-mail Spend ATE : $58.068\n"
     ]
    }
   ],
   "source": [
    "cal_uplift(final_dataset)"
   ]
  },
  {
   "cell_type": "markdown",
   "metadata": {},
   "source": [
    "결과를 해석하자면 남성상품에 대한 광고를 받은 집단은 아무런 광고를 받지 않은 집단보다 광고된 상품을 평균적으로 0.6% 더 많이 구매를 하였고, 7%정도 더 많이 사이트에 방문하였으며, 139.327달러를 더 많이 지출한 것을 의미합니다.\n",
    "\n",
    "여성상품에 대한 광고를 받은 집단 역시 그렇지 않은 집단보다 광고된 상품을 0.3% 더 많이 구매하였고, 4.256% 정도 더 많이 사이트에 방문하였으며, 58달러를 더 많이 지출한 것을 의미합니다.\n",
    "\n",
    "시각화와 ATE 결과를 통해 광고 전 단순 각 성별 집단 내 구매전환율 비중이 높다고 소비 금액이 높은 것이 아니며 남성의 경우 광고의 효과가 더 높은 것을 확인할 수 있었습니다."
   ]
  },
  {
   "cell_type": "markdown",
   "metadata": {},
   "source": [
    "## Multi-Classification Model for Predicting the Uplift Score"
   ]
  },
  {
   "cell_type": "markdown",
   "metadata": {},
   "source": [
    "이제 customer segmentation을 할 차례입니다. \n",
    "\n",
    "우선 고객을 4가지 범주로 Label encoding하게 됩니다.\n",
    "\n",
    "\n",
    "1. 광고를 받았고, 광고된 상품을 구매한 고객 - 0\n",
    "2. 광고를 받았으나 광고된 상품을 구매하지 않는 고객 - 1\n",
    "3. 광고를 받지 않았고, 광고된 상품을 구매한 고객 - 2\n",
    "4. 광고를 받지 않았고, 광고된 상품을 구매하지 않은 고객 - 3\n",
    "\n",
    "\n",
    "논의의 편의를 위해 Male,Female 상품에 대한 광고를 받은 사람을 1로 묶고, 그렇지 않은 사람들을 0으로 묶겠습니다. <br>이때 두 집단 간의 비율의 차이가 발생하지만 이는 무시하겠습니다."
   ]
  },
  {
   "cell_type": "markdown",
   "metadata": {},
   "source": [
    "우리가 사용하게 될 모델은 Uplift Modeling으로 Uplift Score를 산출하여 고객을 Segmentation하는 방식입니다.\n",
    "\n",
    "**Uplift Score = P(Persuadables) + P(Lost Caues) - P(Sure things) - P(sleeping dogs)** 이며,<br>\n",
    "직관적인 설명은 광고를 진행하였을 때 구매를 진행할 확률에서 광고를 진행하지 않아도 살 확률과 광고를 진행해도 매몰되는 소비자군일 확률을 차감한 것입니다. <br>-1에서 1사이로 측정되며 그 값이 클수록 광고효과가 큰 고객이 됩니다"
   ]
  },
  {
   "cell_type": "markdown",
   "metadata": {},
   "source": [
    "**광고가 효과가 있냐 없냐를 보는 것**"
   ]
  },
  {
   "cell_type": "code",
   "execution_count": 35,
   "metadata": {},
   "outputs": [],
   "source": [
    "classify_dataset = dataset.copy()\n",
    "# classify dataset 객체를 만든다.\n",
    "classify_dataset['treatment'] = classify_dataset['treatment'].apply(lambda x : 1 if (x==1 or x==2) else 0)\n",
    "# 처치(1 or 2)를 받으면 1로 나머지는 0으로 스케일링  "
   ]
  },
  {
   "cell_type": "markdown",
   "metadata": {},
   "source": [
    "Class Column 생성 \n",
    "<ul>\n",
    "    \n",
    "<li>처치군 - > 구매 전환 : 0</li>\n",
    "<li>처치군 - > 구매 전환 X : 1</li>\n",
    "<li>통제군 -> 구매 전환 : 2</li>\n",
    "<li>통제군 -> 구매 전환 X : 3</li>\n",
    "    \n",
    "</ul>"
   ]
  },
  {
   "cell_type": "code",
   "execution_count": 36,
   "metadata": {},
   "outputs": [],
   "source": [
    "label_lst = []\n",
    "\n",
    "\n",
    "\n",
    "for i in range(len(classify_dataset)):\n",
    "    if (classify_dataset['treatment'].iloc[i] == 1 and classify_dataset['target_conversion'].iloc[i] == 1):\n",
    "        label_lst.append(0)\n",
    "    elif (classify_dataset['treatment'].iloc[i] == 1 and classify_dataset['target_conversion'].iloc[i] == 0):\n",
    "        label_lst.append(1)\n",
    "    elif (classify_dataset['treatment'].iloc[i] == 0 and classify_dataset['target_conversion'].iloc[i] == 1):\n",
    "        label_lst.append(2)\n",
    "    elif (classify_dataset['treatment'].iloc[i] == 0 and classify_dataset['target_conversion'].iloc[i] == 0):\n",
    "        label_lst.append(3)\n",
    "        \n",
    "classify_dataset['Class'] = label_lst"
   ]
  },
  {
   "cell_type": "code",
   "execution_count": 37,
   "metadata": {},
   "outputs": [
    {
     "data": {
      "text/plain": [
       "1    38023\n",
       "3    19055\n",
       "0      372\n",
       "2      102\n",
       "Name: Class, dtype: int64"
      ]
     },
     "execution_count": 37,
     "metadata": {},
     "output_type": "execute_result"
    }
   ],
   "source": [
    "classify_dataset['Class'].value_counts()"
   ]
  },
  {
   "cell_type": "code",
   "execution_count": 38,
   "metadata": {},
   "outputs": [
    {
     "data": {
      "text/plain": [
       "<matplotlib.axes._subplots.AxesSubplot at 0x19851f08c88>"
      ]
     },
     "execution_count": 38,
     "metadata": {},
     "output_type": "execute_result"
    },
    {
     "data": {
      "image/png": "[encoded data removed]",
      "text/plain": [
       "<Figure size 432x288 with 1 Axes>"
      ]
     },
     "metadata": {
      "needs_background": "light"
     },
     "output_type": "display_data"
    }
   ],
   "source": [
    "sns.countplot(x = 'Class', data = classify_dataset)"
   ]
  },
  {
   "cell_type": "markdown",
   "metadata": {},
   "source": [
    "역시나 불균형이지만 SMOTE 등은 진행하지 않겠습니다."
   ]
  },
  {
   "cell_type": "markdown",
   "metadata": {},
   "source": [
    "이제 Class를 Target으로 하여 decision tree를 기반으로 하는 __XGBoost Classifier__ 를 통해 학습을 시킨 뒤 <br>각각의 고객이 어느 집단에 속할지를 확률로 표현하여 **Uplift Score**를 산출하겠습니다."
   ]
  },
  {
   "cell_type": "markdown",
   "metadata": {},
   "source": [
    "### Random Forest를 이용한 Multi Class Classification"
   ]
  },
  {
   "cell_type": "code",
   "execution_count": 144,
   "metadata": {},
   "outputs": [],
   "source": [
    "from sklearn.model_selection import train_test_split\n",
    "np.set_printoptions(suppress=True)\n",
    "pd.options.display.float_format = '{:.5f}'.format\n",
    "\n",
    "used_cols = ['recency', 'history', 'mens', 'womens', 'newbie', 'zip_code_Rural',\n",
    "       'zip_code_Surburban', 'zip_code_Urban', 'history_segment_$0 - $100',\n",
    "       'history_segment_$1,000 +', 'history_segment_$100 - $200',\n",
    "       'history_segment_$200 - $350', 'history_segment_$350 - $500',\n",
    "       'history_segment_$500 - $750', 'history_segment_$750 - $1,000',\n",
    "       'channel_Multichannel', 'channel_Phone', 'channel_Web']\n",
    "\n",
    "X = classify_dataset[used_cols]\n",
    "y = classify_dataset['Class']\n",
    "\n",
    "X_train, X_test, y_train, y_test = train_test_split(X,y,test_size=0.3)"
   ]
  },
  {
   "cell_type": "code",
   "execution_count": 145,
   "metadata": {},
   "outputs": [
    {
     "name": "stdout",
     "output_type": "stream",
     "text": [
      "랜덤 포레스트 정확도: 0.5657\n"
     ]
    }
   ],
   "source": [
    "from sklearn.ensemble import RandomForestClassifier\n",
    "from sklearn.metrics import accuracy_score\n",
    "\n",
    "rf_clf = RandomForestClassifier(random_state=0)\n",
    "rf_clf.fit(X_train, y_train)\n",
    "pred = rf_clf.predict(X_test)\n",
    "accuracy = accuracy_score(y_test, pred)\n",
    "print('랜덤 포레스트 정확도: {:.4f}'.format(accuracy))"
   ]
  },
  {
   "cell_type": "code",
   "execution_count": 146,
   "metadata": {},
   "outputs": [
    {
     "name": "stdout",
     "output_type": "stream",
     "text": [
      "최적 하이퍼 파라미터:  {'max_depth': 12, 'min_samples_leaf': 18, 'min_samples_split': 8, 'n_estimators': 100}\n",
      "최고 예측 정확도: 0.6616\n"
     ]
    }
   ],
   "source": [
    "from sklearn.model_selection import GridSearchCV\n",
    "\n",
    "params = { 'n_estimators' : [10, 100],\n",
    "           'max_depth' : [6, 8, 10, 12],\n",
    "           'min_samples_leaf' : [8, 12, 18],\n",
    "           'min_samples_split' : [8, 16, 20]\n",
    "            }\n",
    "\n",
    "# RandomForestClassifier 객체 생성 후 GridSearchCV 수행\n",
    "rf_clf = RandomForestClassifier(random_state = 0, n_jobs = -1)\n",
    "grid_cv = GridSearchCV(rf_clf, param_grid = params, cv = 3, n_jobs = -1)\n",
    "grid_cv.fit(X_train, y_train)\n",
    "\n",
    "print('최적 하이퍼 파라미터: ', grid_cv.best_params_)\n",
    "print('최고 예측 정확도: {:.4f}'.format(grid_cv.best_score_))"
   ]
  },
  {
   "cell_type": "code",
   "execution_count": 147,
   "metadata": {},
   "outputs": [
    {
     "data": {
      "text/plain": [
       "RandomForestClassifier(max_depth=10, min_samples_leaf=8, min_samples_split=20,\n",
       "                       n_jobs=-1, random_state=0)"
      ]
     },
     "execution_count": 147,
     "metadata": {},
     "output_type": "execute_result"
    }
   ],
   "source": [
    "#위의 결과로 나온 최적 하이퍼 파라미터로 다시 모델을 학습하여 테스트 세트 데이터에서 예측 성능을 측정\n",
    "rf_clf1 = RandomForestClassifier(n_estimators = 100, \n",
    "                                max_depth = 10,\n",
    "                                min_samples_leaf = 8,\n",
    "                                min_samples_split = 20,\n",
    "                                random_state = 0,\n",
    "                                n_jobs = -1)\n",
    "rf_clf1.fit(X_train, y_train)"
   ]
  },
  {
   "cell_type": "code",
   "execution_count": 148,
   "metadata": {},
   "outputs": [
    {
     "name": "stdout",
     "output_type": "stream",
     "text": [
      "예측 정확도: 0.6587\n"
     ]
    }
   ],
   "source": [
    "pred = rf_clf1.predict(X_test)\n",
    "print('예측 정확도: {:.4f}'.format(accuracy_score(y_test,pred)))"
   ]
  },
  {
   "cell_type": "code",
   "execution_count": 149,
   "metadata": {},
   "outputs": [
    {
     "name": "stderr",
     "output_type": "stream",
     "text": [
      "C:\\Users\\Home\\anaconda3\\lib\\site-packages\\seaborn\\distributions.py:2557: FutureWarning: `distplot` is a deprecated function and will be removed in a future version. Please adapt your code to use either `displot` (a figure-level function with similar flexibility) or `histplot` (an axes-level function for histograms).\n",
      "  warnings.warn(msg, FutureWarning)\n"
     ]
    },
    {
     "data": {
      "text/plain": [
       "<matplotlib.axes._subplots.AxesSubplot at 0x1985739b548>"
      ]
     },
     "execution_count": 149,
     "metadata": {},
     "output_type": "execute_result"
    },
    {
     "data": {
      "image/png": "[encoded data removed]",
      "text/plain": [
       "<Figure size 432x288 with 1 Axes>"
      ]
     },
     "metadata": {
      "needs_background": "light"
     },
     "output_type": "display_data"
    }
   ],
   "source": [
    "class_probs1 = rf_clf1.predict_proba(X_test)\n",
    "\n",
    "overall_proba1 = rf_clf1.predict_proba(X)\n",
    "\n",
    "result_dataset1 = classify_dataset.copy()\n",
    "\n",
    "for i in range(4):\n",
    "    result_dataset1[f'proba_{i}'] = overall_proba1[:,i] \n",
    "\n",
    "result_dataset1.eval('uplift_score = proba_0+proba_3-proba_1-proba_2', inplace = True)\n",
    "sns.distplot(result_dataset1['uplift_score'], kde = True)"
   ]
  },
  {
   "cell_type": "markdown",
   "metadata": {},
   "source": [
    "__displot을 통해 보게 되면 randomforest를 이용해 분류를 한 결과값이 약간 rough 하게 분류가 된 감이 없지 않아 있어 보인다.__"
   ]
  },
  {
   "cell_type": "code",
   "execution_count": 155,
   "metadata": {},
   "outputs": [],
   "source": [
    "result_dataset = classify_dataset.copy()\n",
    "\n",
    "for i in range(4):\n",
    "    result_dataset[f'proba_{i}'] = overall_proba1[:,i] \n",
    "\n",
    "result_dataset['uplift_score'] = result_dataset.eval('proba_0+proba_3-proba_1-proba_2')"
   ]
  },
  {
   "cell_type": "markdown",
   "metadata": {},
   "source": [
    "#### Evaluation"
   ]
  },
  {
   "cell_type": "markdown",
   "metadata": {},
   "source": [
    "이제 Uplift Score가 고객들을 잘 분류해내고 있는지 평가해야합니다. 사실 Uplift Model을 평가하는 것을 굉장히 어려우나 간단하게 \n",
    "Uplift score 상위 25%의 고객의 ATE와 하위 25%고객의 ATE를 비교해보겠습니다. 잘 분류해냈다면 상위 25% 고객의 ATE가 더 크게 나오게 될 것입니다."
   ]
  },
  {
   "cell_type": "code",
   "execution_count": 156,
   "metadata": {},
   "outputs": [],
   "source": [
    "rf_atelist = {}\n",
    "\n",
    "rf_num = 0\n",
    "\n",
    "def cal_uplift_eval(df):   \n",
    "    \n",
    "    global rf_num \n",
    "    # 이후 계산을 위해 평균을 계산합니다.\n",
    "    treatment_conv_mean = df[df.treatment == 1]['target_conversion'].mean()\n",
    "    control_conv_mean = df[df.treatment == 0]['target_conversion'].mean()\n",
    "    \n",
    "    # 차이 계산(횟수)\n",
    "    treatment_conv_ate = treatment_conv_mean - control_conv_mean\n",
    "    \n",
    "    # 광고를 받은 집단과 그렇지 않은 집단 간의 사이트 방문횟수의 차이를 계산합니다.\n",
    "    treatment_visit = df[df.treatment == 1]['target_visit'].mean()\n",
    "    control_visit = df[df.treatment == 0]['target_visit'].mean()\n",
    "    \n",
    "    treatment_visit_ate = treatment_visit - control_visit\n",
    "    \n",
    "    # 각 집단에 속한 사람들의 평균 Conversion의 차이에 각 집단이 속한 사람들이 평균적으로 \n",
    "    # 지출한 금액을 곱해 광고를 받은 집단이 얼마나 더 많은 지출을 하였는지 계산합니다.\n",
    "    treatment_order = treatment_conv_mean*len(df[df.treatment == 1]['target_conversion'])\n",
    "    treatment_avg_spend = df[df.treatment==1]['target_spend'].mean()\n",
    "    \n",
    "    treatment_spend_ate = treatment_order*treatment_avg_spend\n",
    "    \n",
    "    print(f\"Treatment Conversion ATE : {treatment_conv_ate:.03f}\")\n",
    "    print(f\"Treatment Visit ATE : {treatment_visit_ate :.03f}\")\n",
    "    print(f\"Treatment Spend ATE : ${treatment_spend_ate :.03f}\")\n",
    "    \n",
    "    rf_atelist[rf_num] = {'Treatment Conversion ATE': treatment_conv_ate,'Treatment Visit ATE': treatment_visit_ate, 'Treatment Spend ATE':treatment_spend_ate}\n",
    "    \n",
    "    rf_num = rf_num + 1"
   ]
  },
  {
   "cell_type": "code",
   "execution_count": 157,
   "metadata": {},
   "outputs": [
    {
     "name": "stdout",
     "output_type": "stream",
     "text": [
      "Treatment Conversion ATE : 0.013\n",
      "Treatment Visit ATE : 0.057\n",
      "Treatment Spend ATE : $268.430\n"
     ]
    }
   ],
   "source": [
    "data_lift = result_dataset.copy()\n",
    "uplift_q_75 = data_lift.uplift_score.quantile(0.75)\n",
    "eval_75 = data_lift[data_lift.uplift_score >= uplift_q_75]\n",
    "\n",
    "cal_uplift_eval(eval_75)"
   ]
  },
  {
   "cell_type": "code",
   "execution_count": 158,
   "metadata": {},
   "outputs": [
    {
     "name": "stdout",
     "output_type": "stream",
     "text": [
      "Treatment Conversion ATE : -0.002\n",
      "Treatment Visit ATE : 0.047\n",
      "Treatment Spend ATE : $63.314\n"
     ]
    }
   ],
   "source": [
    "uplift_q_25 = data_lift.uplift_score.quantile(0.25)\n",
    "eval_25 = data_lift[data_lift.uplift_score <= uplift_q_25]\n",
    "\n",
    "cal_uplift_eval(eval_25)"
   ]
  },
  {
   "cell_type": "code",
   "execution_count": 160,
   "metadata": {},
   "outputs": [
    {
     "data": {
      "text/html": [
       "<div>\n",
       "<style scoped>\n",
       "    .dataframe tbody tr th:only-of-type {\n",
       "        vertical-align: middle;\n",
       "    }\n",
       "\n",
       "    .dataframe tbody tr th {\n",
       "        vertical-align: top;\n",
       "    }\n",
       "\n",
       "    .dataframe thead th {\n",
       "        text-align: right;\n",
       "    }\n",
       "</style>\n",
       "<table border=\"1\" class=\"dataframe\">\n",
       "  <thead>\n",
       "    <tr style=\"text-align: right;\">\n",
       "      <th></th>\n",
       "      <th>Treatment Conversion ATE</th>\n",
       "      <th>Treatment Visit ATE</th>\n",
       "      <th>Treatment Spend ATE</th>\n",
       "    </tr>\n",
       "  </thead>\n",
       "  <tbody>\n",
       "    <tr>\n",
       "      <th>up q75</th>\n",
       "      <td>0.01285</td>\n",
       "      <td>0.05745</td>\n",
       "      <td>268.43037</td>\n",
       "    </tr>\n",
       "    <tr>\n",
       "      <th>down q25</th>\n",
       "      <td>-0.00173</td>\n",
       "      <td>0.04707</td>\n",
       "      <td>63.31422</td>\n",
       "    </tr>\n",
       "  </tbody>\n",
       "</table>\n",
       "</div>"
      ],
      "text/plain": [
       "          Treatment Conversion ATE  Treatment Visit ATE  Treatment Spend ATE\n",
       "up q75                     0.01285              0.05745            268.43037\n",
       "down q25                  -0.00173              0.04707             63.31422"
      ]
     },
     "execution_count": 160,
     "metadata": {},
     "output_type": "execute_result"
    }
   ],
   "source": [
    "rf_ate = pd.DataFrame.from_dict(rf_atelist)\n",
    "rf_ate=rf_ate.T\n",
    "rf_ate.rename(index = {0:'up q75',1:'down q25'}, inplace = True)\n",
    "rf_ate"
   ]
  },
  {
   "cell_type": "markdown",
   "metadata": {},
   "source": [
    "### XGBoost를 이용한 muti class classification"
   ]
  },
  {
   "cell_type": "code",
   "execution_count": 110,
   "metadata": {},
   "outputs": [],
   "source": [
    "import sklearn\n",
    "import xgboost as xgb"
   ]
  },
  {
   "cell_type": "code",
   "execution_count": 111,
   "metadata": {},
   "outputs": [],
   "source": [
    "from sklearn.model_selection import train_test_split\n",
    "# from xgboost import XGBClassifier\n",
    "np.set_printoptions(suppress=True)\n",
    "from sklearn.metrics import classification_report, accuracy_score\n",
    "\n",
    "# set_printoptions출력의 정밀도를 설정하는 데 사용할 수 있습니다 .\n",
    "# suppress : 소수에 대한 과학적 표기법의 사용을 억제합니다.\n",
    "\n",
    "pd.options.display.float_format = '{:.5f}'.format\n",
    "# pandas.option 객체 pandas.set_option() 함수를 사용하여 출력 형태를 다양하게 지정할 수 있다. \n",
    "# 예를 들어, 소수점 이하 2자리만 표현하고 싶다면 아래와 같이 할 수 있다. \n",
    "# 이때, f 혹은 e 를 사용하여 과학적 표기법을 쓸지 여부를 지정할 수 있다.\n",
    "\n",
    "used_cols = ['recency', 'history', 'mens', 'womens', 'newbie', 'zip_code_Rural',\n",
    "       'zip_code_Surburban', 'zip_code_Urban', 'history_segment_$0 - $100',\n",
    "       'history_segment_$1,000 +', 'history_segment_$100 - $200',\n",
    "       'history_segment_$200 - $350', 'history_segment_$350 - $500',\n",
    "       'history_segment_$500 - $750', 'history_segment_$750 - $1,000',\n",
    "       'channel_Multichannel', 'channel_Phone', 'channel_Web']\n",
    "\n",
    "X = classify_dataset[used_cols]\n",
    "y = classify_dataset['Class']\n",
    "\n",
    "X_train, X_test, y_train, y_test = train_test_split(X,y,test_size=0.3)"
   ]
  },
  {
   "cell_type": "code",
   "execution_count": 112,
   "metadata": {},
   "outputs": [
    {
     "name": "stdout",
     "output_type": "stream",
     "text": [
      "Number transactions X_train dataset:  (40286, 18)\n",
      "Number transactions y_train dataset:  (40286,)\n",
      "Number transactions X_test dataset:  (17266, 18)\n",
      "Number transactions y_test dataset:  (17266,)\n"
     ]
    }
   ],
   "source": [
    "print(\"Number transactions X_train dataset: \", X_train.shape)\n",
    "print(\"Number transactions y_train dataset: \", y_train.shape)\n",
    "print(\"Number transactions X_test dataset: \", X_test.shape)\n",
    "print(\"Number transactions y_test dataset: \", y_test.shape)"
   ]
  },
  {
   "cell_type": "markdown",
   "metadata": {},
   "source": [
    "**의사결정나무 모형 깊이 hyper parameter 중 max depth와 subsample를 달리해서 XGBoost 예측모형의 성능을 비교해본다.**"
   ]
  },
  {
   "cell_type": "markdown",
   "metadata": {},
   "source": [
    "robust한 예측모형 구축을 위해서 훈련데이터를 __교차검증(Cross-Validation)__ 을 통해서 \n",
    "<br> 과적합을 방지시킬 수 있는 모형을 구축할 수 있다.\n",
    "<br> 즉 훈련데이터를 5조각을 내서 1조각을 제외한 나머지 조각을 훈련에 사용하고 모형성능을 1조각으로 평가시켜 \n",
    "<br>가장 강건한 모형을 예측모형으로 선정한다."
   ]
  },
  {
   "cell_type": "code",
   "execution_count": 115,
   "metadata": {},
   "outputs": [
    {
     "data": {
      "text/plain": [
       "GridSearchCV(cv=5, estimator=XGBClassifier(), n_jobs=8,\n",
       "             param_grid={'max_depth': [3, 5, 7, 10],\n",
       "                         'subsample': [0.6, 0.8, 1.0]},\n",
       "             return_train_score=True, scoring='accuracy')"
      ]
     },
     "execution_count": 115,
     "metadata": {},
     "output_type": "execute_result"
    }
   ],
   "source": [
    "from sklearn.model_selection import GridSearchCV\n",
    "\n",
    "# XGBoost 분류기 생성\n",
    "xgb_clf = xgb.XGBClassifier()\n",
    "\n",
    "# 초모수 격자생성\n",
    "xgb_param_grid = {'max_depth': [3,5,7,10], \n",
    "              'subsample': [0.6, 0.8, 1.0]}\n",
    "\n",
    "# Create a GridSearchCV object\n",
    "# cv = 5\n",
    "hr_grid = GridSearchCV(estimator=xgb_clf,\n",
    "                       param_grid=xgb_param_grid,\n",
    "                       scoring='accuracy',\n",
    "                       n_jobs=8,\n",
    "                       cv=5,\n",
    "                       refit=True, \n",
    "                       return_train_score=True)\n",
    "\n",
    "hr_grid.fit(X_train, y_train)"
   ]
  },
  {
   "cell_type": "code",
   "execution_count": 116,
   "metadata": {},
   "outputs": [
    {
     "data": {
      "text/html": [
       "<div>\n",
       "<style scoped>\n",
       "    .dataframe tbody tr th:only-of-type {\n",
       "        vertical-align: middle;\n",
       "    }\n",
       "\n",
       "    .dataframe tbody tr th {\n",
       "        vertical-align: top;\n",
       "    }\n",
       "\n",
       "    .dataframe thead th {\n",
       "        text-align: right;\n",
       "    }\n",
       "</style>\n",
       "<table border=\"1\" class=\"dataframe\">\n",
       "  <thead>\n",
       "    <tr style=\"text-align: right;\">\n",
       "      <th></th>\n",
       "      <th>mean_test_score</th>\n",
       "      <th>params</th>\n",
       "    </tr>\n",
       "  </thead>\n",
       "  <tbody>\n",
       "    <tr>\n",
       "      <th>0</th>\n",
       "      <td>0.65936</td>\n",
       "      <td>{'max_depth': 3, 'subsample': 0.6}</td>\n",
       "    </tr>\n",
       "    <tr>\n",
       "      <th>1</th>\n",
       "      <td>0.65934</td>\n",
       "      <td>{'max_depth': 3, 'subsample': 0.8}</td>\n",
       "    </tr>\n",
       "    <tr>\n",
       "      <th>2</th>\n",
       "      <td>0.65916</td>\n",
       "      <td>{'max_depth': 3, 'subsample': 1.0}</td>\n",
       "    </tr>\n",
       "    <tr>\n",
       "      <th>3</th>\n",
       "      <td>0.65881</td>\n",
       "      <td>{'max_depth': 5, 'subsample': 0.6}</td>\n",
       "    </tr>\n",
       "    <tr>\n",
       "      <th>4</th>\n",
       "      <td>0.65864</td>\n",
       "      <td>{'max_depth': 5, 'subsample': 0.8}</td>\n",
       "    </tr>\n",
       "    <tr>\n",
       "      <th>5</th>\n",
       "      <td>0.65864</td>\n",
       "      <td>{'max_depth': 5, 'subsample': 1.0}</td>\n",
       "    </tr>\n",
       "    <tr>\n",
       "      <th>6</th>\n",
       "      <td>0.65705</td>\n",
       "      <td>{'max_depth': 7, 'subsample': 0.6}</td>\n",
       "    </tr>\n",
       "    <tr>\n",
       "      <th>7</th>\n",
       "      <td>0.65782</td>\n",
       "      <td>{'max_depth': 7, 'subsample': 0.8}</td>\n",
       "    </tr>\n",
       "    <tr>\n",
       "      <th>8</th>\n",
       "      <td>0.65703</td>\n",
       "      <td>{'max_depth': 7, 'subsample': 1.0}</td>\n",
       "    </tr>\n",
       "    <tr>\n",
       "      <th>9</th>\n",
       "      <td>0.64658</td>\n",
       "      <td>{'max_depth': 10, 'subsample': 0.6}</td>\n",
       "    </tr>\n",
       "    <tr>\n",
       "      <th>10</th>\n",
       "      <td>0.65216</td>\n",
       "      <td>{'max_depth': 10, 'subsample': 0.8}</td>\n",
       "    </tr>\n",
       "    <tr>\n",
       "      <th>11</th>\n",
       "      <td>0.65315</td>\n",
       "      <td>{'max_depth': 10, 'subsample': 1.0}</td>\n",
       "    </tr>\n",
       "  </tbody>\n",
       "</table>\n",
       "</div>"
      ],
      "text/plain": [
       "    mean_test_score                               params\n",
       "0           0.65936   {'max_depth': 3, 'subsample': 0.6}\n",
       "1           0.65934   {'max_depth': 3, 'subsample': 0.8}\n",
       "2           0.65916   {'max_depth': 3, 'subsample': 1.0}\n",
       "3           0.65881   {'max_depth': 5, 'subsample': 0.6}\n",
       "4           0.65864   {'max_depth': 5, 'subsample': 0.8}\n",
       "5           0.65864   {'max_depth': 5, 'subsample': 1.0}\n",
       "6           0.65705   {'max_depth': 7, 'subsample': 0.6}\n",
       "7           0.65782   {'max_depth': 7, 'subsample': 0.8}\n",
       "8           0.65703   {'max_depth': 7, 'subsample': 1.0}\n",
       "9           0.64658  {'max_depth': 10, 'subsample': 0.6}\n",
       "10          0.65216  {'max_depth': 10, 'subsample': 0.8}\n",
       "11          0.65315  {'max_depth': 10, 'subsample': 1.0}"
      ]
     },
     "execution_count": 116,
     "metadata": {},
     "output_type": "execute_result"
    }
   ],
   "source": [
    "hr_grid_df = pd.DataFrame(hr_grid.cv_results_)\n",
    "hr_grid_df.loc[:, ['mean_test_score', \"params\"]]"
   ]
  },
  {
   "cell_type": "code",
   "execution_count": 117,
   "metadata": {},
   "outputs": [
    {
     "data": {
      "text/html": [
       "<div>\n",
       "<style scoped>\n",
       "    .dataframe tbody tr th:only-of-type {\n",
       "        vertical-align: middle;\n",
       "    }\n",
       "\n",
       "    .dataframe tbody tr th {\n",
       "        vertical-align: top;\n",
       "    }\n",
       "\n",
       "    .dataframe thead th {\n",
       "        text-align: right;\n",
       "    }\n",
       "</style>\n",
       "<table border=\"1\" class=\"dataframe\">\n",
       "  <thead>\n",
       "    <tr style=\"text-align: right;\">\n",
       "      <th></th>\n",
       "      <th>mean_fit_time</th>\n",
       "      <th>std_fit_time</th>\n",
       "      <th>mean_score_time</th>\n",
       "      <th>std_score_time</th>\n",
       "      <th>param_max_depth</th>\n",
       "      <th>param_subsample</th>\n",
       "      <th>params</th>\n",
       "      <th>split0_test_score</th>\n",
       "      <th>split1_test_score</th>\n",
       "      <th>split2_test_score</th>\n",
       "      <th>...</th>\n",
       "      <th>mean_test_score</th>\n",
       "      <th>std_test_score</th>\n",
       "      <th>rank_test_score</th>\n",
       "      <th>split0_train_score</th>\n",
       "      <th>split1_train_score</th>\n",
       "      <th>split2_train_score</th>\n",
       "      <th>split3_train_score</th>\n",
       "      <th>split4_train_score</th>\n",
       "      <th>mean_train_score</th>\n",
       "      <th>std_train_score</th>\n",
       "    </tr>\n",
       "  </thead>\n",
       "  <tbody>\n",
       "    <tr>\n",
       "      <th>0</th>\n",
       "      <td>10.80306</td>\n",
       "      <td>0.15457</td>\n",
       "      <td>0.12431</td>\n",
       "      <td>0.00626</td>\n",
       "      <td>3</td>\n",
       "      <td>0.60000</td>\n",
       "      <td>{'max_depth': 3, 'subsample': 0.6}</td>\n",
       "      <td>0.65934</td>\n",
       "      <td>0.65943</td>\n",
       "      <td>0.65930</td>\n",
       "      <td>...</td>\n",
       "      <td>0.65936</td>\n",
       "      <td>0.00012</td>\n",
       "      <td>1</td>\n",
       "      <td>0.65999</td>\n",
       "      <td>0.65956</td>\n",
       "      <td>0.65965</td>\n",
       "      <td>0.65975</td>\n",
       "      <td>0.66003</td>\n",
       "      <td>0.65979</td>\n",
       "      <td>0.00018</td>\n",
       "    </tr>\n",
       "  </tbody>\n",
       "</table>\n",
       "<p>1 rows × 22 columns</p>\n",
       "</div>"
      ],
      "text/plain": [
       "   mean_fit_time  std_fit_time  mean_score_time  std_score_time  \\\n",
       "0       10.80306       0.15457          0.12431         0.00626   \n",
       "\n",
       "  param_max_depth param_subsample                              params  \\\n",
       "0               3         0.60000  {'max_depth': 3, 'subsample': 0.6}   \n",
       "\n",
       "   split0_test_score  split1_test_score  split2_test_score  ...  \\\n",
       "0            0.65934            0.65943            0.65930  ...   \n",
       "\n",
       "   mean_test_score  std_test_score  rank_test_score  split0_train_score  \\\n",
       "0          0.65936         0.00012                1             0.65999   \n",
       "\n",
       "   split1_train_score  split2_train_score  split3_train_score  \\\n",
       "0             0.65956             0.65965             0.65975   \n",
       "\n",
       "   split4_train_score  mean_train_score  std_train_score  \n",
       "0             0.66003           0.65979          0.00018  \n",
       "\n",
       "[1 rows x 22 columns]"
      ]
     },
     "execution_count": 117,
     "metadata": {},
     "output_type": "execute_result"
    }
   ],
   "source": [
    "hr_grid_df[hr_grid_df['rank_test_score'] == 1]"
   ]
  },
  {
   "cell_type": "code",
   "execution_count": 118,
   "metadata": {
    "scrolled": true
   },
   "outputs": [
    {
     "name": "stdout",
     "output_type": "stream",
     "text": [
      "예측모형성능(Accuracy):  \t 0.659\n",
      "        인덱스:           \t 0\n",
      "        max_depth:      \t 3\n",
      "        subsample:      \t 0.6\n"
     ]
    }
   ],
   "source": [
    "## 최고성능\n",
    "best_score = hr_grid.best_score_\n",
    "# 최고성능을 내는 행을 찾아냄\n",
    "best_row = hr_grid.best_index_\n",
    "\n",
    "# 최적 초모수: max_depth, subsample\n",
    "best_max_depth     = hr_grid.best_params_[\"max_depth\"]\n",
    "best_max_subsample = hr_grid.best_params_[\"subsample\"]\n",
    "\n",
    "nl = '\\n'\n",
    "print(f'예측모형성능(Accuracy):  \\t {best_score:.3f}{nl}\\\n",
    "        인덱스:           \\t {best_row}{nl}\\\n",
    "        max_depth:      \\t {best_max_depth}{nl}\\\n",
    "        subsample:      \\t {best_max_subsample}')"
   ]
  },
  {
   "cell_type": "markdown",
   "metadata": {},
   "source": [
    "__위의 결과에 따라서 max depth는 3으로 채택하기로 하자\n",
    "<br>\n",
    "sub_sample은 0.6으로 파라미터 튜닝을 하기로 하자__"
   ]
  },
  {
   "cell_type": "markdown",
   "metadata": {},
   "source": [
    "graphviz를 통해 xgbboost 모형 객체를 통한 **변수 중요도(feature importance)** 를 확인해보록 하자"
   ]
  },
  {
   "cell_type": "markdown",
   "metadata": {},
   "source": [
    "위에서 채택된 하이퍼 파라미터를 적용해 모델을 학습시켜보자 <br> __# n_estimators=100, max depth = 3, learning rate = 0.1__"
   ]
  },
  {
   "cell_type": "markdown",
   "metadata": {},
   "source": [
    "이 때 XGB를 이용한 다중 클래스 classification을 진행하므로 eval_metric도 그에 맞게 \"mlogloss\"를 선택해 loss를 minimize하는 쪽으로 분류를 진행하도록 한다.\n",
    "여러차례 진행해본 결과 90회가 넘어가는 시점부터 loss의 변화가 미미해 early_stopping_rounds를 100으로 잡았다."
   ]
  },
  {
   "cell_type": "code",
   "execution_count": 119,
   "metadata": {},
   "outputs": [
    {
     "name": "stdout",
     "output_type": "stream",
     "text": [
      "[0]\tvalidation_0-mlogloss:1.3097\n",
      "Will train until validation_0-mlogloss hasn't improved in 100 rounds.\n",
      "[1]\tvalidation_0-mlogloss:1.24449\n",
      "[2]\tvalidation_0-mlogloss:1.18816\n",
      "[3]\tvalidation_0-mlogloss:1.1393\n",
      "[4]\tvalidation_0-mlogloss:1.09639\n",
      "[5]\tvalidation_0-mlogloss:1.05843\n",
      "[6]\tvalidation_0-mlogloss:1.02512\n",
      "[7]\tvalidation_0-mlogloss:0.995438\n",
      "[8]\tvalidation_0-mlogloss:0.968869\n",
      "[9]\tvalidation_0-mlogloss:0.945003\n",
      "[10]\tvalidation_0-mlogloss:0.923562\n",
      "[11]\tvalidation_0-mlogloss:0.904114\n",
      "[12]\tvalidation_0-mlogloss:0.886768\n",
      "[13]\tvalidation_0-mlogloss:0.870876\n",
      "[14]\tvalidation_0-mlogloss:0.856406\n",
      "[15]\tvalidation_0-mlogloss:0.843177\n",
      "[16]\tvalidation_0-mlogloss:0.831181\n",
      "[17]\tvalidation_0-mlogloss:0.820122\n",
      "[18]\tvalidation_0-mlogloss:0.810106\n",
      "[19]\tvalidation_0-mlogloss:0.800932\n",
      "[20]\tvalidation_0-mlogloss:0.792505\n",
      "[21]\tvalidation_0-mlogloss:0.784685\n",
      "[22]\tvalidation_0-mlogloss:0.777468\n",
      "[23]\tvalidation_0-mlogloss:0.770804\n",
      "[24]\tvalidation_0-mlogloss:0.764613\n",
      "[25]\tvalidation_0-mlogloss:0.758934\n",
      "[26]\tvalidation_0-mlogloss:0.753715\n",
      "[27]\tvalidation_0-mlogloss:0.748822\n",
      "[28]\tvalidation_0-mlogloss:0.744304\n",
      "[29]\tvalidation_0-mlogloss:0.740128\n",
      "[30]\tvalidation_0-mlogloss:0.736216\n",
      "[31]\tvalidation_0-mlogloss:0.73253\n",
      "[32]\tvalidation_0-mlogloss:0.729104\n",
      "[33]\tvalidation_0-mlogloss:0.725972\n",
      "[34]\tvalidation_0-mlogloss:0.723039\n",
      "[35]\tvalidation_0-mlogloss:0.720262\n",
      "[36]\tvalidation_0-mlogloss:0.717712\n",
      "[37]\tvalidation_0-mlogloss:0.715336\n",
      "[38]\tvalidation_0-mlogloss:0.713099\n",
      "[39]\tvalidation_0-mlogloss:0.711034\n",
      "[40]\tvalidation_0-mlogloss:0.709083\n",
      "[41]\tvalidation_0-mlogloss:0.707205\n",
      "[42]\tvalidation_0-mlogloss:0.705494\n",
      "[43]\tvalidation_0-mlogloss:0.703908\n",
      "[44]\tvalidation_0-mlogloss:0.702419\n",
      "[45]\tvalidation_0-mlogloss:0.70103\n",
      "[46]\tvalidation_0-mlogloss:0.699781\n",
      "[47]\tvalidation_0-mlogloss:0.69859\n",
      "[48]\tvalidation_0-mlogloss:0.697436\n",
      "[49]\tvalidation_0-mlogloss:0.696402\n",
      "[50]\tvalidation_0-mlogloss:0.695412\n",
      "[51]\tvalidation_0-mlogloss:0.694528\n",
      "[52]\tvalidation_0-mlogloss:0.693669\n",
      "[53]\tvalidation_0-mlogloss:0.692852\n",
      "[54]\tvalidation_0-mlogloss:0.692079\n",
      "[55]\tvalidation_0-mlogloss:0.691366\n",
      "[56]\tvalidation_0-mlogloss:0.690697\n",
      "[57]\tvalidation_0-mlogloss:0.690113\n",
      "[58]\tvalidation_0-mlogloss:0.689561\n",
      "[59]\tvalidation_0-mlogloss:0.689052\n",
      "[60]\tvalidation_0-mlogloss:0.688508\n",
      "[61]\tvalidation_0-mlogloss:0.688065\n",
      "[62]\tvalidation_0-mlogloss:0.687621\n",
      "[63]\tvalidation_0-mlogloss:0.687241\n",
      "[64]\tvalidation_0-mlogloss:0.686858\n",
      "[65]\tvalidation_0-mlogloss:0.686504\n",
      "[66]\tvalidation_0-mlogloss:0.686184\n",
      "[67]\tvalidation_0-mlogloss:0.685862\n",
      "[68]\tvalidation_0-mlogloss:0.685588\n",
      "[69]\tvalidation_0-mlogloss:0.685331\n",
      "[70]\tvalidation_0-mlogloss:0.685094\n",
      "[71]\tvalidation_0-mlogloss:0.68485\n",
      "[72]\tvalidation_0-mlogloss:0.684603\n",
      "[73]\tvalidation_0-mlogloss:0.684399\n",
      "[74]\tvalidation_0-mlogloss:0.684257\n",
      "[75]\tvalidation_0-mlogloss:0.684116\n",
      "[76]\tvalidation_0-mlogloss:0.68398\n",
      "[77]\tvalidation_0-mlogloss:0.683859\n",
      "[78]\tvalidation_0-mlogloss:0.683727\n",
      "[79]\tvalidation_0-mlogloss:0.683632\n",
      "[80]\tvalidation_0-mlogloss:0.683542\n",
      "[81]\tvalidation_0-mlogloss:0.683479\n",
      "[82]\tvalidation_0-mlogloss:0.683392\n",
      "[83]\tvalidation_0-mlogloss:0.683313\n",
      "[84]\tvalidation_0-mlogloss:0.683246\n",
      "[85]\tvalidation_0-mlogloss:0.683174\n",
      "[86]\tvalidation_0-mlogloss:0.683132\n",
      "[87]\tvalidation_0-mlogloss:0.683057\n",
      "[88]\tvalidation_0-mlogloss:0.683044\n",
      "[89]\tvalidation_0-mlogloss:0.682993\n",
      "[90]\tvalidation_0-mlogloss:0.682955\n",
      "[91]\tvalidation_0-mlogloss:0.682911\n",
      "[92]\tvalidation_0-mlogloss:0.682894\n",
      "[93]\tvalidation_0-mlogloss:0.682867\n",
      "[94]\tvalidation_0-mlogloss:0.68286\n",
      "[95]\tvalidation_0-mlogloss:0.682835\n",
      "[96]\tvalidation_0-mlogloss:0.682804\n",
      "[97]\tvalidation_0-mlogloss:0.682759\n",
      "[98]\tvalidation_0-mlogloss:0.682764\n",
      "[99]\tvalidation_0-mlogloss:0.68274\n"
     ]
    }
   ],
   "source": [
    "# n_estimators=100, max depth = 3, learning rate = 0.1\n",
    "xgb_wrapper = xgb.XGBClassifier(n_estimators=100,max_depth=3, subsample = 0.6,learning_rate=0.1)\n",
    "\n",
    "evals = [(X_test, y_test)]\n",
    "\n",
    "# logloss like rank metric was not designed for multi-class classification. (다중 클래스 logloss)\n",
    "# You can use the original multiclass evaluation metric, or write customized evaluation function to support this.\n",
    "# multi class classification을 위해 mlogloss metric을 이용했습니다\n",
    "\n",
    "xgb_wrapper.fit(X_train, y_train, early_stopping_rounds=100, eval_metric =\"mlogloss\", eval_set = evals, verbose = True)\n",
    "\n",
    "class_probs = xgb_wrapper.predict_proba(X_test)"
   ]
  },
  {
   "cell_type": "code",
   "execution_count": 120,
   "metadata": {},
   "outputs": [],
   "source": [
    "class_preds = xgb_wrapper.predict(X_test)"
   ]
  },
  {
   "cell_type": "code",
   "execution_count": 121,
   "metadata": {},
   "outputs": [
    {
     "data": {
      "text/plain": [
       "array([1, 1, 1, ..., 1, 1, 1], dtype=int64)"
      ]
     },
     "execution_count": 121,
     "metadata": {},
     "output_type": "execute_result"
    }
   ],
   "source": [
    "class_preds"
   ]
  },
  {
   "cell_type": "code",
   "execution_count": 122,
   "metadata": {
    "scrolled": false
   },
   "outputs": [
    {
     "name": "stdout",
     "output_type": "stream",
     "text": [
      "              precision    recall  f1-score   support\n",
      "\n",
      "           0       0.00      0.00      0.00       110\n",
      "           1       0.66      1.00      0.80     11452\n",
      "           2       0.00      0.00      0.00        32\n",
      "           3       0.00      0.00      0.00      5672\n",
      "\n",
      "    accuracy                           0.66     17266\n",
      "   macro avg       0.17      0.25      0.20     17266\n",
      "weighted avg       0.44      0.66      0.53     17266\n",
      "\n"
     ]
    },
    {
     "name": "stderr",
     "output_type": "stream",
     "text": [
      "C:\\Users\\Home\\anaconda3\\lib\\site-packages\\sklearn\\metrics\\_classification.py:1248: UndefinedMetricWarning: Precision and F-score are ill-defined and being set to 0.0 in labels with no predicted samples. Use `zero_division` parameter to control this behavior.\n",
      "  _warn_prf(average, modifier, msg_start, len(result))\n",
      "C:\\Users\\Home\\anaconda3\\lib\\site-packages\\sklearn\\metrics\\_classification.py:1248: UndefinedMetricWarning: Precision and F-score are ill-defined and being set to 0.0 in labels with no predicted samples. Use `zero_division` parameter to control this behavior.\n",
      "  _warn_prf(average, modifier, msg_start, len(result))\n",
      "C:\\Users\\Home\\anaconda3\\lib\\site-packages\\sklearn\\metrics\\_classification.py:1248: UndefinedMetricWarning: Precision and F-score are ill-defined and being set to 0.0 in labels with no predicted samples. Use `zero_division` parameter to control this behavior.\n",
      "  _warn_prf(average, modifier, msg_start, len(result))\n"
     ]
    }
   ],
   "source": [
    "print(classification_report(y_test, class_preds))"
   ]
  },
  {
   "cell_type": "markdown",
   "metadata": {},
   "source": [
    "predict_proba(X, ntree_limit=None, validate_features=False, base_margin=None, iteration_range=None) <br>\n",
    "Predict the probability of each X example being of a given class. (0,1,2,3)\n",
    "so that we can calculate the uplift with given class probabiliy\n",
    "\n",
    "우리가 주어진 class들(0,1,2,3)을 이용해 예측된 probabiliy를 통해 uplift score을 계산할 수 있다."
   ]
  },
  {
   "cell_type": "code",
   "execution_count": 139,
   "metadata": {},
   "outputs": [],
   "source": [
    "overall_proba = xgb_wrapper.predict_proba(X)\n",
    "\n",
    "result_dataset = classify_dataset.copy()\n",
    "\n",
    "for i in range(4):\n",
    "    result_dataset[f'proba_{i}'] = overall_proba[:,i] \n",
    "\n",
    "result_dataset.eval('uplift_score = proba_0+proba_3-proba_1-proba_2', inplace = True)"
   ]
  },
  {
   "cell_type": "code",
   "execution_count": 140,
   "metadata": {},
   "outputs": [
    {
     "data": {
      "text/plain": [
       "array([[0.00456636, 0.63886565, 0.00205883, 0.3545092 ],\n",
       "       [0.00604426, 0.66407466, 0.00159942, 0.32828173],\n",
       "       [0.00896291, 0.63750505, 0.00156701, 0.35196507],\n",
       "       ...,\n",
       "       [0.00543265, 0.6444789 , 0.00184554, 0.3482429 ],\n",
       "       [0.01280952, 0.64325553, 0.00196102, 0.34197393],\n",
       "       [0.01504863, 0.6522191 , 0.01010193, 0.32263035]], dtype=float32)"
      ]
     },
     "execution_count": 140,
     "metadata": {},
     "output_type": "execute_result"
    }
   ],
   "source": [
    "overall_proba"
   ]
  },
  {
   "cell_type": "code",
   "execution_count": 141,
   "metadata": {},
   "outputs": [
    {
     "data": {
      "text/html": [
       "<div>\n",
       "<style scoped>\n",
       "    .dataframe tbody tr th:only-of-type {\n",
       "        vertical-align: middle;\n",
       "    }\n",
       "\n",
       "    .dataframe tbody tr th {\n",
       "        vertical-align: top;\n",
       "    }\n",
       "\n",
       "    .dataframe thead th {\n",
       "        text-align: right;\n",
       "    }\n",
       "</style>\n",
       "<table border=\"1\" class=\"dataframe\">\n",
       "  <thead>\n",
       "    <tr style=\"text-align: right;\">\n",
       "      <th></th>\n",
       "      <th>recency</th>\n",
       "      <th>history</th>\n",
       "      <th>mens</th>\n",
       "      <th>womens</th>\n",
       "      <th>newbie</th>\n",
       "      <th>zip_code_Rural</th>\n",
       "      <th>zip_code_Surburban</th>\n",
       "      <th>zip_code_Urban</th>\n",
       "      <th>history_segment_$0 - $100</th>\n",
       "      <th>history_segment_$1,000 +</th>\n",
       "      <th>...</th>\n",
       "      <th>treatment</th>\n",
       "      <th>target_spend</th>\n",
       "      <th>target_visit</th>\n",
       "      <th>target_conversion</th>\n",
       "      <th>Class</th>\n",
       "      <th>proba_0</th>\n",
       "      <th>proba_1</th>\n",
       "      <th>proba_2</th>\n",
       "      <th>proba_3</th>\n",
       "      <th>uplift_score</th>\n",
       "    </tr>\n",
       "  </thead>\n",
       "  <tbody>\n",
       "    <tr>\n",
       "      <th>0</th>\n",
       "      <td>10.00000</td>\n",
       "      <td>142.44000</td>\n",
       "      <td>1.00000</td>\n",
       "      <td>0.00000</td>\n",
       "      <td>0.00000</td>\n",
       "      <td>0.00000</td>\n",
       "      <td>1.00000</td>\n",
       "      <td>0.00000</td>\n",
       "      <td>0.00000</td>\n",
       "      <td>0.00000</td>\n",
       "      <td>...</td>\n",
       "      <td>1</td>\n",
       "      <td>0.00000</td>\n",
       "      <td>0.00000</td>\n",
       "      <td>0.00000</td>\n",
       "      <td>1</td>\n",
       "      <td>0.00457</td>\n",
       "      <td>0.63887</td>\n",
       "      <td>0.00206</td>\n",
       "      <td>0.35451</td>\n",
       "      <td>-0.28185</td>\n",
       "    </tr>\n",
       "    <tr>\n",
       "      <th>2</th>\n",
       "      <td>7.00000</td>\n",
       "      <td>180.65000</td>\n",
       "      <td>0.00000</td>\n",
       "      <td>1.00000</td>\n",
       "      <td>1.00000</td>\n",
       "      <td>0.00000</td>\n",
       "      <td>1.00000</td>\n",
       "      <td>0.00000</td>\n",
       "      <td>0.00000</td>\n",
       "      <td>0.00000</td>\n",
       "      <td>...</td>\n",
       "      <td>1</td>\n",
       "      <td>0.00000</td>\n",
       "      <td>0.00000</td>\n",
       "      <td>0.00000</td>\n",
       "      <td>1</td>\n",
       "      <td>0.00604</td>\n",
       "      <td>0.66407</td>\n",
       "      <td>0.00160</td>\n",
       "      <td>0.32828</td>\n",
       "      <td>-0.33135</td>\n",
       "    </tr>\n",
       "    <tr>\n",
       "      <th>3</th>\n",
       "      <td>9.00000</td>\n",
       "      <td>675.83000</td>\n",
       "      <td>1.00000</td>\n",
       "      <td>0.00000</td>\n",
       "      <td>1.00000</td>\n",
       "      <td>1.00000</td>\n",
       "      <td>0.00000</td>\n",
       "      <td>0.00000</td>\n",
       "      <td>0.00000</td>\n",
       "      <td>0.00000</td>\n",
       "      <td>...</td>\n",
       "      <td>1</td>\n",
       "      <td>0.00000</td>\n",
       "      <td>0.00000</td>\n",
       "      <td>0.00000</td>\n",
       "      <td>1</td>\n",
       "      <td>0.00896</td>\n",
       "      <td>0.63751</td>\n",
       "      <td>0.00157</td>\n",
       "      <td>0.35197</td>\n",
       "      <td>-0.27814</td>\n",
       "    </tr>\n",
       "    <tr>\n",
       "      <th>4</th>\n",
       "      <td>2.00000</td>\n",
       "      <td>45.34000</td>\n",
       "      <td>1.00000</td>\n",
       "      <td>0.00000</td>\n",
       "      <td>0.00000</td>\n",
       "      <td>0.00000</td>\n",
       "      <td>0.00000</td>\n",
       "      <td>1.00000</td>\n",
       "      <td>1.00000</td>\n",
       "      <td>0.00000</td>\n",
       "      <td>...</td>\n",
       "      <td>1</td>\n",
       "      <td>0.00000</td>\n",
       "      <td>0.00000</td>\n",
       "      <td>0.00000</td>\n",
       "      <td>1</td>\n",
       "      <td>0.00927</td>\n",
       "      <td>0.66102</td>\n",
       "      <td>0.00341</td>\n",
       "      <td>0.32630</td>\n",
       "      <td>-0.32885</td>\n",
       "    </tr>\n",
       "    <tr>\n",
       "      <th>5</th>\n",
       "      <td>6.00000</td>\n",
       "      <td>134.83000</td>\n",
       "      <td>0.00000</td>\n",
       "      <td>1.00000</td>\n",
       "      <td>0.00000</td>\n",
       "      <td>0.00000</td>\n",
       "      <td>1.00000</td>\n",
       "      <td>0.00000</td>\n",
       "      <td>0.00000</td>\n",
       "      <td>0.00000</td>\n",
       "      <td>...</td>\n",
       "      <td>1</td>\n",
       "      <td>0.00000</td>\n",
       "      <td>1.00000</td>\n",
       "      <td>0.00000</td>\n",
       "      <td>1</td>\n",
       "      <td>0.00480</td>\n",
       "      <td>0.65324</td>\n",
       "      <td>0.00221</td>\n",
       "      <td>0.33976</td>\n",
       "      <td>-0.31090</td>\n",
       "    </tr>\n",
       "    <tr>\n",
       "      <th>...</th>\n",
       "      <td>...</td>\n",
       "      <td>...</td>\n",
       "      <td>...</td>\n",
       "      <td>...</td>\n",
       "      <td>...</td>\n",
       "      <td>...</td>\n",
       "      <td>...</td>\n",
       "      <td>...</td>\n",
       "      <td>...</td>\n",
       "      <td>...</td>\n",
       "      <td>...</td>\n",
       "      <td>...</td>\n",
       "      <td>...</td>\n",
       "      <td>...</td>\n",
       "      <td>...</td>\n",
       "      <td>...</td>\n",
       "      <td>...</td>\n",
       "      <td>...</td>\n",
       "      <td>...</td>\n",
       "      <td>...</td>\n",
       "      <td>...</td>\n",
       "    </tr>\n",
       "    <tr>\n",
       "      <th>63995</th>\n",
       "      <td>10.00000</td>\n",
       "      <td>105.54000</td>\n",
       "      <td>1.00000</td>\n",
       "      <td>0.00000</td>\n",
       "      <td>0.00000</td>\n",
       "      <td>0.00000</td>\n",
       "      <td>0.00000</td>\n",
       "      <td>1.00000</td>\n",
       "      <td>0.00000</td>\n",
       "      <td>0.00000</td>\n",
       "      <td>...</td>\n",
       "      <td>1</td>\n",
       "      <td>0.00000</td>\n",
       "      <td>0.00000</td>\n",
       "      <td>0.00000</td>\n",
       "      <td>1</td>\n",
       "      <td>0.00741</td>\n",
       "      <td>0.65131</td>\n",
       "      <td>0.00243</td>\n",
       "      <td>0.33885</td>\n",
       "      <td>-0.30747</td>\n",
       "    </tr>\n",
       "    <tr>\n",
       "      <th>63996</th>\n",
       "      <td>5.00000</td>\n",
       "      <td>38.91000</td>\n",
       "      <td>0.00000</td>\n",
       "      <td>1.00000</td>\n",
       "      <td>1.00000</td>\n",
       "      <td>0.00000</td>\n",
       "      <td>0.00000</td>\n",
       "      <td>1.00000</td>\n",
       "      <td>1.00000</td>\n",
       "      <td>0.00000</td>\n",
       "      <td>...</td>\n",
       "      <td>1</td>\n",
       "      <td>0.00000</td>\n",
       "      <td>0.00000</td>\n",
       "      <td>0.00000</td>\n",
       "      <td>1</td>\n",
       "      <td>0.00495</td>\n",
       "      <td>0.69895</td>\n",
       "      <td>0.00191</td>\n",
       "      <td>0.29419</td>\n",
       "      <td>-0.40171</td>\n",
       "    </tr>\n",
       "    <tr>\n",
       "      <th>63997</th>\n",
       "      <td>6.00000</td>\n",
       "      <td>29.99000</td>\n",
       "      <td>1.00000</td>\n",
       "      <td>0.00000</td>\n",
       "      <td>1.00000</td>\n",
       "      <td>0.00000</td>\n",
       "      <td>0.00000</td>\n",
       "      <td>1.00000</td>\n",
       "      <td>1.00000</td>\n",
       "      <td>0.00000</td>\n",
       "      <td>...</td>\n",
       "      <td>1</td>\n",
       "      <td>0.00000</td>\n",
       "      <td>0.00000</td>\n",
       "      <td>0.00000</td>\n",
       "      <td>1</td>\n",
       "      <td>0.00543</td>\n",
       "      <td>0.64448</td>\n",
       "      <td>0.00185</td>\n",
       "      <td>0.34824</td>\n",
       "      <td>-0.29265</td>\n",
       "    </tr>\n",
       "    <tr>\n",
       "      <th>63998</th>\n",
       "      <td>1.00000</td>\n",
       "      <td>552.94000</td>\n",
       "      <td>1.00000</td>\n",
       "      <td>0.00000</td>\n",
       "      <td>1.00000</td>\n",
       "      <td>0.00000</td>\n",
       "      <td>1.00000</td>\n",
       "      <td>0.00000</td>\n",
       "      <td>0.00000</td>\n",
       "      <td>0.00000</td>\n",
       "      <td>...</td>\n",
       "      <td>1</td>\n",
       "      <td>0.00000</td>\n",
       "      <td>0.00000</td>\n",
       "      <td>0.00000</td>\n",
       "      <td>1</td>\n",
       "      <td>0.01281</td>\n",
       "      <td>0.64326</td>\n",
       "      <td>0.00196</td>\n",
       "      <td>0.34197</td>\n",
       "      <td>-0.29043</td>\n",
       "    </tr>\n",
       "    <tr>\n",
       "      <th>63999</th>\n",
       "      <td>1.00000</td>\n",
       "      <td>472.82000</td>\n",
       "      <td>0.00000</td>\n",
       "      <td>1.00000</td>\n",
       "      <td>0.00000</td>\n",
       "      <td>0.00000</td>\n",
       "      <td>1.00000</td>\n",
       "      <td>0.00000</td>\n",
       "      <td>0.00000</td>\n",
       "      <td>0.00000</td>\n",
       "      <td>...</td>\n",
       "      <td>1</td>\n",
       "      <td>0.00000</td>\n",
       "      <td>0.00000</td>\n",
       "      <td>0.00000</td>\n",
       "      <td>1</td>\n",
       "      <td>0.01505</td>\n",
       "      <td>0.65222</td>\n",
       "      <td>0.01010</td>\n",
       "      <td>0.32263</td>\n",
       "      <td>-0.32464</td>\n",
       "    </tr>\n",
       "  </tbody>\n",
       "</table>\n",
       "<p>57552 rows × 28 columns</p>\n",
       "</div>"
      ],
      "text/plain": [
       "       recency   history    mens  womens  newbie  zip_code_Rural  \\\n",
       "0     10.00000 142.44000 1.00000 0.00000 0.00000         0.00000   \n",
       "2      7.00000 180.65000 0.00000 1.00000 1.00000         0.00000   \n",
       "3      9.00000 675.83000 1.00000 0.00000 1.00000         1.00000   \n",
       "4      2.00000  45.34000 1.00000 0.00000 0.00000         0.00000   \n",
       "5      6.00000 134.83000 0.00000 1.00000 0.00000         0.00000   \n",
       "...        ...       ...     ...     ...     ...             ...   \n",
       "63995 10.00000 105.54000 1.00000 0.00000 0.00000         0.00000   \n",
       "63996  5.00000  38.91000 0.00000 1.00000 1.00000         0.00000   \n",
       "63997  6.00000  29.99000 1.00000 0.00000 1.00000         0.00000   \n",
       "63998  1.00000 552.94000 1.00000 0.00000 1.00000         0.00000   \n",
       "63999  1.00000 472.82000 0.00000 1.00000 0.00000         0.00000   \n",
       "\n",
       "       zip_code_Surburban  zip_code_Urban  history_segment_$0 - $100  \\\n",
       "0                 1.00000         0.00000                    0.00000   \n",
       "2                 1.00000         0.00000                    0.00000   \n",
       "3                 0.00000         0.00000                    0.00000   \n",
       "4                 0.00000         1.00000                    1.00000   \n",
       "5                 1.00000         0.00000                    0.00000   \n",
       "...                   ...             ...                        ...   \n",
       "63995             0.00000         1.00000                    0.00000   \n",
       "63996             0.00000         1.00000                    1.00000   \n",
       "63997             0.00000         1.00000                    1.00000   \n",
       "63998             1.00000         0.00000                    0.00000   \n",
       "63999             1.00000         0.00000                    0.00000   \n",
       "\n",
       "       history_segment_$1,000 +  ...  treatment  target_spend  target_visit  \\\n",
       "0                       0.00000  ...          1       0.00000       0.00000   \n",
       "2                       0.00000  ...          1       0.00000       0.00000   \n",
       "3                       0.00000  ...          1       0.00000       0.00000   \n",
       "4                       0.00000  ...          1       0.00000       0.00000   \n",
       "5                       0.00000  ...          1       0.00000       1.00000   \n",
       "...                         ...  ...        ...           ...           ...   \n",
       "63995                   0.00000  ...          1       0.00000       0.00000   \n",
       "63996                   0.00000  ...          1       0.00000       0.00000   \n",
       "63997                   0.00000  ...          1       0.00000       0.00000   \n",
       "63998                   0.00000  ...          1       0.00000       0.00000   \n",
       "63999                   0.00000  ...          1       0.00000       0.00000   \n",
       "\n",
       "       target_conversion  Class  proba_0  proba_1  proba_2  proba_3  \\\n",
       "0                0.00000      1  0.00457  0.63887  0.00206  0.35451   \n",
       "2                0.00000      1  0.00604  0.66407  0.00160  0.32828   \n",
       "3                0.00000      1  0.00896  0.63751  0.00157  0.35197   \n",
       "4                0.00000      1  0.00927  0.66102  0.00341  0.32630   \n",
       "5                0.00000      1  0.00480  0.65324  0.00221  0.33976   \n",
       "...                  ...    ...      ...      ...      ...      ...   \n",
       "63995            0.00000      1  0.00741  0.65131  0.00243  0.33885   \n",
       "63996            0.00000      1  0.00495  0.69895  0.00191  0.29419   \n",
       "63997            0.00000      1  0.00543  0.64448  0.00185  0.34824   \n",
       "63998            0.00000      1  0.01281  0.64326  0.00196  0.34197   \n",
       "63999            0.00000      1  0.01505  0.65222  0.01010  0.32263   \n",
       "\n",
       "       uplift_score  \n",
       "0          -0.28185  \n",
       "2          -0.33135  \n",
       "3          -0.27814  \n",
       "4          -0.32885  \n",
       "5          -0.31090  \n",
       "...             ...  \n",
       "63995      -0.30747  \n",
       "63996      -0.40171  \n",
       "63997      -0.29265  \n",
       "63998      -0.29043  \n",
       "63999      -0.32464  \n",
       "\n",
       "[57552 rows x 28 columns]"
      ]
     },
     "execution_count": 141,
     "metadata": {},
     "output_type": "execute_result"
    }
   ],
   "source": [
    "result_dataset"
   ]
  },
  {
   "cell_type": "code",
   "execution_count": 142,
   "metadata": {
    "scrolled": true
   },
   "outputs": [
    {
     "data": {
      "text/plain": [
       "<seaborn.axisgrid.FacetGrid at 0x19864606c08>"
      ]
     },
     "execution_count": 142,
     "metadata": {},
     "output_type": "execute_result"
    },
    {
     "data": {
      "image/png": "[encoded data removed]",
      "text/plain": [
       "<Figure size 360x360 with 1 Axes>"
      ]
     },
     "metadata": {
      "needs_background": "light"
     },
     "output_type": "display_data"
    }
   ],
   "source": [
    "sns.displot(result_dataset['uplift_score'], kde = True)"
   ]
  },
  {
   "cell_type": "markdown",
   "metadata": {},
   "source": [
    "__아까 random forest에서 데이터를 모델링 했을 때보다 uplift score가 조금 더 세밀하게 분류가 되서 나온 것을 알 수 있다.__ "
   ]
  },
  {
   "cell_type": "code",
   "execution_count": 128,
   "metadata": {
    "scrolled": false
   },
   "outputs": [
    {
     "data": {
      "text/plain": [
       "<matplotlib.axes._subplots.AxesSubplot at 0x1985f661648>"
      ]
     },
     "execution_count": 128,
     "metadata": {},
     "output_type": "execute_result"
    },
    {
     "data": {
      "image/png": "[encoded data removed]",
      "text/plain": [
       "<Figure size 432x288 with 1 Axes>"
      ]
     },
     "metadata": {
      "needs_background": "light"
     },
     "output_type": "display_data"
    }
   ],
   "source": [
    "xgb.plot_importance(xgb_wrapper)"
   ]
  },
  {
   "cell_type": "markdown",
   "metadata": {},
   "source": [
    "**분류에 영향을 많이 미치는 변수는 아무래도 예상 가능하듯이 history와 recency임을 알 수 있다**"
   ]
  },
  {
   "cell_type": "code",
   "execution_count": 129,
   "metadata": {
    "scrolled": false
   },
   "outputs": [
    {
     "data": {
      "image/svg+xml": [
       "<?xml version=\"1.0\" encoding=\"UTF-8\" standalone=\"no\"?>\r\n",
       "<!DOCTYPE svg PUBLIC \"-//W3C//DTD SVG 1.1//EN\"\r\n",
       " \"http://www.w3.org/Graphics/SVG/1.1/DTD/svg11.dtd\">\r\n",
       "<!-- Generated by graphviz version 2.38.0 (20140413.2041)\r\n",
       " -->\r\n",
       "<!-- Title: %3 Pages: 1 -->\r\n",
       "<svg width=\"1406pt\" height=\"305pt\"\r\n",
       " viewBox=\"0.00 0.00 1405.59 305.00\" xmlns=\"http://www.w3.org/2000/svg\" xmlns:xlink=\"http://www.w3.org/1999/xlink\">\r\n",
       "<g id=\"graph0\" class=\"graph\" transform=\"scale(1 1) rotate(0) translate(4 301)\">\r\n",
       "<title>%3</title>\r\n",
       "<polygon fill=\"white\" stroke=\"none\" points=\"-4,4 -4,-301 1401.59,-301 1401.59,4 -4,4\"/>\r\n",
       "<!-- 0 -->\r\n",
       "<g id=\"node1\" class=\"node\"><title>0</title>\r\n",
       "<ellipse fill=\"none\" stroke=\"black\" cx=\"719.293\" cy=\"-279\" rx=\"103.982\" ry=\"18\"/>\r\n",
       "<text text-anchor=\"middle\" x=\"719.293\" y=\"-275.3\" font-family=\"Times New Roman,serif\" font-size=\"14.00\">zip_code_Surburban&lt;0.5</text>\r\n",
       "</g>\r\n",
       "<!-- 1 -->\r\n",
       "<g id=\"node2\" class=\"node\"><title>1</title>\r\n",
       "<ellipse fill=\"none\" stroke=\"black\" cx=\"566.293\" cy=\"-192\" rx=\"46.2923\" ry=\"18\"/>\r\n",
       "<text text-anchor=\"middle\" x=\"566.293\" y=\"-188.3\" font-family=\"Times New Roman,serif\" font-size=\"14.00\">mens&lt;0.5</text>\r\n",
       "</g>\r\n",
       "<!-- 0&#45;&gt;1 -->\r\n",
       "<g id=\"edge1\" class=\"edge\"><title>0&#45;&gt;1</title>\r\n",
       "<path fill=\"none\" stroke=\"#0000ff\" d=\"M689.793,-261.611C664.315,-247.457 627.481,-226.993 600.673,-212.1\"/>\r\n",
       "<polygon fill=\"#0000ff\" stroke=\"#0000ff\" points=\"602.085,-208.881 591.644,-207.084 598.685,-215 602.085,-208.881\"/>\r\n",
       "<text text-anchor=\"middle\" x=\"686.793\" y=\"-231.8\" font-family=\"Times New Roman,serif\" font-size=\"14.00\">yes, missing</text>\r\n",
       "</g>\r\n",
       "<!-- 2 -->\r\n",
       "<g id=\"node3\" class=\"node\"><title>2</title>\r\n",
       "<ellipse fill=\"none\" stroke=\"black\" cx=\"831.293\" cy=\"-192\" rx=\"83.3857\" ry=\"18\"/>\r\n",
       "<text text-anchor=\"middle\" x=\"831.293\" y=\"-188.3\" font-family=\"Times New Roman,serif\" font-size=\"14.00\">history&lt;409.559998</text>\r\n",
       "</g>\r\n",
       "<!-- 0&#45;&gt;2 -->\r\n",
       "<g id=\"edge2\" class=\"edge\"><title>0&#45;&gt;2</title>\r\n",
       "<path fill=\"none\" stroke=\"#ff0000\" d=\"M741.421,-261.207C758.636,-248.142 782.692,-229.885 801.584,-215.547\"/>\r\n",
       "<polygon fill=\"#ff0000\" stroke=\"#ff0000\" points=\"803.743,-218.303 809.592,-209.469 799.511,-212.727 803.743,-218.303\"/>\r\n",
       "<text text-anchor=\"middle\" x=\"789.793\" y=\"-231.8\" font-family=\"Times New Roman,serif\" font-size=\"14.00\">no</text>\r\n",
       "</g>\r\n",
       "<!-- 3 -->\r\n",
       "<g id=\"node4\" class=\"node\"><title>3</title>\r\n",
       "<ellipse fill=\"none\" stroke=\"black\" cx=\"256.293\" cy=\"-105\" rx=\"83.3857\" ry=\"18\"/>\r\n",
       "<text text-anchor=\"middle\" x=\"256.293\" y=\"-101.3\" font-family=\"Times New Roman,serif\" font-size=\"14.00\">history&lt;822.474976</text>\r\n",
       "</g>\r\n",
       "<!-- 1&#45;&gt;3 -->\r\n",
       "<g id=\"edge3\" class=\"edge\"><title>1&#45;&gt;3</title>\r\n",
       "<path fill=\"none\" stroke=\"#0000ff\" d=\"M529.515,-180.916C476.688,-166.431 378.755,-139.578 315.614,-122.265\"/>\r\n",
       "<polygon fill=\"#0000ff\" stroke=\"#0000ff\" points=\"316.361,-118.841 305.791,-119.572 314.51,-125.592 316.361,-118.841\"/>\r\n",
       "<text text-anchor=\"middle\" x=\"464.793\" y=\"-144.8\" font-family=\"Times New Roman,serif\" font-size=\"14.00\">yes, missing</text>\r\n",
       "</g>\r\n",
       "<!-- 4 -->\r\n",
       "<g id=\"node5\" class=\"node\"><title>4</title>\r\n",
       "<ellipse fill=\"none\" stroke=\"black\" cx=\"566.293\" cy=\"-105\" rx=\"83.3857\" ry=\"18\"/>\r\n",
       "<text text-anchor=\"middle\" x=\"566.293\" y=\"-101.3\" font-family=\"Times New Roman,serif\" font-size=\"14.00\">history&lt;434.924988</text>\r\n",
       "</g>\r\n",
       "<!-- 1&#45;&gt;4 -->\r\n",
       "<g id=\"edge4\" class=\"edge\"><title>1&#45;&gt;4</title>\r\n",
       "<path fill=\"none\" stroke=\"#ff0000\" d=\"M566.293,-173.799C566.293,-162.163 566.293,-146.548 566.293,-133.237\"/>\r\n",
       "<polygon fill=\"#ff0000\" stroke=\"#ff0000\" points=\"569.793,-133.175 566.293,-123.175 562.793,-133.175 569.793,-133.175\"/>\r\n",
       "<text text-anchor=\"middle\" x=\"573.793\" y=\"-144.8\" font-family=\"Times New Roman,serif\" font-size=\"14.00\">no</text>\r\n",
       "</g>\r\n",
       "<!-- 5 -->\r\n",
       "<g id=\"node10\" class=\"node\"><title>5</title>\r\n",
       "<ellipse fill=\"none\" stroke=\"black\" cx=\"831.293\" cy=\"-105\" rx=\"83.3857\" ry=\"18\"/>\r\n",
       "<text text-anchor=\"middle\" x=\"831.293\" y=\"-101.3\" font-family=\"Times New Roman,serif\" font-size=\"14.00\">history&lt;144.589996</text>\r\n",
       "</g>\r\n",
       "<!-- 2&#45;&gt;5 -->\r\n",
       "<g id=\"edge9\" class=\"edge\"><title>2&#45;&gt;5</title>\r\n",
       "<path fill=\"none\" stroke=\"#0000ff\" d=\"M831.293,-173.799C831.293,-162.163 831.293,-146.548 831.293,-133.237\"/>\r\n",
       "<polygon fill=\"#0000ff\" stroke=\"#0000ff\" points=\"834.793,-133.175 831.293,-123.175 827.793,-133.175 834.793,-133.175\"/>\r\n",
       "<text text-anchor=\"middle\" x=\"865.793\" y=\"-144.8\" font-family=\"Times New Roman,serif\" font-size=\"14.00\">yes, missing</text>\r\n",
       "</g>\r\n",
       "<!-- 6 -->\r\n",
       "<g id=\"node11\" class=\"node\"><title>6</title>\r\n",
       "<ellipse fill=\"none\" stroke=\"black\" cx=\"1141.29\" cy=\"-105\" rx=\"83.3857\" ry=\"18\"/>\r\n",
       "<text text-anchor=\"middle\" x=\"1141.29\" y=\"-101.3\" font-family=\"Times New Roman,serif\" font-size=\"14.00\">history&lt;414.910004</text>\r\n",
       "</g>\r\n",
       "<!-- 2&#45;&gt;6 -->\r\n",
       "<g id=\"edge10\" class=\"edge\"><title>2&#45;&gt;6</title>\r\n",
       "<path fill=\"none\" stroke=\"#ff0000\" d=\"M880.756,-177.438C935.536,-162.417 1023.81,-138.214 1082.19,-122.207\"/>\r\n",
       "<polygon fill=\"#ff0000\" stroke=\"#ff0000\" points=\"1083.29,-125.534 1092.01,-119.514 1081.44,-118.783 1083.29,-125.534\"/>\r\n",
       "<text text-anchor=\"middle\" x=\"1012.79\" y=\"-144.8\" font-family=\"Times New Roman,serif\" font-size=\"14.00\">no</text>\r\n",
       "</g>\r\n",
       "<!-- 7 -->\r\n",
       "<g id=\"node6\" class=\"node\"><title>7</title>\r\n",
       "<ellipse fill=\"none\" stroke=\"black\" cx=\"79.293\" cy=\"-18\" rx=\"79.0865\" ry=\"18\"/>\r\n",
       "<text text-anchor=\"middle\" x=\"79.293\" y=\"-14.3\" font-family=\"Times New Roman,serif\" font-size=\"14.00\">leaf=0.0173750781</text>\r\n",
       "</g>\r\n",
       "<!-- 3&#45;&gt;7 -->\r\n",
       "<g id=\"edge5\" class=\"edge\"><title>3&#45;&gt;7</title>\r\n",
       "<path fill=\"none\" stroke=\"#0000ff\" d=\"M223.584,-88.3268C210.989,-82.2891 196.47,-75.3265 183.293,-69 162.651,-59.0894 139.71,-48.0616 120.637,-38.8897\"/>\r\n",
       "<polygon fill=\"#0000ff\" stroke=\"#0000ff\" points=\"122.141,-35.7293 111.613,-34.5492 119.107,-42.0376 122.141,-35.7293\"/>\r\n",
       "<text text-anchor=\"middle\" x=\"217.793\" y=\"-57.8\" font-family=\"Times New Roman,serif\" font-size=\"14.00\">yes, missing</text>\r\n",
       "</g>\r\n",
       "<!-- 8 -->\r\n",
       "<g id=\"node7\" class=\"node\"><title>8</title>\r\n",
       "<ellipse fill=\"none\" stroke=\"black\" cx=\"256.293\" cy=\"-18\" rx=\"79.0865\" ry=\"18\"/>\r\n",
       "<text text-anchor=\"middle\" x=\"256.293\" y=\"-14.3\" font-family=\"Times New Roman,serif\" font-size=\"14.00\">leaf=0.0344262309</text>\r\n",
       "</g>\r\n",
       "<!-- 3&#45;&gt;8 -->\r\n",
       "<g id=\"edge6\" class=\"edge\"><title>3&#45;&gt;8</title>\r\n",
       "<path fill=\"none\" stroke=\"#ff0000\" d=\"M256.293,-86.799C256.293,-75.1626 256.293,-59.5479 256.293,-46.2368\"/>\r\n",
       "<polygon fill=\"#ff0000\" stroke=\"#ff0000\" points=\"259.793,-46.1754 256.293,-36.1754 252.793,-46.1755 259.793,-46.1754\"/>\r\n",
       "<text text-anchor=\"middle\" x=\"263.793\" y=\"-57.8\" font-family=\"Times New Roman,serif\" font-size=\"14.00\">no</text>\r\n",
       "</g>\r\n",
       "<!-- 9 -->\r\n",
       "<g id=\"node8\" class=\"node\"><title>9</title>\r\n",
       "<ellipse fill=\"none\" stroke=\"black\" cx=\"433.293\" cy=\"-18\" rx=\"79.0865\" ry=\"18\"/>\r\n",
       "<text text-anchor=\"middle\" x=\"433.293\" y=\"-14.3\" font-family=\"Times New Roman,serif\" font-size=\"14.00\">leaf=0.0238355063</text>\r\n",
       "</g>\r\n",
       "<!-- 4&#45;&gt;9 -->\r\n",
       "<g id=\"edge7\" class=\"edge\"><title>4&#45;&gt;9</title>\r\n",
       "<path fill=\"none\" stroke=\"#0000ff\" d=\"M540.964,-87.8121C519.979,-74.4007 489.976,-55.2262 466.97,-40.5227\"/>\r\n",
       "<polygon fill=\"#0000ff\" stroke=\"#0000ff\" points=\"468.839,-37.5637 458.528,-35.1277 465.069,-43.462 468.839,-37.5637\"/>\r\n",
       "<text text-anchor=\"middle\" x=\"542.793\" y=\"-57.8\" font-family=\"Times New Roman,serif\" font-size=\"14.00\">yes, missing</text>\r\n",
       "</g>\r\n",
       "<!-- 10 -->\r\n",
       "<g id=\"node9\" class=\"node\"><title>10</title>\r\n",
       "<ellipse fill=\"none\" stroke=\"black\" cx=\"610.293\" cy=\"-18\" rx=\"79.0865\" ry=\"18\"/>\r\n",
       "<text text-anchor=\"middle\" x=\"610.293\" y=\"-14.3\" font-family=\"Times New Roman,serif\" font-size=\"14.00\">leaf=0.0144588379</text>\r\n",
       "</g>\r\n",
       "<!-- 4&#45;&gt;10 -->\r\n",
       "<g id=\"edge8\" class=\"edge\"><title>4&#45;&gt;10</title>\r\n",
       "<path fill=\"none\" stroke=\"#ff0000\" d=\"M575.197,-86.799C581.399,-74.8169 589.785,-58.6168 596.805,-45.0569\"/>\r\n",
       "<polygon fill=\"#ff0000\" stroke=\"#ff0000\" points=\"599.913,-46.6651 601.402,-36.1754 593.697,-43.4472 599.913,-46.6651\"/>\r\n",
       "<text text-anchor=\"middle\" x=\"598.793\" y=\"-57.8\" font-family=\"Times New Roman,serif\" font-size=\"14.00\">no</text>\r\n",
       "</g>\r\n",
       "<!-- 11 -->\r\n",
       "<g id=\"node12\" class=\"node\"><title>11</title>\r\n",
       "<ellipse fill=\"none\" stroke=\"black\" cx=\"787.293\" cy=\"-18\" rx=\"79.0865\" ry=\"18\"/>\r\n",
       "<text text-anchor=\"middle\" x=\"787.293\" y=\"-14.3\" font-family=\"Times New Roman,serif\" font-size=\"14.00\">leaf=0.0242248289</text>\r\n",
       "</g>\r\n",
       "<!-- 5&#45;&gt;11 -->\r\n",
       "<g id=\"edge11\" class=\"edge\"><title>5&#45;&gt;11</title>\r\n",
       "<path fill=\"none\" stroke=\"#0000ff\" d=\"M822.389,-86.799C816.186,-74.8169 807.8,-58.6168 800.781,-45.0569\"/>\r\n",
       "<polygon fill=\"#0000ff\" stroke=\"#0000ff\" points=\"803.889,-43.4472 796.184,-36.1754 797.673,-46.6651 803.889,-43.4472\"/>\r\n",
       "<text text-anchor=\"middle\" x=\"846.793\" y=\"-57.8\" font-family=\"Times New Roman,serif\" font-size=\"14.00\">yes, missing</text>\r\n",
       "</g>\r\n",
       "<!-- 12 -->\r\n",
       "<g id=\"node13\" class=\"node\"><title>12</title>\r\n",
       "<ellipse fill=\"none\" stroke=\"black\" cx=\"964.293\" cy=\"-18\" rx=\"79.0865\" ry=\"18\"/>\r\n",
       "<text text-anchor=\"middle\" x=\"964.293\" y=\"-14.3\" font-family=\"Times New Roman,serif\" font-size=\"14.00\">leaf=0.0188046657</text>\r\n",
       "</g>\r\n",
       "<!-- 5&#45;&gt;12 -->\r\n",
       "<g id=\"edge12\" class=\"edge\"><title>5&#45;&gt;12</title>\r\n",
       "<path fill=\"none\" stroke=\"#ff0000\" d=\"M856.622,-87.8121C877.607,-74.4007 907.61,-55.2262 930.616,-40.5227\"/>\r\n",
       "<polygon fill=\"#ff0000\" stroke=\"#ff0000\" points=\"932.517,-43.462 939.058,-35.1277 928.747,-37.5637 932.517,-43.462\"/>\r\n",
       "<text text-anchor=\"middle\" x=\"913.793\" y=\"-57.8\" font-family=\"Times New Roman,serif\" font-size=\"14.00\">no</text>\r\n",
       "</g>\r\n",
       "<!-- 13 -->\r\n",
       "<g id=\"node14\" class=\"node\"><title>13</title>\r\n",
       "<ellipse fill=\"none\" stroke=\"black\" cx=\"1141.29\" cy=\"-18\" rx=\"79.0865\" ry=\"18\"/>\r\n",
       "<text text-anchor=\"middle\" x=\"1141.29\" y=\"-14.3\" font-family=\"Times New Roman,serif\" font-size=\"14.00\">leaf=0.0896551758</text>\r\n",
       "</g>\r\n",
       "<!-- 6&#45;&gt;13 -->\r\n",
       "<g id=\"edge13\" class=\"edge\"><title>6&#45;&gt;13</title>\r\n",
       "<path fill=\"none\" stroke=\"#0000ff\" d=\"M1141.29,-86.799C1141.29,-75.1626 1141.29,-59.5479 1141.29,-46.2368\"/>\r\n",
       "<polygon fill=\"#0000ff\" stroke=\"#0000ff\" points=\"1144.79,-46.1754 1141.29,-36.1754 1137.79,-46.1755 1144.79,-46.1754\"/>\r\n",
       "<text text-anchor=\"middle\" x=\"1175.79\" y=\"-57.8\" font-family=\"Times New Roman,serif\" font-size=\"14.00\">yes, missing</text>\r\n",
       "</g>\r\n",
       "<!-- 14 -->\r\n",
       "<g id=\"node15\" class=\"node\"><title>14</title>\r\n",
       "<ellipse fill=\"none\" stroke=\"black\" cx=\"1318.29\" cy=\"-18\" rx=\"79.0865\" ry=\"18\"/>\r\n",
       "<text text-anchor=\"middle\" x=\"1318.29\" y=\"-14.3\" font-family=\"Times New Roman,serif\" font-size=\"14.00\">leaf=0.0259421971</text>\r\n",
       "</g>\r\n",
       "<!-- 6&#45;&gt;14 -->\r\n",
       "<g id=\"edge14\" class=\"edge\"><title>6&#45;&gt;14</title>\r\n",
       "<path fill=\"none\" stroke=\"#ff0000\" d=\"M1174,-88.3268C1186.6,-82.2891 1201.12,-75.3265 1214.29,-69 1234.94,-59.0894 1257.88,-48.0616 1276.95,-38.8897\"/>\r\n",
       "<polygon fill=\"#ff0000\" stroke=\"#ff0000\" points=\"1278.48,-42.0376 1285.97,-34.5492 1275.44,-35.7293 1278.48,-42.0376\"/>\r\n",
       "<text text-anchor=\"middle\" x=\"1250.79\" y=\"-57.8\" font-family=\"Times New Roman,serif\" font-size=\"14.00\">no</text>\r\n",
       "</g>\r\n",
       "</g>\r\n",
       "</svg>\r\n"
      ],
      "text/plain": [
       "<graphviz.dot.Digraph at 0x19860bff148>"
      ]
     },
     "execution_count": 129,
     "metadata": {},
     "output_type": "execute_result"
    }
   ],
   "source": [
    "xgb.to_graphviz(xgb_wrapper, num_trees=3)"
   ]
  },
  {
   "cell_type": "markdown",
   "metadata": {},
   "source": [
    "#### Evaluation"
   ]
  },
  {
   "cell_type": "markdown",
   "metadata": {},
   "source": [
    "이제 Uplift Score가 고객들을 잘 분류해내고 있는지 평가해야합니다. <br> 사실 Uplift Model을 평가하는 것을 굉장히 어려우나 간단하게 \n",
    "Uplift score 상위 25%의 고객의 ATE와 하위 25%고객의 ATE를 비교해보겠습니다. <br> 잘 분류해냈다면 상위 25% 고객의 ATE가 더 크게 나오게 될 것입니다.\n",
    "<br>\n",
    "각 수치를 딕셔너리로 담아 데이터프레임으로 만들어 보기 좋게 만들었습니다"
   ]
  },
  {
   "cell_type": "code",
   "execution_count": 130,
   "metadata": {},
   "outputs": [],
   "source": [
    "import pandas as pd "
   ]
  },
  {
   "cell_type": "code",
   "execution_count": 131,
   "metadata": {},
   "outputs": [],
   "source": [
    "xgb_atelist = {}\n",
    "\n",
    "num = 0\n",
    "\n",
    "def cal_uplift_eval(df):   \n",
    "    \n",
    "    global num \n",
    "    # 이후 계산을 위해 평균을 계산합니다.\n",
    "    treatment_conv_mean = df[df.treatment == 1]['target_conversion'].mean()\n",
    "    control_conv_mean = df[df.treatment == 0]['target_conversion'].mean()\n",
    "    \n",
    "    # 차이 계산(횟수)\n",
    "    treatment_conv_ate = treatment_conv_mean - control_conv_mean\n",
    "    \n",
    "    # 광고를 받은 집단과 그렇지 않은 집단 간의 사이트 방문횟수의 차이를 계산합니다.\n",
    "    treatment_visit = df[df.treatment == 1]['target_visit'].mean()\n",
    "    control_visit = df[df.treatment == 0]['target_visit'].mean()\n",
    "    \n",
    "    treatment_visit_ate = treatment_visit - control_visit\n",
    "    \n",
    "    # 각 집단에 속한 사람들의 평균 Conversion의 차이에 각 집단이 속한 사람들이 평균적으로 \n",
    "    # 지출한 금액을 곱해 광고를 받은 집단이 얼마나 더 많은 지출을 하였는지 계산합니다.\n",
    "    treatment_order = treatment_conv_mean*len(df[df.treatment == 1]['target_conversion'])\n",
    "    treatment_avg_spend = df[df.treatment==1]['target_spend'].mean()\n",
    "    \n",
    "    treatment_spend_ate = treatment_order*treatment_avg_spend\n",
    "    \n",
    "    print(f\"Treatment Conversion ATE : {treatment_conv_ate:.03f}\")\n",
    "    print(f\"Treatment Visit ATE : {treatment_visit_ate :.03f}\")\n",
    "    print(f\"Treatment Spend ATE : ${treatment_spend_ate :.03f}\")\n",
    "    \n",
    "    xgb_atelist[num] = {'Treatment Conversion ATE': treatment_conv_ate,'Treatment Visit ATE': treatment_visit_ate, 'Treatment Spend ATE':treatment_spend_ate}\n",
    "    \n",
    "    num = num + 1\n"
   ]
  },
  {
   "cell_type": "code",
   "execution_count": 132,
   "metadata": {},
   "outputs": [
    {
     "name": "stdout",
     "output_type": "stream",
     "text": [
      "Treatment Conversion ATE : 0.009\n",
      "Treatment Visit ATE : 0.052\n",
      "Treatment Spend ATE : $152.001\n"
     ]
    }
   ],
   "source": [
    "data_lift = result_dataset.copy()\n",
    "uplift_q_75 = data_lift.uplift_score.quantile(0.75)\n",
    "eval_75 = data_lift[data_lift.uplift_score >= uplift_q_75]\n",
    "\n",
    "cal_uplift_eval(eval_75)"
   ]
  },
  {
   "cell_type": "code",
   "execution_count": 133,
   "metadata": {},
   "outputs": [
    {
     "name": "stdout",
     "output_type": "stream",
     "text": [
      "Treatment Conversion ATE : 0.001\n",
      "Treatment Visit ATE : 0.069\n",
      "Treatment Spend ATE : $89.690\n"
     ]
    }
   ],
   "source": [
    "uplift_q_25 = data_lift.uplift_score.quantile(0.25)\n",
    "eval_25 = data_lift[data_lift.uplift_score <= uplift_q_25]\n",
    "\n",
    "cal_uplift_eval(eval_25)"
   ]
  },
  {
   "cell_type": "code",
   "execution_count": 134,
   "metadata": {},
   "outputs": [
    {
     "data": {
      "text/plain": [
       "{0: {'Treatment Conversion ATE': 0.0073274834729761444,\n",
       "  'Treatment Visit ATE': 0.062297213137904525,\n",
       "  'Treatment Spend ATE': 197.43375593220335},\n",
       " 1: {'Treatment Conversion ATE': 0.0009299177234389448,\n",
       "  'Treatment Visit ATE': 0.05130570832139163,\n",
       "  'Treatment Spend ATE': 73.86908268360764}}"
      ]
     },
     "execution_count": 134,
     "metadata": {},
     "output_type": "execute_result"
    }
   ],
   "source": [
    "ate_list"
   ]
  },
  {
   "cell_type": "code",
   "execution_count": 135,
   "metadata": {},
   "outputs": [
    {
     "data": {
      "text/html": [
       "<div>\n",
       "<style scoped>\n",
       "    .dataframe tbody tr th:only-of-type {\n",
       "        vertical-align: middle;\n",
       "    }\n",
       "\n",
       "    .dataframe tbody tr th {\n",
       "        vertical-align: top;\n",
       "    }\n",
       "\n",
       "    .dataframe thead th {\n",
       "        text-align: right;\n",
       "    }\n",
       "</style>\n",
       "<table border=\"1\" class=\"dataframe\">\n",
       "  <thead>\n",
       "    <tr style=\"text-align: right;\">\n",
       "      <th></th>\n",
       "      <th>Treatment Conversion ATE</th>\n",
       "      <th>Treatment Visit ATE</th>\n",
       "      <th>Treatment Spend ATE</th>\n",
       "    </tr>\n",
       "  </thead>\n",
       "  <tbody>\n",
       "    <tr>\n",
       "      <th>up q75</th>\n",
       "      <td>0.00733</td>\n",
       "      <td>0.06230</td>\n",
       "      <td>197.43376</td>\n",
       "    </tr>\n",
       "    <tr>\n",
       "      <th>down q25</th>\n",
       "      <td>0.00093</td>\n",
       "      <td>0.05131</td>\n",
       "      <td>73.86908</td>\n",
       "    </tr>\n",
       "  </tbody>\n",
       "</table>\n",
       "</div>"
      ],
      "text/plain": [
       "          Treatment Conversion ATE  Treatment Visit ATE  Treatment Spend ATE\n",
       "up q75                     0.00733              0.06230            197.43376\n",
       "down q25                   0.00093              0.05131             73.86908"
      ]
     },
     "execution_count": 135,
     "metadata": {},
     "output_type": "execute_result"
    }
   ],
   "source": [
    "df_ate = pd.DataFrame.from_dict(ate_list)\n",
    "df_ate=df_ate.T\n",
    "df_ate.rename(index = {0:'up q75',1:'down q25'}, inplace = True)\n",
    "df_ate"
   ]
  },
  {
   "cell_type": "markdown",
   "metadata": {},
   "source": [
    "**Explanation** \n",
    "    \n",
    "1. 구매 전환율을 보았을 때 상위 25%가 하위 25%보다 약 0.007 가량 높은 것을 확인 할 수 있었습니다.<br> 특히, 하위 25% 의 경우 오히려 광고를 진행했을 경우 구매 전환율이 0에 가깝게} 나타나는 것으로 보아 광고 비용이 상위보다 거의 효과가 없을 수 있다는 것을 유추할 수 있습니다.\n",
    "2. 광고 진행 시 소비 금액을 비교해보았을 때 상위 25%가 하위 25%에 비해 약 120달러 정도 높은 것을 알 수 있습니다. \n",
    "3. 광고 진행시 하위 25%가 상위 25% 보다 방문률도 낮게 나타나는 것을 알 수 있습니다.  <br> 다만, 여러차례 Xgboost를 학습해본 결과 방문률은 하위 25%가 더 높게 나타날 때도 있었습니다. 하지만 하위 25%가 상위25%보다 소비금액과 구매전환율이 낮은 것을 보아 방문 시 구매로 이어지는 것은 아니라는 것을 유추할 수 있습니다."
   ]
  },
  {
   "cell_type": "code",
   "execution_count": 136,
   "metadata": {},
   "outputs": [
    {
     "data": {
      "text/plain": [
       "<matplotlib.axes._subplots.AxesSubplot at 0x19860bc5548>"
      ]
     },
     "execution_count": 136,
     "metadata": {},
     "output_type": "execute_result"
    },
    {
     "data": {
      "image/png": "[encoded data removed]",
      "text/plain": [
       "<Figure size 432x288 with 1 Axes>"
      ]
     },
     "metadata": {
      "needs_background": "light"
     },
     "output_type": "display_data"
    }
   ],
   "source": [
    "sns.lineplot(data=df_ate['Treatment Conversion ATE'])"
   ]
  },
  {
   "cell_type": "code",
   "execution_count": 137,
   "metadata": {},
   "outputs": [
    {
     "data": {
      "text/plain": [
       "<matplotlib.axes._subplots.AxesSubplot at 0x19860bb0088>"
      ]
     },
     "execution_count": 137,
     "metadata": {},
     "output_type": "execute_result"
    },
    {
     "data": {
      "image/png": "[encoded data removed]",
      "text/plain": [
       "<Figure size 432x288 with 1 Axes>"
      ]
     },
     "metadata": {
      "needs_background": "light"
     },
     "output_type": "display_data"
    }
   ],
   "source": [
    "sns.lineplot(data=df_ate['Treatment Visit ATE'])"
   ]
  },
  {
   "cell_type": "code",
   "execution_count": 138,
   "metadata": {},
   "outputs": [
    {
     "data": {
      "text/plain": [
       "<matplotlib.axes._subplots.AxesSubplot at 0x19861ff8688>"
      ]
     },
     "execution_count": 138,
     "metadata": {},
     "output_type": "execute_result"
    },
    {
     "data": {
      "image/png": "[encoded data removed]",
      "text/plain": [
       "<Figure size 432x288 with 1 Axes>"
      ]
     },
     "metadata": {
      "needs_background": "light"
     },
     "output_type": "display_data"
    }
   ],
   "source": [
    "sns.lineplot(data=df_ate['Treatment Spend ATE'])"
   ]
  }
 ],
 "metadata": {
  "kernelspec": {
   "display_name": "Python 3",
   "language": "python",
   "name": "python3"
  },
  "language_info": {
   "codemirror_mode": {
    "name": "ipython",
    "version": 3
   },
   "file_extension": ".py",
   "mimetype": "text/x-python",
   "name": "python",
   "nbconvert_exporter": "python",
   "pygments_lexer": "ipython3",
   "version": "3.7.6"
  },
  "latex_envs": {
   "LaTeX_envs_menu_present": true,
   "autoclose": false,
   "autocomplete": true,
   "bibliofile": "biblio.bib",
   "cite_by": "apalike",
   "current_citInitial": 1,
   "eqLabelWithNumbers": true,
   "eqNumInitial": 1,
   "hotkeys": {
    "equation": "Ctrl-E",
    "itemize": "Ctrl-I"
   },
   "labels_anchors": false,
   "latex_user_defs": false,
   "report_style_numbering": false,
   "user_envs_cfg": false
  },
  "toc": {
   "base_numbering": 1,
   "nav_menu": {},
   "number_sections": true,
   "sideBar": true,
   "skip_h1_title": false,
   "title_cell": "Table of Contents",
   "title_sidebar": "Contents",
   "toc_cell": false,
   "toc_position": {},
   "toc_section_display": true,
   "toc_window_display": true
  }
 },
 "nbformat": 4,
 "nbformat_minor": 4
}
